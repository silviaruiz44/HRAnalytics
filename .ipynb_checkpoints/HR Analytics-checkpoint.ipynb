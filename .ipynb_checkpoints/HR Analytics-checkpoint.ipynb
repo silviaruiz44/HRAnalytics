{
 "cells": [
  {
   "cell_type": "code",
   "execution_count": 2,
   "metadata": {},
   "outputs": [
    {
     "name": "stderr",
     "output_type": "stream",
     "text": [
      "┌ Info: Recompiling stale cache file /Users/principal/.julia/compiled/v1.2/CSV/HHBkp.ji for CSV [336ed68f-0bac-5ca0-87d4-7b16caf5d00b]\n",
      "└ @ Base loading.jl:1240\n"
     ]
    }
   ],
   "source": [
    "using Random\n",
    "Random.seed!(13)\n",
    "\n",
    "using CSV\n",
    "using Plots\n",
    "using DataFrames\n",
    "using Statistics"
   ]
  },
  {
   "cell_type": "code",
   "execution_count": 3,
   "metadata": {},
   "outputs": [
    {
     "data": {
      "text/html": [
       "<table class=\"data-frame\"><thead><tr><th></th><th>EmployeeID</th><th>JobInvolvement</th><th>PerformanceRating</th></tr><tr><th></th><th>Int64</th><th>Int64</th><th>Int64</th></tr></thead><tbody><p>4,410 rows × 3 columns</p><tr><th>1</th><td>1</td><td>3</td><td>3</td></tr><tr><th>2</th><td>2</td><td>2</td><td>4</td></tr><tr><th>3</th><td>3</td><td>3</td><td>3</td></tr><tr><th>4</th><td>4</td><td>2</td><td>3</td></tr><tr><th>5</th><td>5</td><td>3</td><td>3</td></tr><tr><th>6</th><td>6</td><td>3</td><td>3</td></tr><tr><th>7</th><td>7</td><td>3</td><td>4</td></tr><tr><th>8</th><td>8</td><td>3</td><td>4</td></tr><tr><th>9</th><td>9</td><td>3</td><td>4</td></tr><tr><th>10</th><td>10</td><td>3</td><td>3</td></tr><tr><th>11</th><td>11</td><td>2</td><td>3</td></tr><tr><th>12</th><td>12</td><td>3</td><td>3</td></tr><tr><th>13</th><td>13</td><td>3</td><td>3</td></tr><tr><th>14</th><td>14</td><td>2</td><td>3</td></tr><tr><th>15</th><td>15</td><td>3</td><td>3</td></tr><tr><th>16</th><td>16</td><td>3</td><td>3</td></tr><tr><th>17</th><td>17</td><td>2</td><td>3</td></tr><tr><th>18</th><td>18</td><td>3</td><td>3</td></tr><tr><th>19</th><td>19</td><td>2</td><td>3</td></tr><tr><th>20</th><td>20</td><td>3</td><td>3</td></tr><tr><th>21</th><td>21</td><td>3</td><td>3</td></tr><tr><th>22</th><td>22</td><td>2</td><td>4</td></tr><tr><th>23</th><td>23</td><td>3</td><td>3</td></tr><tr><th>24</th><td>24</td><td>1</td><td>3</td></tr><tr><th>25</th><td>25</td><td>3</td><td>3</td></tr><tr><th>26</th><td>26</td><td>3</td><td>3</td></tr><tr><th>27</th><td>27</td><td>3</td><td>4</td></tr><tr><th>28</th><td>28</td><td>3</td><td>3</td></tr><tr><th>29</th><td>29</td><td>2</td><td>3</td></tr><tr><th>30</th><td>30</td><td>2</td><td>3</td></tr><tr><th>&vellip;</th><td>&vellip;</td><td>&vellip;</td><td>&vellip;</td></tr></tbody></table>"
      ],
      "text/latex": [
       "\\begin{tabular}{r|ccc}\n",
       "\t& EmployeeID & JobInvolvement & PerformanceRating\\\\\n",
       "\t\\hline\n",
       "\t& Int64 & Int64 & Int64\\\\\n",
       "\t\\hline\n",
       "\t1 & 1 & 3 & 3 \\\\\n",
       "\t2 & 2 & 2 & 4 \\\\\n",
       "\t3 & 3 & 3 & 3 \\\\\n",
       "\t4 & 4 & 2 & 3 \\\\\n",
       "\t5 & 5 & 3 & 3 \\\\\n",
       "\t6 & 6 & 3 & 3 \\\\\n",
       "\t7 & 7 & 3 & 4 \\\\\n",
       "\t8 & 8 & 3 & 4 \\\\\n",
       "\t9 & 9 & 3 & 4 \\\\\n",
       "\t10 & 10 & 3 & 3 \\\\\n",
       "\t11 & 11 & 2 & 3 \\\\\n",
       "\t12 & 12 & 3 & 3 \\\\\n",
       "\t13 & 13 & 3 & 3 \\\\\n",
       "\t14 & 14 & 2 & 3 \\\\\n",
       "\t15 & 15 & 3 & 3 \\\\\n",
       "\t16 & 16 & 3 & 3 \\\\\n",
       "\t17 & 17 & 2 & 3 \\\\\n",
       "\t18 & 18 & 3 & 3 \\\\\n",
       "\t19 & 19 & 2 & 3 \\\\\n",
       "\t20 & 20 & 3 & 3 \\\\\n",
       "\t21 & 21 & 3 & 3 \\\\\n",
       "\t22 & 22 & 2 & 4 \\\\\n",
       "\t23 & 23 & 3 & 3 \\\\\n",
       "\t24 & 24 & 1 & 3 \\\\\n",
       "\t25 & 25 & 3 & 3 \\\\\n",
       "\t26 & 26 & 3 & 3 \\\\\n",
       "\t27 & 27 & 3 & 4 \\\\\n",
       "\t28 & 28 & 3 & 3 \\\\\n",
       "\t29 & 29 & 2 & 3 \\\\\n",
       "\t30 & 30 & 2 & 3 \\\\\n",
       "\t$\\dots$ & $\\dots$ & $\\dots$ & $\\dots$ \\\\\n",
       "\\end{tabular}\n"
      ],
      "text/plain": [
       "4410×3 DataFrame\n",
       "│ Row  │ EmployeeID │ JobInvolvement │ PerformanceRating │\n",
       "│      │ \u001b[90mInt64\u001b[39m      │ \u001b[90mInt64\u001b[39m          │ \u001b[90mInt64\u001b[39m             │\n",
       "├──────┼────────────┼────────────────┼───────────────────┤\n",
       "│ 1    │ 1          │ 3              │ 3                 │\n",
       "│ 2    │ 2          │ 2              │ 4                 │\n",
       "│ 3    │ 3          │ 3              │ 3                 │\n",
       "│ 4    │ 4          │ 2              │ 3                 │\n",
       "│ 5    │ 5          │ 3              │ 3                 │\n",
       "│ 6    │ 6          │ 3              │ 3                 │\n",
       "│ 7    │ 7          │ 3              │ 4                 │\n",
       "│ 8    │ 8          │ 3              │ 4                 │\n",
       "│ 9    │ 9          │ 3              │ 4                 │\n",
       "│ 10   │ 10         │ 3              │ 3                 │\n",
       "⋮\n",
       "│ 4400 │ 4400       │ 2              │ 3                 │\n",
       "│ 4401 │ 4401       │ 3              │ 3                 │\n",
       "│ 4402 │ 4402       │ 2              │ 3                 │\n",
       "│ 4403 │ 4403       │ 3              │ 3                 │\n",
       "│ 4404 │ 4404       │ 3              │ 3                 │\n",
       "│ 4405 │ 4405       │ 2              │ 3                 │\n",
       "│ 4406 │ 4406       │ 3              │ 3                 │\n",
       "│ 4407 │ 4407       │ 2              │ 3                 │\n",
       "│ 4408 │ 4408       │ 3              │ 4                 │\n",
       "│ 4409 │ 4409       │ 2              │ 3                 │\n",
       "│ 4410 │ 4410       │ 4              │ 3                 │"
      ]
     },
     "execution_count": 3,
     "metadata": {},
     "output_type": "execute_result"
    }
   ],
   "source": [
    "employee=CSV.read(\"employee_survey_data.csv\")\n",
    "general=CSV.read(\"general_data.csv\")\n",
    "#in_time=CSV.read(\"in_time.csv\")\n",
    "#out_time=CSV.read(\"out_time.csv\")\n",
    "manager=CSV.read(\"manager_survey_data.csv\")"
   ]
  },
  {
   "cell_type": "code",
   "execution_count": 9,
   "metadata": {},
   "outputs": [
    {
     "data": {
      "text/html": [
       "<table class=\"data-frame\"><thead><tr><th></th><th>EmployeeID</th><th>JobInvolvement</th><th>PerformanceRating</th><th>EnvironmentSatisfaction</th><th>JobSatisfaction</th></tr><tr><th></th><th>Int64</th><th>Int64</th><th>Int64</th><th>String</th><th>String</th></tr></thead><tbody><p>4,410 rows × 29 columns (omitted printing of 24 columns)</p><tr><th>1</th><td>1</td><td>3</td><td>3</td><td>3</td><td>4</td></tr><tr><th>2</th><td>2</td><td>2</td><td>4</td><td>3</td><td>2</td></tr><tr><th>3</th><td>3</td><td>3</td><td>3</td><td>2</td><td>2</td></tr><tr><th>4</th><td>4</td><td>2</td><td>3</td><td>4</td><td>4</td></tr><tr><th>5</th><td>5</td><td>3</td><td>3</td><td>4</td><td>1</td></tr><tr><th>6</th><td>6</td><td>3</td><td>3</td><td>3</td><td>2</td></tr><tr><th>7</th><td>7</td><td>3</td><td>4</td><td>1</td><td>3</td></tr><tr><th>8</th><td>8</td><td>3</td><td>4</td><td>1</td><td>2</td></tr><tr><th>9</th><td>9</td><td>3</td><td>4</td><td>2</td><td>4</td></tr><tr><th>10</th><td>10</td><td>3</td><td>3</td><td>2</td><td>1</td></tr><tr><th>11</th><td>11</td><td>2</td><td>3</td><td>3</td><td>4</td></tr><tr><th>12</th><td>12</td><td>3</td><td>3</td><td>NA</td><td>4</td></tr><tr><th>13</th><td>13</td><td>3</td><td>3</td><td>4</td><td>1</td></tr><tr><th>14</th><td>14</td><td>2</td><td>3</td><td>1</td><td>2</td></tr><tr><th>15</th><td>15</td><td>3</td><td>3</td><td>4</td><td>4</td></tr><tr><th>16</th><td>16</td><td>3</td><td>3</td><td>3</td><td>4</td></tr><tr><th>17</th><td>17</td><td>2</td><td>3</td><td>4</td><td>3</td></tr><tr><th>18</th><td>18</td><td>3</td><td>3</td><td>1</td><td>4</td></tr><tr><th>19</th><td>19</td><td>2</td><td>3</td><td>2</td><td>2</td></tr><tr><th>20</th><td>20</td><td>3</td><td>3</td><td>1</td><td>1</td></tr><tr><th>21</th><td>21</td><td>3</td><td>3</td><td>3</td><td>2</td></tr><tr><th>22</th><td>22</td><td>2</td><td>4</td><td>1</td><td>2</td></tr><tr><th>23</th><td>23</td><td>3</td><td>3</td><td>3</td><td>3</td></tr><tr><th>24</th><td>24</td><td>1</td><td>3</td><td>2</td><td>3</td></tr><tr><th>25</th><td>25</td><td>3</td><td>3</td><td>2</td><td>4</td></tr><tr><th>26</th><td>26</td><td>3</td><td>3</td><td>2</td><td>4</td></tr><tr><th>27</th><td>27</td><td>3</td><td>4</td><td>1</td><td>1</td></tr><tr><th>28</th><td>28</td><td>3</td><td>3</td><td>4</td><td>4</td></tr><tr><th>29</th><td>29</td><td>2</td><td>3</td><td>4</td><td>3</td></tr><tr><th>30</th><td>30</td><td>2</td><td>3</td><td>4</td><td>4</td></tr><tr><th>&vellip;</th><td>&vellip;</td><td>&vellip;</td><td>&vellip;</td><td>&vellip;</td><td>&vellip;</td></tr></tbody></table>"
      ],
      "text/latex": [
       "\\begin{tabular}{r|cccccc}\n",
       "\t& EmployeeID & JobInvolvement & PerformanceRating & EnvironmentSatisfaction & JobSatisfaction & \\\\\n",
       "\t\\hline\n",
       "\t& Int64 & Int64 & Int64 & String & String & \\\\\n",
       "\t\\hline\n",
       "\t1 & 1 & 3 & 3 & 3 & 4 & $\\dots$ \\\\\n",
       "\t2 & 2 & 2 & 4 & 3 & 2 & $\\dots$ \\\\\n",
       "\t3 & 3 & 3 & 3 & 2 & 2 & $\\dots$ \\\\\n",
       "\t4 & 4 & 2 & 3 & 4 & 4 & $\\dots$ \\\\\n",
       "\t5 & 5 & 3 & 3 & 4 & 1 & $\\dots$ \\\\\n",
       "\t6 & 6 & 3 & 3 & 3 & 2 & $\\dots$ \\\\\n",
       "\t7 & 7 & 3 & 4 & 1 & 3 & $\\dots$ \\\\\n",
       "\t8 & 8 & 3 & 4 & 1 & 2 & $\\dots$ \\\\\n",
       "\t9 & 9 & 3 & 4 & 2 & 4 & $\\dots$ \\\\\n",
       "\t10 & 10 & 3 & 3 & 2 & 1 & $\\dots$ \\\\\n",
       "\t11 & 11 & 2 & 3 & 3 & 4 & $\\dots$ \\\\\n",
       "\t12 & 12 & 3 & 3 & NA & 4 & $\\dots$ \\\\\n",
       "\t13 & 13 & 3 & 3 & 4 & 1 & $\\dots$ \\\\\n",
       "\t14 & 14 & 2 & 3 & 1 & 2 & $\\dots$ \\\\\n",
       "\t15 & 15 & 3 & 3 & 4 & 4 & $\\dots$ \\\\\n",
       "\t16 & 16 & 3 & 3 & 3 & 4 & $\\dots$ \\\\\n",
       "\t17 & 17 & 2 & 3 & 4 & 3 & $\\dots$ \\\\\n",
       "\t18 & 18 & 3 & 3 & 1 & 4 & $\\dots$ \\\\\n",
       "\t19 & 19 & 2 & 3 & 2 & 2 & $\\dots$ \\\\\n",
       "\t20 & 20 & 3 & 3 & 1 & 1 & $\\dots$ \\\\\n",
       "\t21 & 21 & 3 & 3 & 3 & 2 & $\\dots$ \\\\\n",
       "\t22 & 22 & 2 & 4 & 1 & 2 & $\\dots$ \\\\\n",
       "\t23 & 23 & 3 & 3 & 3 & 3 & $\\dots$ \\\\\n",
       "\t24 & 24 & 1 & 3 & 2 & 3 & $\\dots$ \\\\\n",
       "\t25 & 25 & 3 & 3 & 2 & 4 & $\\dots$ \\\\\n",
       "\t26 & 26 & 3 & 3 & 2 & 4 & $\\dots$ \\\\\n",
       "\t27 & 27 & 3 & 4 & 1 & 1 & $\\dots$ \\\\\n",
       "\t28 & 28 & 3 & 3 & 4 & 4 & $\\dots$ \\\\\n",
       "\t29 & 29 & 2 & 3 & 4 & 3 & $\\dots$ \\\\\n",
       "\t30 & 30 & 2 & 3 & 4 & 4 & $\\dots$ \\\\\n",
       "\t$\\dots$ & $\\dots$ & $\\dots$ & $\\dots$ & $\\dots$ & $\\dots$ &  \\\\\n",
       "\\end{tabular}\n"
      ],
      "text/plain": [
       "4410×29 DataFrame. Omitted printing of 26 columns\n",
       "│ Row  │ EmployeeID │ JobInvolvement │ PerformanceRating │\n",
       "│      │ \u001b[90mInt64\u001b[39m      │ \u001b[90mInt64\u001b[39m          │ \u001b[90mInt64\u001b[39m             │\n",
       "├──────┼────────────┼────────────────┼───────────────────┤\n",
       "│ 1    │ 1          │ 3              │ 3                 │\n",
       "│ 2    │ 2          │ 2              │ 4                 │\n",
       "│ 3    │ 3          │ 3              │ 3                 │\n",
       "│ 4    │ 4          │ 2              │ 3                 │\n",
       "│ 5    │ 5          │ 3              │ 3                 │\n",
       "│ 6    │ 6          │ 3              │ 3                 │\n",
       "│ 7    │ 7          │ 3              │ 4                 │\n",
       "│ 8    │ 8          │ 3              │ 4                 │\n",
       "│ 9    │ 9          │ 3              │ 4                 │\n",
       "│ 10   │ 10         │ 3              │ 3                 │\n",
       "⋮\n",
       "│ 4400 │ 4400       │ 2              │ 3                 │\n",
       "│ 4401 │ 4401       │ 3              │ 3                 │\n",
       "│ 4402 │ 4402       │ 2              │ 3                 │\n",
       "│ 4403 │ 4403       │ 3              │ 3                 │\n",
       "│ 4404 │ 4404       │ 3              │ 3                 │\n",
       "│ 4405 │ 4405       │ 2              │ 3                 │\n",
       "│ 4406 │ 4406       │ 3              │ 3                 │\n",
       "│ 4407 │ 4407       │ 2              │ 3                 │\n",
       "│ 4408 │ 4408       │ 3              │ 4                 │\n",
       "│ 4409 │ 4409       │ 2              │ 3                 │\n",
       "│ 4410 │ 4410       │ 4              │ 3                 │"
      ]
     },
     "execution_count": 9,
     "metadata": {},
     "output_type": "execute_result"
    }
   ],
   "source": [
    "full = join(manager, employee, on = :EmployeeID)\n",
    "df=join(full, general , on = :EmployeeID)"
   ]
  },
  {
   "cell_type": "code",
   "execution_count": 11,
   "metadata": {},
   "outputs": [
    {
     "name": "stdout",
     "output_type": "stream",
     "text": [
      "1\tEmployeeID\t\t\tInt64\n",
      "2\tJobInvolvement\t\t\tInt64\n",
      "3\tPerformanceRating\t\t\tInt64\n",
      "4\tEnvironmentSatisfaction\t\t\tString\n",
      "5\tJobSatisfaction\t\t\tString\n",
      "6\tWorkLifeBalance\t\t\tString\n",
      "7\tAge\t\t\tInt64\n",
      "8\tAttrition\t\t\tString\n",
      "9\tBusinessTravel\t\t\tString\n",
      "10\tDepartment\t\t\tString\n",
      "11\tDistanceFromHome\t\t\tInt64\n",
      "12\tEducation\t\t\tInt64\n",
      "13\tEducationField\t\t\tString\n",
      "14\tEmployeeCount\t\t\tInt64\n",
      "15\tGender\t\t\tString\n",
      "16\tJobLevel\t\t\tInt64\n",
      "17\tJobRole\t\t\tString\n",
      "18\tMaritalStatus\t\t\tString\n",
      "19\tMonthlyIncome\t\t\tInt64\n",
      "20\tNumCompaniesWorked\t\t\tString\n",
      "21\tOver18\t\t\tString\n",
      "22\tPercentSalaryHike\t\t\tInt64\n",
      "23\tStandardHours\t\t\tInt64\n",
      "24\tStockOptionLevel\t\t\tInt64\n",
      "25\tTotalWorkingYears\t\t\tString\n",
      "26\tTrainingTimesLastYear\t\t\tInt64\n",
      "27\tYearsAtCompany\t\t\tInt64\n",
      "28\tYearsSinceLastPromotion\t\t\tInt64\n",
      "29\tYearsWithCurrManager\t\t\tInt64\n"
     ]
    }
   ],
   "source": [
    "# let's list all available categories, as well as their datatype using the \"eltype\" function.\n",
    "feature_names = names(df)\n",
    "for i in 1:size(feature_names,1)\n",
    "    println(string(i), \"\\t\", string(feature_names[i]), \"\\t\\t\\t\", string(eltype(df[!, i])))\n",
    "end"
   ]
  }
 ],
 "metadata": {
  "kernelspec": {
   "display_name": "Julia 1.2.0",
   "language": "julia",
   "name": "julia-1.2"
  },
  "language_info": {
   "file_extension": ".jl",
   "mimetype": "application/julia",
   "name": "julia",
   "version": "1.2.0"
  }
 },
 "nbformat": 4,
 "nbformat_minor": 2
}
