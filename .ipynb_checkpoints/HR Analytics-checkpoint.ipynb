{
 "cells": [
  {
   "cell_type": "code",
   "execution_count": 17,
   "metadata": {},
   "outputs": [],
   "source": [
    "using Random\n",
    "Random.seed!(13)\n",
    "\n",
    "using CSV\n",
    "using Plots\n",
    "using DataFrames\n",
    "using Statistics"
   ]
  },
  {
   "cell_type": "code",
   "execution_count": 18,
   "metadata": {},
   "outputs": [
    {
     "data": {
      "text/html": [
       "<table class=\"data-frame\"><thead><tr><th></th><th>EmployeeID</th><th>JobInvolvement</th><th>PerformanceRating</th></tr><tr><th></th><th>Int64</th><th>Int64</th><th>Int64</th></tr></thead><tbody><p>4,410 rows × 3 columns</p><tr><th>1</th><td>1</td><td>3</td><td>3</td></tr><tr><th>2</th><td>2</td><td>2</td><td>4</td></tr><tr><th>3</th><td>3</td><td>3</td><td>3</td></tr><tr><th>4</th><td>4</td><td>2</td><td>3</td></tr><tr><th>5</th><td>5</td><td>3</td><td>3</td></tr><tr><th>6</th><td>6</td><td>3</td><td>3</td></tr><tr><th>7</th><td>7</td><td>3</td><td>4</td></tr><tr><th>8</th><td>8</td><td>3</td><td>4</td></tr><tr><th>9</th><td>9</td><td>3</td><td>4</td></tr><tr><th>10</th><td>10</td><td>3</td><td>3</td></tr><tr><th>11</th><td>11</td><td>2</td><td>3</td></tr><tr><th>12</th><td>12</td><td>3</td><td>3</td></tr><tr><th>13</th><td>13</td><td>3</td><td>3</td></tr><tr><th>14</th><td>14</td><td>2</td><td>3</td></tr><tr><th>15</th><td>15</td><td>3</td><td>3</td></tr><tr><th>16</th><td>16</td><td>3</td><td>3</td></tr><tr><th>17</th><td>17</td><td>2</td><td>3</td></tr><tr><th>18</th><td>18</td><td>3</td><td>3</td></tr><tr><th>19</th><td>19</td><td>2</td><td>3</td></tr><tr><th>20</th><td>20</td><td>3</td><td>3</td></tr><tr><th>21</th><td>21</td><td>3</td><td>3</td></tr><tr><th>22</th><td>22</td><td>2</td><td>4</td></tr><tr><th>23</th><td>23</td><td>3</td><td>3</td></tr><tr><th>24</th><td>24</td><td>1</td><td>3</td></tr><tr><th>25</th><td>25</td><td>3</td><td>3</td></tr><tr><th>26</th><td>26</td><td>3</td><td>3</td></tr><tr><th>27</th><td>27</td><td>3</td><td>4</td></tr><tr><th>28</th><td>28</td><td>3</td><td>3</td></tr><tr><th>29</th><td>29</td><td>2</td><td>3</td></tr><tr><th>30</th><td>30</td><td>2</td><td>3</td></tr><tr><th>&vellip;</th><td>&vellip;</td><td>&vellip;</td><td>&vellip;</td></tr></tbody></table>"
      ],
      "text/latex": [
       "\\begin{tabular}{r|ccc}\n",
       "\t& EmployeeID & JobInvolvement & PerformanceRating\\\\\n",
       "\t\\hline\n",
       "\t& Int64 & Int64 & Int64\\\\\n",
       "\t\\hline\n",
       "\t1 & 1 & 3 & 3 \\\\\n",
       "\t2 & 2 & 2 & 4 \\\\\n",
       "\t3 & 3 & 3 & 3 \\\\\n",
       "\t4 & 4 & 2 & 3 \\\\\n",
       "\t5 & 5 & 3 & 3 \\\\\n",
       "\t6 & 6 & 3 & 3 \\\\\n",
       "\t7 & 7 & 3 & 4 \\\\\n",
       "\t8 & 8 & 3 & 4 \\\\\n",
       "\t9 & 9 & 3 & 4 \\\\\n",
       "\t10 & 10 & 3 & 3 \\\\\n",
       "\t11 & 11 & 2 & 3 \\\\\n",
       "\t12 & 12 & 3 & 3 \\\\\n",
       "\t13 & 13 & 3 & 3 \\\\\n",
       "\t14 & 14 & 2 & 3 \\\\\n",
       "\t15 & 15 & 3 & 3 \\\\\n",
       "\t16 & 16 & 3 & 3 \\\\\n",
       "\t17 & 17 & 2 & 3 \\\\\n",
       "\t18 & 18 & 3 & 3 \\\\\n",
       "\t19 & 19 & 2 & 3 \\\\\n",
       "\t20 & 20 & 3 & 3 \\\\\n",
       "\t21 & 21 & 3 & 3 \\\\\n",
       "\t22 & 22 & 2 & 4 \\\\\n",
       "\t23 & 23 & 3 & 3 \\\\\n",
       "\t24 & 24 & 1 & 3 \\\\\n",
       "\t25 & 25 & 3 & 3 \\\\\n",
       "\t26 & 26 & 3 & 3 \\\\\n",
       "\t27 & 27 & 3 & 4 \\\\\n",
       "\t28 & 28 & 3 & 3 \\\\\n",
       "\t29 & 29 & 2 & 3 \\\\\n",
       "\t30 & 30 & 2 & 3 \\\\\n",
       "\t$\\dots$ & $\\dots$ & $\\dots$ & $\\dots$ \\\\\n",
       "\\end{tabular}\n"
      ],
      "text/plain": [
       "4410×3 DataFrame\n",
       "│ Row  │ EmployeeID │ JobInvolvement │ PerformanceRating │\n",
       "│      │ \u001b[90mInt64\u001b[39m      │ \u001b[90mInt64\u001b[39m          │ \u001b[90mInt64\u001b[39m             │\n",
       "├──────┼────────────┼────────────────┼───────────────────┤\n",
       "│ 1    │ 1          │ 3              │ 3                 │\n",
       "│ 2    │ 2          │ 2              │ 4                 │\n",
       "│ 3    │ 3          │ 3              │ 3                 │\n",
       "│ 4    │ 4          │ 2              │ 3                 │\n",
       "│ 5    │ 5          │ 3              │ 3                 │\n",
       "│ 6    │ 6          │ 3              │ 3                 │\n",
       "│ 7    │ 7          │ 3              │ 4                 │\n",
       "│ 8    │ 8          │ 3              │ 4                 │\n",
       "│ 9    │ 9          │ 3              │ 4                 │\n",
       "│ 10   │ 10         │ 3              │ 3                 │\n",
       "⋮\n",
       "│ 4400 │ 4400       │ 2              │ 3                 │\n",
       "│ 4401 │ 4401       │ 3              │ 3                 │\n",
       "│ 4402 │ 4402       │ 2              │ 3                 │\n",
       "│ 4403 │ 4403       │ 3              │ 3                 │\n",
       "│ 4404 │ 4404       │ 3              │ 3                 │\n",
       "│ 4405 │ 4405       │ 2              │ 3                 │\n",
       "│ 4406 │ 4406       │ 3              │ 3                 │\n",
       "│ 4407 │ 4407       │ 2              │ 3                 │\n",
       "│ 4408 │ 4408       │ 3              │ 4                 │\n",
       "│ 4409 │ 4409       │ 2              │ 3                 │\n",
       "│ 4410 │ 4410       │ 4              │ 3                 │"
      ]
     },
     "execution_count": 18,
     "metadata": {},
     "output_type": "execute_result"
    }
   ],
   "source": [
    "employee=CSV.read(\"employee_survey_data.csv\")\n",
    "general=CSV.read(\"general_data.csv\")\n",
    "#in_time=CSV.read(\"in_time.csv\")\n",
    "#out_time=CSV.read(\"out_time.csv\")\n",
    "manager=CSV.read(\"manager_survey_data.csv\")"
   ]
  },
  {
   "cell_type": "code",
   "execution_count": 19,
   "metadata": {},
   "outputs": [
    {
     "data": {
      "text/html": [
       "<table class=\"data-frame\"><thead><tr><th></th><th>EmployeeID</th><th>JobInvolvement</th><th>PerformanceRating</th><th>EnvironmentSatisfaction</th><th>JobSatisfaction</th></tr><tr><th></th><th>Int64</th><th>Int64</th><th>Int64</th><th>String</th><th>String</th></tr></thead><tbody><p>4,410 rows × 29 columns (omitted printing of 24 columns)</p><tr><th>1</th><td>1</td><td>3</td><td>3</td><td>3</td><td>4</td></tr><tr><th>2</th><td>2</td><td>2</td><td>4</td><td>3</td><td>2</td></tr><tr><th>3</th><td>3</td><td>3</td><td>3</td><td>2</td><td>2</td></tr><tr><th>4</th><td>4</td><td>2</td><td>3</td><td>4</td><td>4</td></tr><tr><th>5</th><td>5</td><td>3</td><td>3</td><td>4</td><td>1</td></tr><tr><th>6</th><td>6</td><td>3</td><td>3</td><td>3</td><td>2</td></tr><tr><th>7</th><td>7</td><td>3</td><td>4</td><td>1</td><td>3</td></tr><tr><th>8</th><td>8</td><td>3</td><td>4</td><td>1</td><td>2</td></tr><tr><th>9</th><td>9</td><td>3</td><td>4</td><td>2</td><td>4</td></tr><tr><th>10</th><td>10</td><td>3</td><td>3</td><td>2</td><td>1</td></tr><tr><th>11</th><td>11</td><td>2</td><td>3</td><td>3</td><td>4</td></tr><tr><th>12</th><td>12</td><td>3</td><td>3</td><td>NA</td><td>4</td></tr><tr><th>13</th><td>13</td><td>3</td><td>3</td><td>4</td><td>1</td></tr><tr><th>14</th><td>14</td><td>2</td><td>3</td><td>1</td><td>2</td></tr><tr><th>15</th><td>15</td><td>3</td><td>3</td><td>4</td><td>4</td></tr><tr><th>16</th><td>16</td><td>3</td><td>3</td><td>3</td><td>4</td></tr><tr><th>17</th><td>17</td><td>2</td><td>3</td><td>4</td><td>3</td></tr><tr><th>18</th><td>18</td><td>3</td><td>3</td><td>1</td><td>4</td></tr><tr><th>19</th><td>19</td><td>2</td><td>3</td><td>2</td><td>2</td></tr><tr><th>20</th><td>20</td><td>3</td><td>3</td><td>1</td><td>1</td></tr><tr><th>21</th><td>21</td><td>3</td><td>3</td><td>3</td><td>2</td></tr><tr><th>22</th><td>22</td><td>2</td><td>4</td><td>1</td><td>2</td></tr><tr><th>23</th><td>23</td><td>3</td><td>3</td><td>3</td><td>3</td></tr><tr><th>24</th><td>24</td><td>1</td><td>3</td><td>2</td><td>3</td></tr><tr><th>25</th><td>25</td><td>3</td><td>3</td><td>2</td><td>4</td></tr><tr><th>26</th><td>26</td><td>3</td><td>3</td><td>2</td><td>4</td></tr><tr><th>27</th><td>27</td><td>3</td><td>4</td><td>1</td><td>1</td></tr><tr><th>28</th><td>28</td><td>3</td><td>3</td><td>4</td><td>4</td></tr><tr><th>29</th><td>29</td><td>2</td><td>3</td><td>4</td><td>3</td></tr><tr><th>30</th><td>30</td><td>2</td><td>3</td><td>4</td><td>4</td></tr><tr><th>&vellip;</th><td>&vellip;</td><td>&vellip;</td><td>&vellip;</td><td>&vellip;</td><td>&vellip;</td></tr></tbody></table>"
      ],
      "text/latex": [
       "\\begin{tabular}{r|cccccc}\n",
       "\t& EmployeeID & JobInvolvement & PerformanceRating & EnvironmentSatisfaction & JobSatisfaction & \\\\\n",
       "\t\\hline\n",
       "\t& Int64 & Int64 & Int64 & String & String & \\\\\n",
       "\t\\hline\n",
       "\t1 & 1 & 3 & 3 & 3 & 4 & $\\dots$ \\\\\n",
       "\t2 & 2 & 2 & 4 & 3 & 2 & $\\dots$ \\\\\n",
       "\t3 & 3 & 3 & 3 & 2 & 2 & $\\dots$ \\\\\n",
       "\t4 & 4 & 2 & 3 & 4 & 4 & $\\dots$ \\\\\n",
       "\t5 & 5 & 3 & 3 & 4 & 1 & $\\dots$ \\\\\n",
       "\t6 & 6 & 3 & 3 & 3 & 2 & $\\dots$ \\\\\n",
       "\t7 & 7 & 3 & 4 & 1 & 3 & $\\dots$ \\\\\n",
       "\t8 & 8 & 3 & 4 & 1 & 2 & $\\dots$ \\\\\n",
       "\t9 & 9 & 3 & 4 & 2 & 4 & $\\dots$ \\\\\n",
       "\t10 & 10 & 3 & 3 & 2 & 1 & $\\dots$ \\\\\n",
       "\t11 & 11 & 2 & 3 & 3 & 4 & $\\dots$ \\\\\n",
       "\t12 & 12 & 3 & 3 & NA & 4 & $\\dots$ \\\\\n",
       "\t13 & 13 & 3 & 3 & 4 & 1 & $\\dots$ \\\\\n",
       "\t14 & 14 & 2 & 3 & 1 & 2 & $\\dots$ \\\\\n",
       "\t15 & 15 & 3 & 3 & 4 & 4 & $\\dots$ \\\\\n",
       "\t16 & 16 & 3 & 3 & 3 & 4 & $\\dots$ \\\\\n",
       "\t17 & 17 & 2 & 3 & 4 & 3 & $\\dots$ \\\\\n",
       "\t18 & 18 & 3 & 3 & 1 & 4 & $\\dots$ \\\\\n",
       "\t19 & 19 & 2 & 3 & 2 & 2 & $\\dots$ \\\\\n",
       "\t20 & 20 & 3 & 3 & 1 & 1 & $\\dots$ \\\\\n",
       "\t21 & 21 & 3 & 3 & 3 & 2 & $\\dots$ \\\\\n",
       "\t22 & 22 & 2 & 4 & 1 & 2 & $\\dots$ \\\\\n",
       "\t23 & 23 & 3 & 3 & 3 & 3 & $\\dots$ \\\\\n",
       "\t24 & 24 & 1 & 3 & 2 & 3 & $\\dots$ \\\\\n",
       "\t25 & 25 & 3 & 3 & 2 & 4 & $\\dots$ \\\\\n",
       "\t26 & 26 & 3 & 3 & 2 & 4 & $\\dots$ \\\\\n",
       "\t27 & 27 & 3 & 4 & 1 & 1 & $\\dots$ \\\\\n",
       "\t28 & 28 & 3 & 3 & 4 & 4 & $\\dots$ \\\\\n",
       "\t29 & 29 & 2 & 3 & 4 & 3 & $\\dots$ \\\\\n",
       "\t30 & 30 & 2 & 3 & 4 & 4 & $\\dots$ \\\\\n",
       "\t$\\dots$ & $\\dots$ & $\\dots$ & $\\dots$ & $\\dots$ & $\\dots$ &  \\\\\n",
       "\\end{tabular}\n"
      ],
      "text/plain": [
       "4410×29 DataFrame. Omitted printing of 26 columns\n",
       "│ Row  │ EmployeeID │ JobInvolvement │ PerformanceRating │\n",
       "│      │ \u001b[90mInt64\u001b[39m      │ \u001b[90mInt64\u001b[39m          │ \u001b[90mInt64\u001b[39m             │\n",
       "├──────┼────────────┼────────────────┼───────────────────┤\n",
       "│ 1    │ 1          │ 3              │ 3                 │\n",
       "│ 2    │ 2          │ 2              │ 4                 │\n",
       "│ 3    │ 3          │ 3              │ 3                 │\n",
       "│ 4    │ 4          │ 2              │ 3                 │\n",
       "│ 5    │ 5          │ 3              │ 3                 │\n",
       "│ 6    │ 6          │ 3              │ 3                 │\n",
       "│ 7    │ 7          │ 3              │ 4                 │\n",
       "│ 8    │ 8          │ 3              │ 4                 │\n",
       "│ 9    │ 9          │ 3              │ 4                 │\n",
       "│ 10   │ 10         │ 3              │ 3                 │\n",
       "⋮\n",
       "│ 4400 │ 4400       │ 2              │ 3                 │\n",
       "│ 4401 │ 4401       │ 3              │ 3                 │\n",
       "│ 4402 │ 4402       │ 2              │ 3                 │\n",
       "│ 4403 │ 4403       │ 3              │ 3                 │\n",
       "│ 4404 │ 4404       │ 3              │ 3                 │\n",
       "│ 4405 │ 4405       │ 2              │ 3                 │\n",
       "│ 4406 │ 4406       │ 3              │ 3                 │\n",
       "│ 4407 │ 4407       │ 2              │ 3                 │\n",
       "│ 4408 │ 4408       │ 3              │ 4                 │\n",
       "│ 4409 │ 4409       │ 2              │ 3                 │\n",
       "│ 4410 │ 4410       │ 4              │ 3                 │"
      ]
     },
     "execution_count": 19,
     "metadata": {},
     "output_type": "execute_result"
    }
   ],
   "source": [
    "full = join(manager, employee, on = :EmployeeID)\n",
    "df=join(full, general , on = :EmployeeID)"
   ]
  },
  {
   "cell_type": "code",
   "execution_count": 20,
   "metadata": {},
   "outputs": [
    {
     "name": "stdout",
     "output_type": "stream",
     "text": [
      "1\tEmployeeID\t\t\tInt64\n",
      "2\tJobInvolvement\t\t\tInt64\n",
      "3\tPerformanceRating\t\t\tInt64\n",
      "4\tEnvironmentSatisfaction\t\t\tString\n",
      "5\tJobSatisfaction\t\t\tString\n",
      "6\tWorkLifeBalance\t\t\tString\n",
      "7\tAge\t\t\tInt64\n",
      "8\tAttrition\t\t\tString\n",
      "9\tBusinessTravel\t\t\tString\n",
      "10\tDepartment\t\t\tString\n",
      "11\tDistanceFromHome\t\t\tInt64\n",
      "12\tEducation\t\t\tInt64\n",
      "13\tEducationField\t\t\tString\n",
      "14\tEmployeeCount\t\t\tInt64\n",
      "15\tGender\t\t\tString\n",
      "16\tJobLevel\t\t\tInt64\n",
      "17\tJobRole\t\t\tString\n",
      "18\tMaritalStatus\t\t\tString\n",
      "19\tMonthlyIncome\t\t\tInt64\n",
      "20\tNumCompaniesWorked\t\t\tString\n",
      "21\tOver18\t\t\tString\n",
      "22\tPercentSalaryHike\t\t\tInt64\n",
      "23\tStandardHours\t\t\tInt64\n",
      "24\tStockOptionLevel\t\t\tInt64\n",
      "25\tTotalWorkingYears\t\t\tString\n",
      "26\tTrainingTimesLastYear\t\t\tInt64\n",
      "27\tYearsAtCompany\t\t\tInt64\n",
      "28\tYearsSinceLastPromotion\t\t\tInt64\n",
      "29\tYearsWithCurrManager\t\t\tInt64\n"
     ]
    }
   ],
   "source": [
    "# let's list all available categories, as well as their datatype using the \"eltype\" function.\n",
    "feature_names = names(df)\n",
    "for i in 1:size(feature_names,1)\n",
    "    println(string(i), \"\\t\", string(feature_names[i]), \"\\t\\t\\t\", string(eltype(df[!, i])))\n",
    "end"
   ]
  },
  {
   "cell_type": "code",
   "execution_count": 21,
   "metadata": {},
   "outputs": [
    {
     "name": "stderr",
     "output_type": "stream",
     "text": [
      "┌ Warning: `delete!(df::AbstractDataFrame, cols::Any)` is deprecated, use `select!(df, Not(cols))` instead.\n",
      "│   caller = top-level scope at In[21]:2\n",
      "└ @ Core In[21]:2\n",
      "┌ Warning: `delete!(df::AbstractDataFrame, cols::Any)` is deprecated, use `select!(df, Not(cols))` instead.\n",
      "│   caller = top-level scope at In[21]:3\n",
      "└ @ Core In[21]:3\n",
      "┌ Warning: `delete!(df::AbstractDataFrame, cols::Any)` is deprecated, use `select!(df, Not(cols))` instead.\n",
      "│   caller = top-level scope at In[21]:4\n",
      "└ @ Core In[21]:4\n",
      "┌ Warning: `delete!(df::AbstractDataFrame, cols::Any)` is deprecated, use `select!(df, Not(cols))` instead.\n",
      "│   caller = top-level scope at In[21]:5\n",
      "└ @ Core In[21]:5\n"
     ]
    },
    {
     "data": {
      "text/html": [
       "<table class=\"data-frame\"><thead><tr><th></th><th>JobInvolvement</th><th>PerformanceRating</th><th>EnvironmentSatisfaction</th><th>JobSatisfaction</th><th>WorkLifeBalance</th></tr><tr><th></th><th>Int64</th><th>Int64</th><th>String</th><th>String</th><th>String</th></tr></thead><tbody><p>4,410 rows × 25 columns (omitted printing of 20 columns)</p><tr><th>1</th><td>3</td><td>3</td><td>3</td><td>4</td><td>2</td></tr><tr><th>2</th><td>2</td><td>4</td><td>3</td><td>2</td><td>4</td></tr><tr><th>3</th><td>3</td><td>3</td><td>2</td><td>2</td><td>1</td></tr><tr><th>4</th><td>2</td><td>3</td><td>4</td><td>4</td><td>3</td></tr><tr><th>5</th><td>3</td><td>3</td><td>4</td><td>1</td><td>3</td></tr><tr><th>6</th><td>3</td><td>3</td><td>3</td><td>2</td><td>2</td></tr><tr><th>7</th><td>3</td><td>4</td><td>1</td><td>3</td><td>1</td></tr><tr><th>8</th><td>3</td><td>4</td><td>1</td><td>2</td><td>3</td></tr><tr><th>9</th><td>3</td><td>4</td><td>2</td><td>4</td><td>3</td></tr><tr><th>10</th><td>3</td><td>3</td><td>2</td><td>1</td><td>3</td></tr><tr><th>11</th><td>2</td><td>3</td><td>3</td><td>4</td><td>3</td></tr><tr><th>12</th><td>3</td><td>3</td><td>NA</td><td>4</td><td>3</td></tr><tr><th>13</th><td>3</td><td>3</td><td>4</td><td>1</td><td>3</td></tr><tr><th>14</th><td>2</td><td>3</td><td>1</td><td>2</td><td>2</td></tr><tr><th>15</th><td>3</td><td>3</td><td>4</td><td>4</td><td>2</td></tr><tr><th>16</th><td>3</td><td>3</td><td>3</td><td>4</td><td>4</td></tr><tr><th>17</th><td>2</td><td>3</td><td>4</td><td>3</td><td>4</td></tr><tr><th>18</th><td>3</td><td>3</td><td>1</td><td>4</td><td>3</td></tr><tr><th>19</th><td>2</td><td>3</td><td>2</td><td>2</td><td>2</td></tr><tr><th>20</th><td>3</td><td>3</td><td>1</td><td>1</td><td>3</td></tr><tr><th>21</th><td>3</td><td>3</td><td>3</td><td>2</td><td>1</td></tr><tr><th>22</th><td>2</td><td>4</td><td>1</td><td>2</td><td>2</td></tr><tr><th>23</th><td>3</td><td>3</td><td>3</td><td>3</td><td>2</td></tr><tr><th>24</th><td>1</td><td>3</td><td>2</td><td>3</td><td>3</td></tr><tr><th>25</th><td>3</td><td>3</td><td>2</td><td>4</td><td>2</td></tr><tr><th>26</th><td>3</td><td>3</td><td>2</td><td>4</td><td>3</td></tr><tr><th>27</th><td>3</td><td>4</td><td>1</td><td>1</td><td>3</td></tr><tr><th>28</th><td>3</td><td>3</td><td>4</td><td>4</td><td>3</td></tr><tr><th>29</th><td>2</td><td>3</td><td>4</td><td>3</td><td>1</td></tr><tr><th>30</th><td>2</td><td>3</td><td>4</td><td>4</td><td>3</td></tr><tr><th>&vellip;</th><td>&vellip;</td><td>&vellip;</td><td>&vellip;</td><td>&vellip;</td><td>&vellip;</td></tr></tbody></table>"
      ],
      "text/latex": [
       "\\begin{tabular}{r|cccccc}\n",
       "\t& JobInvolvement & PerformanceRating & EnvironmentSatisfaction & JobSatisfaction & WorkLifeBalance & \\\\\n",
       "\t\\hline\n",
       "\t& Int64 & Int64 & String & String & String & \\\\\n",
       "\t\\hline\n",
       "\t1 & 3 & 3 & 3 & 4 & 2 & $\\dots$ \\\\\n",
       "\t2 & 2 & 4 & 3 & 2 & 4 & $\\dots$ \\\\\n",
       "\t3 & 3 & 3 & 2 & 2 & 1 & $\\dots$ \\\\\n",
       "\t4 & 2 & 3 & 4 & 4 & 3 & $\\dots$ \\\\\n",
       "\t5 & 3 & 3 & 4 & 1 & 3 & $\\dots$ \\\\\n",
       "\t6 & 3 & 3 & 3 & 2 & 2 & $\\dots$ \\\\\n",
       "\t7 & 3 & 4 & 1 & 3 & 1 & $\\dots$ \\\\\n",
       "\t8 & 3 & 4 & 1 & 2 & 3 & $\\dots$ \\\\\n",
       "\t9 & 3 & 4 & 2 & 4 & 3 & $\\dots$ \\\\\n",
       "\t10 & 3 & 3 & 2 & 1 & 3 & $\\dots$ \\\\\n",
       "\t11 & 2 & 3 & 3 & 4 & 3 & $\\dots$ \\\\\n",
       "\t12 & 3 & 3 & NA & 4 & 3 & $\\dots$ \\\\\n",
       "\t13 & 3 & 3 & 4 & 1 & 3 & $\\dots$ \\\\\n",
       "\t14 & 2 & 3 & 1 & 2 & 2 & $\\dots$ \\\\\n",
       "\t15 & 3 & 3 & 4 & 4 & 2 & $\\dots$ \\\\\n",
       "\t16 & 3 & 3 & 3 & 4 & 4 & $\\dots$ \\\\\n",
       "\t17 & 2 & 3 & 4 & 3 & 4 & $\\dots$ \\\\\n",
       "\t18 & 3 & 3 & 1 & 4 & 3 & $\\dots$ \\\\\n",
       "\t19 & 2 & 3 & 2 & 2 & 2 & $\\dots$ \\\\\n",
       "\t20 & 3 & 3 & 1 & 1 & 3 & $\\dots$ \\\\\n",
       "\t21 & 3 & 3 & 3 & 2 & 1 & $\\dots$ \\\\\n",
       "\t22 & 2 & 4 & 1 & 2 & 2 & $\\dots$ \\\\\n",
       "\t23 & 3 & 3 & 3 & 3 & 2 & $\\dots$ \\\\\n",
       "\t24 & 1 & 3 & 2 & 3 & 3 & $\\dots$ \\\\\n",
       "\t25 & 3 & 3 & 2 & 4 & 2 & $\\dots$ \\\\\n",
       "\t26 & 3 & 3 & 2 & 4 & 3 & $\\dots$ \\\\\n",
       "\t27 & 3 & 4 & 1 & 1 & 3 & $\\dots$ \\\\\n",
       "\t28 & 3 & 3 & 4 & 4 & 3 & $\\dots$ \\\\\n",
       "\t29 & 2 & 3 & 4 & 3 & 1 & $\\dots$ \\\\\n",
       "\t30 & 2 & 3 & 4 & 4 & 3 & $\\dots$ \\\\\n",
       "\t$\\dots$ & $\\dots$ & $\\dots$ & $\\dots$ & $\\dots$ & $\\dots$ &  \\\\\n",
       "\\end{tabular}\n"
      ],
      "text/plain": [
       "4410×25 DataFrame. Omitted printing of 22 columns\n",
       "│ Row  │ JobInvolvement │ PerformanceRating │ EnvironmentSatisfaction │\n",
       "│      │ \u001b[90mInt64\u001b[39m          │ \u001b[90mInt64\u001b[39m             │ \u001b[90mString\u001b[39m                  │\n",
       "├──────┼────────────────┼───────────────────┼─────────────────────────┤\n",
       "│ 1    │ 3              │ 3                 │ 3                       │\n",
       "│ 2    │ 2              │ 4                 │ 3                       │\n",
       "│ 3    │ 3              │ 3                 │ 2                       │\n",
       "│ 4    │ 2              │ 3                 │ 4                       │\n",
       "│ 5    │ 3              │ 3                 │ 4                       │\n",
       "│ 6    │ 3              │ 3                 │ 3                       │\n",
       "│ 7    │ 3              │ 4                 │ 1                       │\n",
       "│ 8    │ 3              │ 4                 │ 1                       │\n",
       "│ 9    │ 3              │ 4                 │ 2                       │\n",
       "│ 10   │ 3              │ 3                 │ 2                       │\n",
       "⋮\n",
       "│ 4400 │ 2              │ 3                 │ 4                       │\n",
       "│ 4401 │ 3              │ 3                 │ 3                       │\n",
       "│ 4402 │ 2              │ 3                 │ 1                       │\n",
       "│ 4403 │ 3              │ 3                 │ 1                       │\n",
       "│ 4404 │ 3              │ 3                 │ 3                       │\n",
       "│ 4405 │ 2              │ 3                 │ 3                       │\n",
       "│ 4406 │ 3              │ 3                 │ 4                       │\n",
       "│ 4407 │ 2              │ 3                 │ 4                       │\n",
       "│ 4408 │ 3              │ 4                 │ 1                       │\n",
       "│ 4409 │ 2              │ 3                 │ 4                       │\n",
       "│ 4410 │ 4              │ 3                 │ 1                       │"
      ]
     },
     "execution_count": 21,
     "metadata": {},
     "output_type": "execute_result"
    }
   ],
   "source": [
    "B=[\"Over18\",\"EmployeeID\",\"EmployeeCount\",\"StandardHours\"]\n",
    "delete!(df, :Over18)\n",
    "delete!(df, :EmployeeID)\n",
    "delete!(df, :EmployeeCount)\n",
    "delete!(df, :StandardHours)"
   ]
  },
  {
   "cell_type": "code",
   "execution_count": 22,
   "metadata": {},
   "outputs": [
    {
     "data": {
      "text/plain": [
       "gender_num (generic function with 1 method)"
      ]
     },
     "execution_count": 22,
     "metadata": {},
     "output_type": "execute_result"
    }
   ],
   "source": [
    "\"This function converts strings to floating point values.\n",
    "Strings that cannot be represented as a number (like NA) are converted to zeros\"\n",
    "function string_to_float(str)\n",
    "    try\n",
    "        parse(Float64, str)\n",
    "    catch\n",
    "       missing\n",
    "    end\n",
    "end\n",
    "\n",
    "function attrition_num(str)\n",
    "    if str==\"Yes\"\n",
    "        return 1\n",
    "    else\n",
    "        return -1\n",
    "    end\n",
    "end\n",
    "\n",
    "function gender_num(str)\n",
    "    if str==\"Male\"\n",
    "        return 0\n",
    "    else\n",
    "        return 1\n",
    "    end\n",
    "end\n",
    "\n",
    "\n"
   ]
  },
  {
   "cell_type": "code",
   "execution_count": 23,
   "metadata": {},
   "outputs": [
    {
     "data": {
      "text/plain": [
       "5-element Array{Symbol,1}:\n",
       " :EnvironmentSatisfaction\n",
       " :JobSatisfaction        \n",
       " :WorkLifeBalance        \n",
       " :NumCompaniesWorked     \n",
       " :TotalWorkingYears      "
      ]
     },
     "execution_count": 23,
     "metadata": {},
     "output_type": "execute_result"
    }
   ],
   "source": [
    "#This are stored as strings (we want to change them to numerical values)\n",
    "labels_string=[:EnvironmentSatisfaction,:JobSatisfaction,:WorkLifeBalance,:NumCompaniesWorked,:TotalWorkingYears]"
   ]
  },
  {
   "cell_type": "code",
   "execution_count": 24,
   "metadata": {},
   "outputs": [
    {
     "name": "stderr",
     "output_type": "stream",
     "text": [
      "┌ Warning: implicit vector broadcasting in setindex! is deprecated; use `df[:, col_inds] .= Ref(v)` broadcasting assignment to change the columns in place\n",
      "│   caller = top-level scope at In[24]:1\n",
      "└ @ Core In[24]:1\n",
      "┌ Warning: `setindex!(df::DataFrame, new_df::DataFrame, col_inds::AbstractVector{<:ColumnIndex})` is deprecated, use `foreach((((j, colind),)->begin\n",
      "│             df[!, colind] = new_df[!, j]\n",
      "│         end), enumerate(col_inds))` instead.\n",
      "│   caller = setindex!(::DataFrame, ::DataFrame, ::Colon, ::Array{Symbol,1}) at deprecated.jl:1584\n",
      "└ @ DataFrames /Users/silviaruiz/.julia/packages/DataFrames/yH0f6/src/deprecated.jl:1584\n"
     ]
    },
    {
     "data": {
      "text/html": [
       "<table class=\"data-frame\"><thead><tr><th></th><th>EnvironmentSatisfaction</th><th>JobSatisfaction</th><th>WorkLifeBalance</th><th>NumCompaniesWorked</th><th>TotalWorkingYears</th></tr><tr><th></th><th>Float64⍰</th><th>Float64⍰</th><th>Float64⍰</th><th>Float64⍰</th><th>Float64⍰</th></tr></thead><tbody><p>4,410 rows × 5 columns</p><tr><th>1</th><td>3.0</td><td>4.0</td><td>2.0</td><td>1.0</td><td>1.0</td></tr><tr><th>2</th><td>3.0</td><td>2.0</td><td>4.0</td><td>0.0</td><td>6.0</td></tr><tr><th>3</th><td>2.0</td><td>2.0</td><td>1.0</td><td>1.0</td><td>5.0</td></tr><tr><th>4</th><td>4.0</td><td>4.0</td><td>3.0</td><td>3.0</td><td>13.0</td></tr><tr><th>5</th><td>4.0</td><td>1.0</td><td>3.0</td><td>4.0</td><td>9.0</td></tr><tr><th>6</th><td>3.0</td><td>2.0</td><td>2.0</td><td>3.0</td><td>28.0</td></tr><tr><th>7</th><td>1.0</td><td>3.0</td><td>1.0</td><td>2.0</td><td>5.0</td></tr><tr><th>8</th><td>1.0</td><td>2.0</td><td>3.0</td><td>2.0</td><td>10.0</td></tr><tr><th>9</th><td>2.0</td><td>4.0</td><td>3.0</td><td>0.0</td><td>10.0</td></tr><tr><th>10</th><td>2.0</td><td>1.0</td><td>3.0</td><td>1.0</td><td>6.0</td></tr><tr><th>11</th><td>3.0</td><td>4.0</td><td>3.0</td><td>0.0</td><td>21.0</td></tr><tr><th>12</th><td>missing</td><td>4.0</td><td>3.0</td><td>0.0</td><td>16.0</td></tr><tr><th>13</th><td>4.0</td><td>1.0</td><td>3.0</td><td>0.0</td><td>37.0</td></tr><tr><th>14</th><td>1.0</td><td>2.0</td><td>2.0</td><td>1.0</td><td>10.0</td></tr><tr><th>15</th><td>4.0</td><td>4.0</td><td>2.0</td><td>1.0</td><td>5.0</td></tr><tr><th>16</th><td>3.0</td><td>4.0</td><td>4.0</td><td>4.0</td><td>7.0</td></tr><tr><th>17</th><td>4.0</td><td>3.0</td><td>4.0</td><td>1.0</td><td>3.0</td></tr><tr><th>18</th><td>1.0</td><td>4.0</td><td>3.0</td><td>2.0</td><td>15.0</td></tr><tr><th>19</th><td>2.0</td><td>2.0</td><td>2.0</td><td>7.0</td><td>10.0</td></tr><tr><th>20</th><td>1.0</td><td>1.0</td><td>3.0</td><td>1.0</td><td>8.0</td></tr><tr><th>21</th><td>3.0</td><td>2.0</td><td>1.0</td><td>1.0</td><td>6.0</td></tr><tr><th>22</th><td>1.0</td><td>2.0</td><td>2.0</td><td>3.0</td><td>28.0</td></tr><tr><th>23</th><td>3.0</td><td>3.0</td><td>2.0</td><td>3.0</td><td>21.0</td></tr><tr><th>24</th><td>2.0</td><td>3.0</td><td>3.0</td><td>1.0</td><td>missing</td></tr><tr><th>25</th><td>2.0</td><td>4.0</td><td>2.0</td><td>1.0</td><td>10.0</td></tr><tr><th>26</th><td>2.0</td><td>4.0</td><td>3.0</td><td>3.0</td><td>12.0</td></tr><tr><th>27</th><td>1.0</td><td>1.0</td><td>3.0</td><td>1.0</td><td>5.0</td></tr><tr><th>28</th><td>4.0</td><td>4.0</td><td>3.0</td><td>1.0</td><td>17.0</td></tr><tr><th>29</th><td>4.0</td><td>3.0</td><td>1.0</td><td>3.0</td><td>19.0</td></tr><tr><th>30</th><td>4.0</td><td>4.0</td><td>3.0</td><td>9.0</td><td>10.0</td></tr><tr><th>&vellip;</th><td>&vellip;</td><td>&vellip;</td><td>&vellip;</td><td>&vellip;</td><td>&vellip;</td></tr></tbody></table>"
      ],
      "text/latex": [
       "\\begin{tabular}{r|ccccc}\n",
       "\t& EnvironmentSatisfaction & JobSatisfaction & WorkLifeBalance & NumCompaniesWorked & TotalWorkingYears\\\\\n",
       "\t\\hline\n",
       "\t& Float64⍰ & Float64⍰ & Float64⍰ & Float64⍰ & Float64⍰\\\\\n",
       "\t\\hline\n",
       "\t1 & 3.0 & 4.0 & 2.0 & 1.0 & 1.0 \\\\\n",
       "\t2 & 3.0 & 2.0 & 4.0 & 0.0 & 6.0 \\\\\n",
       "\t3 & 2.0 & 2.0 & 1.0 & 1.0 & 5.0 \\\\\n",
       "\t4 & 4.0 & 4.0 & 3.0 & 3.0 & 13.0 \\\\\n",
       "\t5 & 4.0 & 1.0 & 3.0 & 4.0 & 9.0 \\\\\n",
       "\t6 & 3.0 & 2.0 & 2.0 & 3.0 & 28.0 \\\\\n",
       "\t7 & 1.0 & 3.0 & 1.0 & 2.0 & 5.0 \\\\\n",
       "\t8 & 1.0 & 2.0 & 3.0 & 2.0 & 10.0 \\\\\n",
       "\t9 & 2.0 & 4.0 & 3.0 & 0.0 & 10.0 \\\\\n",
       "\t10 & 2.0 & 1.0 & 3.0 & 1.0 & 6.0 \\\\\n",
       "\t11 & 3.0 & 4.0 & 3.0 & 0.0 & 21.0 \\\\\n",
       "\t12 &  & 4.0 & 3.0 & 0.0 & 16.0 \\\\\n",
       "\t13 & 4.0 & 1.0 & 3.0 & 0.0 & 37.0 \\\\\n",
       "\t14 & 1.0 & 2.0 & 2.0 & 1.0 & 10.0 \\\\\n",
       "\t15 & 4.0 & 4.0 & 2.0 & 1.0 & 5.0 \\\\\n",
       "\t16 & 3.0 & 4.0 & 4.0 & 4.0 & 7.0 \\\\\n",
       "\t17 & 4.0 & 3.0 & 4.0 & 1.0 & 3.0 \\\\\n",
       "\t18 & 1.0 & 4.0 & 3.0 & 2.0 & 15.0 \\\\\n",
       "\t19 & 2.0 & 2.0 & 2.0 & 7.0 & 10.0 \\\\\n",
       "\t20 & 1.0 & 1.0 & 3.0 & 1.0 & 8.0 \\\\\n",
       "\t21 & 3.0 & 2.0 & 1.0 & 1.0 & 6.0 \\\\\n",
       "\t22 & 1.0 & 2.0 & 2.0 & 3.0 & 28.0 \\\\\n",
       "\t23 & 3.0 & 3.0 & 2.0 & 3.0 & 21.0 \\\\\n",
       "\t24 & 2.0 & 3.0 & 3.0 & 1.0 &  \\\\\n",
       "\t25 & 2.0 & 4.0 & 2.0 & 1.0 & 10.0 \\\\\n",
       "\t26 & 2.0 & 4.0 & 3.0 & 3.0 & 12.0 \\\\\n",
       "\t27 & 1.0 & 1.0 & 3.0 & 1.0 & 5.0 \\\\\n",
       "\t28 & 4.0 & 4.0 & 3.0 & 1.0 & 17.0 \\\\\n",
       "\t29 & 4.0 & 3.0 & 1.0 & 3.0 & 19.0 \\\\\n",
       "\t30 & 4.0 & 4.0 & 3.0 & 9.0 & 10.0 \\\\\n",
       "\t$\\dots$ & $\\dots$ & $\\dots$ & $\\dots$ & $\\dots$ & $\\dots$ \\\\\n",
       "\\end{tabular}\n"
      ],
      "text/plain": [
       "4410×5 DataFrame. Omitted printing of 2 columns\n",
       "│ Row  │ EnvironmentSatisfaction │ JobSatisfaction │ WorkLifeBalance │\n",
       "│      │ \u001b[90mUnion{Missing, Float64}\u001b[39m │ \u001b[90mFloat64⍰\u001b[39m        │ \u001b[90mFloat64⍰\u001b[39m        │\n",
       "├──────┼─────────────────────────┼─────────────────┼─────────────────┤\n",
       "│ 1    │ 3.0                     │ 4.0             │ 2.0             │\n",
       "│ 2    │ 3.0                     │ 2.0             │ 4.0             │\n",
       "│ 3    │ 2.0                     │ 2.0             │ 1.0             │\n",
       "│ 4    │ 4.0                     │ 4.0             │ 3.0             │\n",
       "│ 5    │ 4.0                     │ 1.0             │ 3.0             │\n",
       "│ 6    │ 3.0                     │ 2.0             │ 2.0             │\n",
       "│ 7    │ 1.0                     │ 3.0             │ 1.0             │\n",
       "│ 8    │ 1.0                     │ 2.0             │ 3.0             │\n",
       "│ 9    │ 2.0                     │ 4.0             │ 3.0             │\n",
       "│ 10   │ 2.0                     │ 1.0             │ 3.0             │\n",
       "⋮\n",
       "│ 4400 │ 4.0                     │ 1.0             │ 3.0             │\n",
       "│ 4401 │ 3.0                     │ 1.0             │ 2.0             │\n",
       "│ 4402 │ 1.0                     │ 3.0             │ 3.0             │\n",
       "│ 4403 │ 1.0                     │ 3.0             │ 3.0             │\n",
       "│ 4404 │ 3.0                     │ 3.0             │ 3.0             │\n",
       "│ 4405 │ 3.0                     │ 4.0             │ 3.0             │\n",
       "│ 4406 │ 4.0                     │ 1.0             │ 3.0             │\n",
       "│ 4407 │ 4.0                     │ 4.0             │ 3.0             │\n",
       "│ 4408 │ 1.0                     │ 3.0             │ 3.0             │\n",
       "│ 4409 │ 4.0                     │ 1.0             │ 3.0             │\n",
       "│ 4410 │ 1.0                     │ 3.0             │ \u001b[90mmissing\u001b[39m         │"
      ]
     },
     "execution_count": 24,
     "metadata": {},
     "output_type": "execute_result"
    }
   ],
   "source": [
    "df[:,labels_string]=string_to_float.(df[:,labels_string])"
   ]
  },
  {
   "cell_type": "code",
   "execution_count": 26,
   "metadata": {},
   "outputs": [
    {
     "data": {
      "text/plain": [
       "4410-element Array{Int64,1}:\n",
       " 1\n",
       " 2\n",
       " 4\n",
       " 4\n",
       " 3\n",
       " 1\n",
       " 2\n",
       " 4\n",
       " 1\n",
       " 2\n",
       " 3\n",
       " 3\n",
       " 1\n",
       " ⋮\n",
       " 2\n",
       " 1\n",
       " 4\n",
       " 1\n",
       " 2\n",
       " 2\n",
       " 1\n",
       " 2\n",
       " 1\n",
       " 1\n",
       " 2\n",
       " 1"
      ]
     },
     "execution_count": 26,
     "metadata": {},
     "output_type": "execute_result"
    }
   ],
   "source": [
    "#Sum one to the stock level option\n",
    "df.StockOptionLevel=df.StockOptionLevel.+1"
   ]
  },
  {
   "cell_type": "code",
   "execution_count": 30,
   "metadata": {},
   "outputs": [
    {
     "data": {
      "text/plain": [
       "10-element Array{Symbol,1}:\n",
       " :NumCompaniesWorked     \n",
       " :TotalWorkingYears      \n",
       " :Age                    \n",
       " :DistanceFromHome       \n",
       " :MonthlyIncome          \n",
       " :PercentSalaryHike      \n",
       " :TrainingTimesLastYear  \n",
       " :YearsAtCompany         \n",
       " :YearsSinceLastPromotion\n",
       " :YearsWithCurrManager   "
      ]
     },
     "execution_count": 30,
     "metadata": {},
     "output_type": "execute_result"
    }
   ],
   "source": [
    "label_cat=[:Department,:EducationField,:JobRole,:MaritalStatus] \n",
    "label_boolean=[:Attrition,:Gender] \n",
    "label_dict_rank=[:BusinessTravel] #done\n",
    "label_rank=[:WorkLifeBalance,:EnvironmentSatisfaction,:JobSatisfaction,:JobInvolvement,:PerformanceRating,:JobLevel,:StockOptionLevel,:Education] \n",
    "labels_real=[:NumCompaniesWorked,:TotalWorkingYears,:Age,:DistanceFromHome,:MonthlyIncome,:PercentSalaryHike,:TrainingTimesLastYear,:YearsAtCompany,:YearsSinceLastPromotion,:YearsWithCurrManager]#done"
   ]
  },
  {
   "cell_type": "code",
   "execution_count": 31,
   "metadata": {},
   "outputs": [
    {
     "data": {
      "text/plain": [
       "25"
      ]
     },
     "execution_count": 31,
     "metadata": {},
     "output_type": "execute_result"
    }
   ],
   "source": [
    "size(label_cat,1)+size(label_boolean,1)+size(label_dict_rank,1)+size(label_rank,1)+size(labels_real,1)"
   ]
  },
  {
   "cell_type": "code",
   "execution_count": 32,
   "metadata": {},
   "outputs": [
    {
     "data": {
      "text/plain": [
       "onehot"
      ]
     },
     "execution_count": 32,
     "metadata": {},
     "output_type": "execute_result"
    }
   ],
   "source": [
    "cats_sets = [unique(df[:, label]) for label in label_cat]\n",
    "\n",
    "\"Computes a onehot vector for every entry in column given a set of categories cats\"\n",
    "function onehot(column, cats=unique(column))\n",
    "    n1=size(column,1)\n",
    "    n2=size(cats,1)\n",
    "    result = zeros(n1,n2)\n",
    "    for i=1:n1\n",
    "        for j=1:n2\n",
    "            if column[i]==cats[j]\n",
    "                result[i,j]=1 \n",
    "            end\n",
    "        end\n",
    "    end\n",
    "    result\n",
    "end"
   ]
  },
  {
   "cell_type": "code",
   "execution_count": 33,
   "metadata": {},
   "outputs": [
    {
     "data": {
      "text/plain": [
       "rankhot (generic function with 1 method)"
      ]
     },
     "execution_count": 33,
     "metadata": {},
     "output_type": "execute_result"
    }
   ],
   "source": [
    "function rankhot(column, n)\n",
    "    m=size(column,1)\n",
    "    result=zeros(m,n-1)\n",
    "    for i=1:m\n",
    "        for j=1:n-1\n",
    "            if j<column[i]\n",
    "                result[i,j]=1\n",
    "            end\n",
    "        end\n",
    "    end\n",
    "    return result\n",
    "end"
   ]
  },
  {
   "cell_type": "code",
   "execution_count": 34,
   "metadata": {},
   "outputs": [
    {
     "data": {
      "text/plain": [
       "Dict{String,Int64} with 3 entries:\n",
       "  \"Travel_Frequently\" => 3\n",
       "  \"Travel_Rarely\"     => 2\n",
       "  \"Non-Travel\"        => 1"
      ]
     },
     "execution_count": 34,
     "metadata": {},
     "output_type": "execute_result"
    }
   ],
   "source": [
    "dict_travel = Dict(\"Non-Travel\" => 1, \"Travel_Rarely\" => 2, \"Travel_Frequently\" => 3)"
   ]
  },
  {
   "cell_type": "code",
   "execution_count": 35,
   "metadata": {},
   "outputs": [
    {
     "data": {
      "text/plain": [
       "stringhot (generic function with 1 method)"
      ]
     },
     "execution_count": 35,
     "metadata": {},
     "output_type": "execute_result"
    }
   ],
   "source": [
    "function stringhot(column,dictionary)\n",
    "    n=length(dictionary)\n",
    "    m=size(column,1)\n",
    "    result=zeros(m,n-1)\n",
    "    for i=1:m\n",
    "        for j=1:n-1\n",
    "            if j<dictionary[column[i]]\n",
    "                result[i,j]=1\n",
    "            end\n",
    "        end\n",
    "    end\n",
    "    return result\n",
    "end"
   ]
  },
  {
   "cell_type": "code",
   "execution_count": 15,
   "metadata": {},
   "outputs": [
    {
     "name": "stderr",
     "output_type": "stream",
     "text": [
      "┌ Warning: `colwise(f, d::AbstractDataFrame)` is deprecated, use `[f(col) for col = eachcol(d)]` instead.\n",
      "│   caller = top-level scope at In[15]:1\n",
      "└ @ Core In[15]:1\n"
     ]
    },
    {
     "data": {
      "image/svg+xml": [
       "<?xml version=\"1.0\" encoding=\"utf-8\"?>\n",
       "<svg xmlns=\"http://www.w3.org/2000/svg\" xmlns:xlink=\"http://www.w3.org/1999/xlink\" width=\"600\" height=\"400\" viewBox=\"0 0 2400 1600\">\n",
       "<defs>\n",
       "  <clipPath id=\"clip6500\">\n",
       "    <rect x=\"0\" y=\"0\" width=\"2400\" height=\"1600\"/>\n",
       "  </clipPath>\n",
       "</defs>\n",
       "<path clip-path=\"url(#clip6500)\" d=\"\n",
       "M0 1600 L2400 1600 L2400 0 L0 0  Z\n",
       "  \" fill=\"#ffffff\" fill-rule=\"evenodd\" fill-opacity=\"1\"/>\n",
       "<defs>\n",
       "  <clipPath id=\"clip6501\">\n",
       "    <rect x=\"480\" y=\"0\" width=\"1681\" height=\"1600\"/>\n",
       "  </clipPath>\n",
       "</defs>\n",
       "<path clip-path=\"url(#clip6500)\" d=\"\n",
       "M140.517 1487.47 L2352.76 1487.47 L2352.76 47.2441 L140.517 47.2441  Z\n",
       "  \" fill=\"#ffffff\" fill-rule=\"evenodd\" fill-opacity=\"1\"/>\n",
       "<defs>\n",
       "  <clipPath id=\"clip6502\">\n",
       "    <rect x=\"140\" y=\"47\" width=\"2213\" height=\"1441\"/>\n",
       "  </clipPath>\n",
       "</defs>\n",
       "<polyline clip-path=\"url(#clip6502)\" style=\"stroke:#000000; stroke-width:2; stroke-opacity:0.1; fill:none\" points=\"\n",
       "  262.194,1487.47 262.194,47.2441 \n",
       "  \"/>\n",
       "<polyline clip-path=\"url(#clip6502)\" style=\"stroke:#000000; stroke-width:2; stroke-opacity:0.1; fill:none\" points=\"\n",
       "  918.489,1487.47 918.489,47.2441 \n",
       "  \"/>\n",
       "<polyline clip-path=\"url(#clip6502)\" style=\"stroke:#000000; stroke-width:2; stroke-opacity:0.1; fill:none\" points=\"\n",
       "  1574.78,1487.47 1574.78,47.2441 \n",
       "  \"/>\n",
       "<polyline clip-path=\"url(#clip6502)\" style=\"stroke:#000000; stroke-width:2; stroke-opacity:0.1; fill:none\" points=\"\n",
       "  2231.08,1487.47 2231.08,47.2441 \n",
       "  \"/>\n",
       "<polyline clip-path=\"url(#clip6502)\" style=\"stroke:#000000; stroke-width:2; stroke-opacity:0.1; fill:none\" points=\"\n",
       "  140.517,1446.71 2352.76,1446.71 \n",
       "  \"/>\n",
       "<polyline clip-path=\"url(#clip6502)\" style=\"stroke:#000000; stroke-width:2; stroke-opacity:0.1; fill:none\" points=\"\n",
       "  140.517,1163.65 2352.76,1163.65 \n",
       "  \"/>\n",
       "<polyline clip-path=\"url(#clip6502)\" style=\"stroke:#000000; stroke-width:2; stroke-opacity:0.1; fill:none\" points=\"\n",
       "  140.517,880.585 2352.76,880.585 \n",
       "  \"/>\n",
       "<polyline clip-path=\"url(#clip6502)\" style=\"stroke:#000000; stroke-width:2; stroke-opacity:0.1; fill:none\" points=\"\n",
       "  140.517,597.521 2352.76,597.521 \n",
       "  \"/>\n",
       "<polyline clip-path=\"url(#clip6502)\" style=\"stroke:#000000; stroke-width:2; stroke-opacity:0.1; fill:none\" points=\"\n",
       "  140.517,314.457 2352.76,314.457 \n",
       "  \"/>\n",
       "<polyline clip-path=\"url(#clip6500)\" style=\"stroke:#000000; stroke-width:4; stroke-opacity:1; fill:none\" points=\"\n",
       "  140.517,1487.47 2352.76,1487.47 \n",
       "  \"/>\n",
       "<polyline clip-path=\"url(#clip6500)\" style=\"stroke:#000000; stroke-width:4; stroke-opacity:1; fill:none\" points=\"\n",
       "  140.517,1487.47 140.517,47.2441 \n",
       "  \"/>\n",
       "<polyline clip-path=\"url(#clip6500)\" style=\"stroke:#000000; stroke-width:4; stroke-opacity:1; fill:none\" points=\"\n",
       "  262.194,1487.47 262.194,1465.87 \n",
       "  \"/>\n",
       "<polyline clip-path=\"url(#clip6500)\" style=\"stroke:#000000; stroke-width:4; stroke-opacity:1; fill:none\" points=\"\n",
       "  918.489,1487.47 918.489,1465.87 \n",
       "  \"/>\n",
       "<polyline clip-path=\"url(#clip6500)\" style=\"stroke:#000000; stroke-width:4; stroke-opacity:1; fill:none\" points=\"\n",
       "  1574.78,1487.47 1574.78,1465.87 \n",
       "  \"/>\n",
       "<polyline clip-path=\"url(#clip6500)\" style=\"stroke:#000000; stroke-width:4; stroke-opacity:1; fill:none\" points=\"\n",
       "  2231.08,1487.47 2231.08,1465.87 \n",
       "  \"/>\n",
       "<polyline clip-path=\"url(#clip6500)\" style=\"stroke:#000000; stroke-width:4; stroke-opacity:1; fill:none\" points=\"\n",
       "  140.517,1446.71 173.7,1446.71 \n",
       "  \"/>\n",
       "<polyline clip-path=\"url(#clip6500)\" style=\"stroke:#000000; stroke-width:4; stroke-opacity:1; fill:none\" points=\"\n",
       "  140.517,1163.65 173.7,1163.65 \n",
       "  \"/>\n",
       "<polyline clip-path=\"url(#clip6500)\" style=\"stroke:#000000; stroke-width:4; stroke-opacity:1; fill:none\" points=\"\n",
       "  140.517,880.585 173.7,880.585 \n",
       "  \"/>\n",
       "<polyline clip-path=\"url(#clip6500)\" style=\"stroke:#000000; stroke-width:4; stroke-opacity:1; fill:none\" points=\"\n",
       "  140.517,597.521 173.7,597.521 \n",
       "  \"/>\n",
       "<polyline clip-path=\"url(#clip6500)\" style=\"stroke:#000000; stroke-width:4; stroke-opacity:1; fill:none\" points=\"\n",
       "  140.517,314.457 173.7,314.457 \n",
       "  \"/>\n",
       "<g clip-path=\"url(#clip6500)\">\n",
       "<text style=\"fill:#000000; fill-opacity:1; font-family:Arial,Helvetica Neue,Helvetica,sans-serif; font-size:48px; text-anchor:middle;\" transform=\"rotate(0, 262.194, 1541.47)\" x=\"262.194\" y=\"1541.47\">0.0</text>\n",
       "</g>\n",
       "<g clip-path=\"url(#clip6500)\">\n",
       "<text style=\"fill:#000000; fill-opacity:1; font-family:Arial,Helvetica Neue,Helvetica,sans-serif; font-size:48px; text-anchor:middle;\" transform=\"rotate(0, 918.489, 1541.47)\" x=\"918.489\" y=\"1541.47\">0.5</text>\n",
       "</g>\n",
       "<g clip-path=\"url(#clip6500)\">\n",
       "<text style=\"fill:#000000; fill-opacity:1; font-family:Arial,Helvetica Neue,Helvetica,sans-serif; font-size:48px; text-anchor:middle;\" transform=\"rotate(0, 1574.78, 1541.47)\" x=\"1574.78\" y=\"1541.47\">1.0</text>\n",
       "</g>\n",
       "<g clip-path=\"url(#clip6500)\">\n",
       "<text style=\"fill:#000000; fill-opacity:1; font-family:Arial,Helvetica Neue,Helvetica,sans-serif; font-size:48px; text-anchor:middle;\" transform=\"rotate(0, 2231.08, 1541.47)\" x=\"2231.08\" y=\"1541.47\">1.5</text>\n",
       "</g>\n",
       "<g clip-path=\"url(#clip6500)\">\n",
       "<text style=\"fill:#000000; fill-opacity:1; font-family:Arial,Helvetica Neue,Helvetica,sans-serif; font-size:48px; text-anchor:end;\" transform=\"rotate(0, 116.517, 1464.21)\" x=\"116.517\" y=\"1464.21\">0</text>\n",
       "</g>\n",
       "<g clip-path=\"url(#clip6500)\">\n",
       "<text style=\"fill:#000000; fill-opacity:1; font-family:Arial,Helvetica Neue,Helvetica,sans-serif; font-size:48px; text-anchor:end;\" transform=\"rotate(0, 116.517, 1181.15)\" x=\"116.517\" y=\"1181.15\">5</text>\n",
       "</g>\n",
       "<g clip-path=\"url(#clip6500)\">\n",
       "<text style=\"fill:#000000; fill-opacity:1; font-family:Arial,Helvetica Neue,Helvetica,sans-serif; font-size:48px; text-anchor:end;\" transform=\"rotate(0, 116.517, 898.085)\" x=\"116.517\" y=\"898.085\">10</text>\n",
       "</g>\n",
       "<g clip-path=\"url(#clip6500)\">\n",
       "<text style=\"fill:#000000; fill-opacity:1; font-family:Arial,Helvetica Neue,Helvetica,sans-serif; font-size:48px; text-anchor:end;\" transform=\"rotate(0, 116.517, 615.021)\" x=\"116.517\" y=\"615.021\">15</text>\n",
       "</g>\n",
       "<g clip-path=\"url(#clip6500)\">\n",
       "<text style=\"fill:#000000; fill-opacity:1; font-family:Arial,Helvetica Neue,Helvetica,sans-serif; font-size:48px; text-anchor:end;\" transform=\"rotate(0, 116.517, 331.957)\" x=\"116.517\" y=\"331.957\">20</text>\n",
       "</g>\n",
       "<path clip-path=\"url(#clip6502)\" d=\"\n",
       "M262.194 88.0053 L262.194 1446.71 L918.489 1446.71 L918.489 88.0053 L262.194 88.0053 L262.194 88.0053  Z\n",
       "  \" fill=\"#009af9\" fill-rule=\"evenodd\" fill-opacity=\"1\"/>\n",
       "<polyline clip-path=\"url(#clip6502)\" style=\"stroke:#000000; stroke-width:4; stroke-opacity:1; fill:none\" points=\"\n",
       "  262.194,88.0053 262.194,1446.71 918.489,1446.71 918.489,88.0053 262.194,88.0053 \n",
       "  \"/>\n",
       "<path clip-path=\"url(#clip6502)\" d=\"\n",
       "M918.489 1446.71 L918.489 1446.71 L1574.78 1446.71 L1574.78 1446.71 L918.489 1446.71 L918.489 1446.71  Z\n",
       "  \" fill=\"#009af9\" fill-rule=\"evenodd\" fill-opacity=\"1\"/>\n",
       "<polyline clip-path=\"url(#clip6502)\" style=\"stroke:#000000; stroke-width:4; stroke-opacity:1; fill:none\" points=\"\n",
       "  918.489,1446.71 918.489,1446.71 1574.78,1446.71 918.489,1446.71 \n",
       "  \"/>\n",
       "<path clip-path=\"url(#clip6502)\" d=\"\n",
       "M1574.78 1163.65 L1574.78 1446.71 L2231.08 1446.71 L2231.08 1163.65 L1574.78 1163.65 L1574.78 1163.65  Z\n",
       "  \" fill=\"#009af9\" fill-rule=\"evenodd\" fill-opacity=\"1\"/>\n",
       "<polyline clip-path=\"url(#clip6502)\" style=\"stroke:#000000; stroke-width:4; stroke-opacity:1; fill:none\" points=\"\n",
       "  1574.78,1163.65 1574.78,1446.71 2231.08,1446.71 2231.08,1163.65 1574.78,1163.65 \n",
       "  \"/>\n",
       "<path clip-path=\"url(#clip6500)\" d=\"\n",
       "M1989.93 251.724 L2280.76 251.724 L2280.76 130.764 L1989.93 130.764  Z\n",
       "  \" fill=\"#ffffff\" fill-rule=\"evenodd\" fill-opacity=\"1\"/>\n",
       "<polyline clip-path=\"url(#clip6500)\" style=\"stroke:#000000; stroke-width:4; stroke-opacity:1; fill:none\" points=\"\n",
       "  1989.93,251.724 2280.76,251.724 2280.76,130.764 1989.93,130.764 1989.93,251.724 \n",
       "  \"/>\n",
       "<path clip-path=\"url(#clip6500)\" d=\"\n",
       "M2013.93 215.436 L2157.93 215.436 L2157.93 167.052 L2013.93 167.052 L2013.93 215.436  Z\n",
       "  \" fill=\"#009af9\" fill-rule=\"evenodd\" fill-opacity=\"1\"/>\n",
       "<polyline clip-path=\"url(#clip6500)\" style=\"stroke:#000000; stroke-width:4; stroke-opacity:1; fill:none\" points=\"\n",
       "  2013.93,215.436 2157.93,215.436 2157.93,167.052 2013.93,167.052 2013.93,215.436 \n",
       "  \"/>\n",
       "<g clip-path=\"url(#clip6500)\">\n",
       "<text style=\"fill:#000000; fill-opacity:1; font-family:Arial,Helvetica Neue,Helvetica,sans-serif; font-size:48px; text-anchor:start;\" transform=\"rotate(0, 2181.93, 208.744)\" x=\"2181.93\" y=\"208.744\">y1</text>\n",
       "</g>\n",
       "</svg>\n"
      ]
     },
     "execution_count": 15,
     "metadata": {},
     "output_type": "execute_result"
    }
   ],
   "source": [
    "miss=colwise(x -> any(ismissing.(x)), df)\n",
    "histogram(miss)"
   ]
  },
  {
   "cell_type": "code",
   "execution_count": 57,
   "metadata": {},
   "outputs": [
    {
     "name": "stderr",
     "output_type": "stream",
     "text": [
      "┌ Warning: `setindex!(df::DataFrame, v::AbstractVector, ::Colon, col_ind::ColumnIndex)` is deprecated, use `begin\n",
      "│     df[!, col_ind] = v\n",
      "│     df\n",
      "│ end` instead.\n",
      "│   caller = top-level scope at In[57]:7\n",
      "└ @ Core ./In[57]:7\n"
     ]
    }
   ],
   "source": [
    "#Replace missing values with median\n",
    "Label_missing=[:NumCompaniesWorked,:TotalWorkingYears,:EnvironmentSatisfaction,:JobSatisfaction,:WorkLifeBalance]\n",
    "for x in Label_missing\n",
    "    df[:,x]=collect( Missings.replace( df[:,x] , median(skipmissing(df[:,x])) )) \n",
    "end"
   ]
  },
  {
   "cell_type": "code",
   "execution_count": 61,
   "metadata": {},
   "outputs": [
    {
     "data": {
      "text/plain": [
       "standarize (generic function with 1 method)"
      ]
     },
     "execution_count": 61,
     "metadata": {},
     "output_type": "execute_result"
    }
   ],
   "source": [
    "function standarize(column)\n",
    "    M=maximum(column)\n",
    "    m=minimum(column)\n",
    "    return (column.-m)./(M-m)\n",
    "end"
   ]
  },
  {
   "cell_type": "code",
   "execution_count": 62,
   "metadata": {},
   "outputs": [
    {
     "name": "stderr",
     "output_type": "stream",
     "text": [
      "┌ Warning: `setindex!(df::DataFrame, v::AbstractVector, ::Colon, col_ind::ColumnIndex)` is deprecated, use `begin\n",
      "│     df[!, col_ind] = v\n",
      "│     df\n",
      "│ end` instead.\n",
      "│   caller = top-level scope at In[62]:3\n",
      "└ @ Core ./In[62]:3\n"
     ]
    }
   ],
   "source": [
    "#Data standarization\n",
    "for x in labels_real\n",
    "    df[:,x]=standarize(df[:,x])\n",
    "end"
   ]
  },
  {
   "cell_type": "code",
   "execution_count": 64,
   "metadata": {},
   "outputs": [
    {
     "data": {
      "text/plain": [
       "4410×2 Array{Float64,2}:\n",
       " 1.0  0.0\n",
       " 1.0  1.0\n",
       " 1.0  1.0\n",
       " 0.0  0.0\n",
       " 1.0  0.0\n",
       " 1.0  0.0\n",
       " 1.0  0.0\n",
       " 1.0  0.0\n",
       " 1.0  0.0\n",
       " 0.0  0.0\n",
       " 1.0  0.0\n",
       " 1.0  0.0\n",
       " 1.0  0.0\n",
       " ⋮       \n",
       " 1.0  0.0\n",
       " 1.0  0.0\n",
       " 1.0  0.0\n",
       " 1.0  1.0\n",
       " 1.0  1.0\n",
       " 1.0  1.0\n",
       " 1.0  0.0\n",
       " 1.0  0.0\n",
       " 1.0  0.0\n",
       " 1.0  0.0\n",
       " 1.0  0.0\n",
       " 1.0  0.0"
      ]
     },
     "execution_count": 64,
     "metadata": {},
     "output_type": "execute_result"
    }
   ],
   "source": [
    "#Transform business travel:\n",
    "dict_travel = Dict(\"Non-Travel\" => 1, \"Travel_Rarely\" => 2, \"Travel_Frequently\" => 3)\n",
    "Travel=stringhot(df.BusinessTravel,dict_travel)"
   ]
  },
  {
   "cell_type": "code",
   "execution_count": null,
   "metadata": {},
   "outputs": [],
   "source": [
    "##Transform ranked numerical labels:\n",
    "data_from_rank=[]\n",
    "for x in label_rank\n",
    "    n=df[:,x].max()\n",
    "    df[:,x]="
   ]
  },
  {
   "cell_type": "code",
   "execution_count": 160,
   "metadata": {},
   "outputs": [
    {
     "data": {
      "text/plain": [
       "43-element Array{Float64,1}:\n",
       " -0.3074900308331019  \n",
       " -0.008096709909822433\n",
       " -0.05726700405784236 \n",
       "  0.03436661546948754 \n",
       " -0.2001759892138619  \n",
       "  0.007292400229791754\n",
       "  0.023599451206532108\n",
       " -0.0335646548121986  \n",
       " -0.07161702461578563 \n",
       " -0.0740862606192204  \n",
       " -0.07579861460235322 \n",
       "  0.029096233017305295\n",
       " -0.011937482112219549\n",
       "  ⋮                   \n",
       "  0.03744250246309522 \n",
       "  0.26662759397022107 \n",
       "  0.005148235778583532\n",
       "  0.08019870672557246 \n",
       "  0.28355583786656363 \n",
       " -0.05453621238023629 \n",
       " -0.02560177067309498 \n",
       "  0.02907476597402759 \n",
       " -0.01322220861722928 \n",
       " -0.01538512065275972 \n",
       " -0.019454553260216813\n",
       " -0.02019622230452674 "
      ]
     },
     "execution_count": 160,
     "metadata": {},
     "output_type": "execute_result"
    }
   ],
   "source": [
    "data_from_real=convert(Matrix,df[:,labels_real])\n",
    "data_from_string = convert(Matrix,(df[:,labels_string]))\n",
    "data_from_cat = hcat([onehot(df[:, label_cat[i]], cats_sets[i]) for i in 1:size(label_cat, 1)]...)\n",
    "data_from_ordinal_numerical=convert(Matrix,df[:,label_ordinal_numerical])\n",
    "target=attrition_num.(df.Attrition)\n",
    "data_gender=gender_num.(df.Gender)\n",
    "data=hcat(data_from_real,data_from_string,data_from_cat,data_from_ordinal_numerical,data_gender)\n",
    "w_linear=data\\target"
   ]
  },
  {
   "cell_type": "code",
   "execution_count": 162,
   "metadata": {},
   "outputs": [
    {
     "data": {
      "text/plain": [
       "MSE (generic function with 1 method)"
      ]
     },
     "execution_count": 162,
     "metadata": {},
     "output_type": "execute_result"
    }
   ],
   "source": [
    "function MSE(y, pred)\n",
    "    return sum((y-pred).^2)/size(y,1)\n",
    "end"
   ]
  },
  {
   "cell_type": "code",
   "execution_count": 174,
   "metadata": {},
   "outputs": [
    {
     "data": {
      "text/plain": [
       "0.46163688570290046"
      ]
     },
     "execution_count": 174,
     "metadata": {},
     "output_type": "execute_result"
    }
   ],
   "source": [
    "w_linear=data\\target\n",
    "y_predict=data*w_linear\n",
    "MSE(target,data*w_linear)"
   ]
  },
  {
   "cell_type": "code",
   "execution_count": 175,
   "metadata": {},
   "outputs": [
    {
     "data": {
      "image/svg+xml": [
       "<?xml version=\"1.0\" encoding=\"utf-8\"?>\n",
       "<svg xmlns=\"http://www.w3.org/2000/svg\" xmlns:xlink=\"http://www.w3.org/1999/xlink\" width=\"600\" height=\"400\" viewBox=\"0 0 2400 1600\">\n",
       "<defs>\n",
       "  <clipPath id=\"clip9900\">\n",
       "    <rect x=\"0\" y=\"0\" width=\"2400\" height=\"1600\"/>\n",
       "  </clipPath>\n",
       "</defs>\n",
       "<path clip-path=\"url(#clip9900)\" d=\"\n",
       "M0 1600 L2400 1600 L2400 0 L0 0  Z\n",
       "  \" fill=\"#ffffff\" fill-rule=\"evenodd\" fill-opacity=\"1\"/>\n",
       "<defs>\n",
       "  <clipPath id=\"clip9901\">\n",
       "    <rect x=\"480\" y=\"0\" width=\"1681\" height=\"1600\"/>\n",
       "  </clipPath>\n",
       "</defs>\n",
       "<path clip-path=\"url(#clip9900)\" d=\"\n",
       "M182.008 1487.47 L2352.76 1487.47 L2352.76 47.2441 L182.008 47.2441  Z\n",
       "  \" fill=\"#ffffff\" fill-rule=\"evenodd\" fill-opacity=\"1\"/>\n",
       "<defs>\n",
       "  <clipPath id=\"clip9902\">\n",
       "    <rect x=\"182\" y=\"47\" width=\"2172\" height=\"1441\"/>\n",
       "  </clipPath>\n",
       "</defs>\n",
       "<polyline clip-path=\"url(#clip9902)\" style=\"stroke:#000000; stroke-width:2; stroke-opacity:0.1; fill:none\" points=\"\n",
       "  243.444,1487.47 243.444,47.2441 \n",
       "  \"/>\n",
       "<polyline clip-path=\"url(#clip9902)\" style=\"stroke:#000000; stroke-width:2; stroke-opacity:0.1; fill:none\" points=\"\n",
       "  755.413,1487.47 755.413,47.2441 \n",
       "  \"/>\n",
       "<polyline clip-path=\"url(#clip9902)\" style=\"stroke:#000000; stroke-width:2; stroke-opacity:0.1; fill:none\" points=\"\n",
       "  1267.38,1487.47 1267.38,47.2441 \n",
       "  \"/>\n",
       "<polyline clip-path=\"url(#clip9902)\" style=\"stroke:#000000; stroke-width:2; stroke-opacity:0.1; fill:none\" points=\"\n",
       "  1779.35,1487.47 1779.35,47.2441 \n",
       "  \"/>\n",
       "<polyline clip-path=\"url(#clip9902)\" style=\"stroke:#000000; stroke-width:2; stroke-opacity:0.1; fill:none\" points=\"\n",
       "  2291.32,1487.47 2291.32,47.2441 \n",
       "  \"/>\n",
       "<polyline clip-path=\"url(#clip9902)\" style=\"stroke:#000000; stroke-width:2; stroke-opacity:0.1; fill:none\" points=\"\n",
       "  182.008,1318.31 2352.76,1318.31 \n",
       "  \"/>\n",
       "<polyline clip-path=\"url(#clip9902)\" style=\"stroke:#000000; stroke-width:2; stroke-opacity:0.1; fill:none\" points=\"\n",
       "  182.008,1108.79 2352.76,1108.79 \n",
       "  \"/>\n",
       "<polyline clip-path=\"url(#clip9902)\" style=\"stroke:#000000; stroke-width:2; stroke-opacity:0.1; fill:none\" points=\"\n",
       "  182.008,899.271 2352.76,899.271 \n",
       "  \"/>\n",
       "<polyline clip-path=\"url(#clip9902)\" style=\"stroke:#000000; stroke-width:2; stroke-opacity:0.1; fill:none\" points=\"\n",
       "  182.008,689.752 2352.76,689.752 \n",
       "  \"/>\n",
       "<polyline clip-path=\"url(#clip9902)\" style=\"stroke:#000000; stroke-width:2; stroke-opacity:0.1; fill:none\" points=\"\n",
       "  182.008,480.233 2352.76,480.233 \n",
       "  \"/>\n",
       "<polyline clip-path=\"url(#clip9902)\" style=\"stroke:#000000; stroke-width:2; stroke-opacity:0.1; fill:none\" points=\"\n",
       "  182.008,270.714 2352.76,270.714 \n",
       "  \"/>\n",
       "<polyline clip-path=\"url(#clip9902)\" style=\"stroke:#000000; stroke-width:2; stroke-opacity:0.1; fill:none\" points=\"\n",
       "  182.008,61.1948 2352.76,61.1948 \n",
       "  \"/>\n",
       "<polyline clip-path=\"url(#clip9900)\" style=\"stroke:#000000; stroke-width:4; stroke-opacity:1; fill:none\" points=\"\n",
       "  182.008,1487.47 2352.76,1487.47 \n",
       "  \"/>\n",
       "<polyline clip-path=\"url(#clip9900)\" style=\"stroke:#000000; stroke-width:4; stroke-opacity:1; fill:none\" points=\"\n",
       "  182.008,1487.47 182.008,47.2441 \n",
       "  \"/>\n",
       "<polyline clip-path=\"url(#clip9900)\" style=\"stroke:#000000; stroke-width:4; stroke-opacity:1; fill:none\" points=\"\n",
       "  243.444,1487.47 243.444,1465.87 \n",
       "  \"/>\n",
       "<polyline clip-path=\"url(#clip9900)\" style=\"stroke:#000000; stroke-width:4; stroke-opacity:1; fill:none\" points=\"\n",
       "  755.413,1487.47 755.413,1465.87 \n",
       "  \"/>\n",
       "<polyline clip-path=\"url(#clip9900)\" style=\"stroke:#000000; stroke-width:4; stroke-opacity:1; fill:none\" points=\"\n",
       "  1267.38,1487.47 1267.38,1465.87 \n",
       "  \"/>\n",
       "<polyline clip-path=\"url(#clip9900)\" style=\"stroke:#000000; stroke-width:4; stroke-opacity:1; fill:none\" points=\"\n",
       "  1779.35,1487.47 1779.35,1465.87 \n",
       "  \"/>\n",
       "<polyline clip-path=\"url(#clip9900)\" style=\"stroke:#000000; stroke-width:4; stroke-opacity:1; fill:none\" points=\"\n",
       "  2291.32,1487.47 2291.32,1465.87 \n",
       "  \"/>\n",
       "<polyline clip-path=\"url(#clip9900)\" style=\"stroke:#000000; stroke-width:4; stroke-opacity:1; fill:none\" points=\"\n",
       "  182.008,1318.31 214.569,1318.31 \n",
       "  \"/>\n",
       "<polyline clip-path=\"url(#clip9900)\" style=\"stroke:#000000; stroke-width:4; stroke-opacity:1; fill:none\" points=\"\n",
       "  182.008,1108.79 214.569,1108.79 \n",
       "  \"/>\n",
       "<polyline clip-path=\"url(#clip9900)\" style=\"stroke:#000000; stroke-width:4; stroke-opacity:1; fill:none\" points=\"\n",
       "  182.008,899.271 214.569,899.271 \n",
       "  \"/>\n",
       "<polyline clip-path=\"url(#clip9900)\" style=\"stroke:#000000; stroke-width:4; stroke-opacity:1; fill:none\" points=\"\n",
       "  182.008,689.752 214.569,689.752 \n",
       "  \"/>\n",
       "<polyline clip-path=\"url(#clip9900)\" style=\"stroke:#000000; stroke-width:4; stroke-opacity:1; fill:none\" points=\"\n",
       "  182.008,480.233 214.569,480.233 \n",
       "  \"/>\n",
       "<polyline clip-path=\"url(#clip9900)\" style=\"stroke:#000000; stroke-width:4; stroke-opacity:1; fill:none\" points=\"\n",
       "  182.008,270.714 214.569,270.714 \n",
       "  \"/>\n",
       "<polyline clip-path=\"url(#clip9900)\" style=\"stroke:#000000; stroke-width:4; stroke-opacity:1; fill:none\" points=\"\n",
       "  182.008,61.1948 214.569,61.1948 \n",
       "  \"/>\n",
       "<g clip-path=\"url(#clip9900)\">\n",
       "<text style=\"fill:#000000; fill-opacity:1; font-family:Arial,Helvetica Neue,Helvetica,sans-serif; font-size:48px; text-anchor:middle;\" transform=\"rotate(0, 243.444, 1541.47)\" x=\"243.444\" y=\"1541.47\">-1.0</text>\n",
       "</g>\n",
       "<g clip-path=\"url(#clip9900)\">\n",
       "<text style=\"fill:#000000; fill-opacity:1; font-family:Arial,Helvetica Neue,Helvetica,sans-serif; font-size:48px; text-anchor:middle;\" transform=\"rotate(0, 755.413, 1541.47)\" x=\"755.413\" y=\"1541.47\">-0.5</text>\n",
       "</g>\n",
       "<g clip-path=\"url(#clip9900)\">\n",
       "<text style=\"fill:#000000; fill-opacity:1; font-family:Arial,Helvetica Neue,Helvetica,sans-serif; font-size:48px; text-anchor:middle;\" transform=\"rotate(0, 1267.38, 1541.47)\" x=\"1267.38\" y=\"1541.47\">0.0</text>\n",
       "</g>\n",
       "<g clip-path=\"url(#clip9900)\">\n",
       "<text style=\"fill:#000000; fill-opacity:1; font-family:Arial,Helvetica Neue,Helvetica,sans-serif; font-size:48px; text-anchor:middle;\" transform=\"rotate(0, 1779.35, 1541.47)\" x=\"1779.35\" y=\"1541.47\">0.5</text>\n",
       "</g>\n",
       "<g clip-path=\"url(#clip9900)\">\n",
       "<text style=\"fill:#000000; fill-opacity:1; font-family:Arial,Helvetica Neue,Helvetica,sans-serif; font-size:48px; text-anchor:middle;\" transform=\"rotate(0, 2291.32, 1541.47)\" x=\"2291.32\" y=\"1541.47\">1.0</text>\n",
       "</g>\n",
       "<g clip-path=\"url(#clip9900)\">\n",
       "<text style=\"fill:#000000; fill-opacity:1; font-family:Arial,Helvetica Neue,Helvetica,sans-serif; font-size:48px; text-anchor:end;\" transform=\"rotate(0, 158.008, 1335.81)\" x=\"158.008\" y=\"1335.81\">-1.2</text>\n",
       "</g>\n",
       "<g clip-path=\"url(#clip9900)\">\n",
       "<text style=\"fill:#000000; fill-opacity:1; font-family:Arial,Helvetica Neue,Helvetica,sans-serif; font-size:48px; text-anchor:end;\" transform=\"rotate(0, 158.008, 1126.29)\" x=\"158.008\" y=\"1126.29\">-1.0</text>\n",
       "</g>\n",
       "<g clip-path=\"url(#clip9900)\">\n",
       "<text style=\"fill:#000000; fill-opacity:1; font-family:Arial,Helvetica Neue,Helvetica,sans-serif; font-size:48px; text-anchor:end;\" transform=\"rotate(0, 158.008, 916.771)\" x=\"158.008\" y=\"916.771\">-0.8</text>\n",
       "</g>\n",
       "<g clip-path=\"url(#clip9900)\">\n",
       "<text style=\"fill:#000000; fill-opacity:1; font-family:Arial,Helvetica Neue,Helvetica,sans-serif; font-size:48px; text-anchor:end;\" transform=\"rotate(0, 158.008, 707.252)\" x=\"158.008\" y=\"707.252\">-0.6</text>\n",
       "</g>\n",
       "<g clip-path=\"url(#clip9900)\">\n",
       "<text style=\"fill:#000000; fill-opacity:1; font-family:Arial,Helvetica Neue,Helvetica,sans-serif; font-size:48px; text-anchor:end;\" transform=\"rotate(0, 158.008, 497.733)\" x=\"158.008\" y=\"497.733\">-0.4</text>\n",
       "</g>\n",
       "<g clip-path=\"url(#clip9900)\">\n",
       "<text style=\"fill:#000000; fill-opacity:1; font-family:Arial,Helvetica Neue,Helvetica,sans-serif; font-size:48px; text-anchor:end;\" transform=\"rotate(0, 158.008, 288.214)\" x=\"158.008\" y=\"288.214\">-0.2</text>\n",
       "</g>\n",
       "<g clip-path=\"url(#clip9900)\">\n",
       "<text style=\"fill:#000000; fill-opacity:1; font-family:Arial,Helvetica Neue,Helvetica,sans-serif; font-size:48px; text-anchor:end;\" transform=\"rotate(0, 158.008, 78.6948)\" x=\"158.008\" y=\"78.6948\">0.0</text>\n",
       "</g>\n",
       "<circle clip-path=\"url(#clip9902)\" style=\"fill:#000000; stroke:none; fill-opacity:1\" cx=\"243.444\" cy=\"1062.26\" r=\"18\"/>\n",
       "<circle clip-path=\"url(#clip9902)\" style=\"fill:#009af9; stroke:none; fill-opacity:1\" cx=\"243.444\" cy=\"1062.26\" r=\"14\"/>\n",
       "<circle clip-path=\"url(#clip9902)\" style=\"fill:#000000; stroke:none; fill-opacity:1\" cx=\"2291.32\" cy=\"325.106\" r=\"18\"/>\n",
       "<circle clip-path=\"url(#clip9902)\" style=\"fill:#009af9; stroke:none; fill-opacity:1\" cx=\"2291.32\" cy=\"325.106\" r=\"14\"/>\n",
       "<circle clip-path=\"url(#clip9902)\" style=\"fill:#000000; stroke:none; fill-opacity:1\" cx=\"243.444\" cy=\"503.635\" r=\"18\"/>\n",
       "<circle clip-path=\"url(#clip9902)\" style=\"fill:#009af9; stroke:none; fill-opacity:1\" cx=\"243.444\" cy=\"503.635\" r=\"14\"/>\n",
       "<circle clip-path=\"url(#clip9902)\" style=\"fill:#000000; stroke:none; fill-opacity:1\" cx=\"243.444\" cy=\"1319.08\" r=\"18\"/>\n",
       "<circle clip-path=\"url(#clip9902)\" style=\"fill:#009af9; stroke:none; fill-opacity:1\" cx=\"243.444\" cy=\"1319.08\" r=\"14\"/>\n",
       "<circle clip-path=\"url(#clip9902)\" style=\"fill:#000000; stroke:none; fill-opacity:1\" cx=\"243.444\" cy=\"452.869\" r=\"18\"/>\n",
       "<circle clip-path=\"url(#clip9902)\" style=\"fill:#009af9; stroke:none; fill-opacity:1\" cx=\"243.444\" cy=\"452.869\" r=\"14\"/>\n",
       "<circle clip-path=\"url(#clip9902)\" style=\"fill:#000000; stroke:none; fill-opacity:1\" cx=\"243.444\" cy=\"966.068\" r=\"18\"/>\n",
       "<circle clip-path=\"url(#clip9902)\" style=\"fill:#009af9; stroke:none; fill-opacity:1\" cx=\"243.444\" cy=\"966.068\" r=\"14\"/>\n",
       "<circle clip-path=\"url(#clip9902)\" style=\"fill:#000000; stroke:none; fill-opacity:1\" cx=\"2291.32\" cy=\"88.0053\" r=\"18\"/>\n",
       "<circle clip-path=\"url(#clip9902)\" style=\"fill:#009af9; stroke:none; fill-opacity:1\" cx=\"2291.32\" cy=\"88.0053\" r=\"14\"/>\n",
       "<circle clip-path=\"url(#clip9902)\" style=\"fill:#000000; stroke:none; fill-opacity:1\" cx=\"243.444\" cy=\"489.082\" r=\"18\"/>\n",
       "<circle clip-path=\"url(#clip9902)\" style=\"fill:#009af9; stroke:none; fill-opacity:1\" cx=\"243.444\" cy=\"489.082\" r=\"14\"/>\n",
       "<circle clip-path=\"url(#clip9902)\" style=\"fill:#000000; stroke:none; fill-opacity:1\" cx=\"243.444\" cy=\"837.064\" r=\"18\"/>\n",
       "<circle clip-path=\"url(#clip9902)\" style=\"fill:#009af9; stroke:none; fill-opacity:1\" cx=\"243.444\" cy=\"837.064\" r=\"14\"/>\n",
       "<circle clip-path=\"url(#clip9902)\" style=\"fill:#000000; stroke:none; fill-opacity:1\" cx=\"243.444\" cy=\"910.458\" r=\"18\"/>\n",
       "<circle clip-path=\"url(#clip9902)\" style=\"fill:#009af9; stroke:none; fill-opacity:1\" cx=\"243.444\" cy=\"910.458\" r=\"14\"/>\n",
       "<circle clip-path=\"url(#clip9902)\" style=\"fill:#000000; stroke:none; fill-opacity:1\" cx=\"243.444\" cy=\"1294.91\" r=\"18\"/>\n",
       "<circle clip-path=\"url(#clip9902)\" style=\"fill:#009af9; stroke:none; fill-opacity:1\" cx=\"243.444\" cy=\"1294.91\" r=\"14\"/>\n",
       "<circle clip-path=\"url(#clip9902)\" style=\"fill:#000000; stroke:none; fill-opacity:1\" cx=\"243.444\" cy=\"1040.72\" r=\"18\"/>\n",
       "<circle clip-path=\"url(#clip9902)\" style=\"fill:#009af9; stroke:none; fill-opacity:1\" cx=\"243.444\" cy=\"1040.72\" r=\"14\"/>\n",
       "<circle clip-path=\"url(#clip9902)\" style=\"fill:#000000; stroke:none; fill-opacity:1\" cx=\"243.444\" cy=\"1106.68\" r=\"18\"/>\n",
       "<circle clip-path=\"url(#clip9902)\" style=\"fill:#009af9; stroke:none; fill-opacity:1\" cx=\"243.444\" cy=\"1106.68\" r=\"14\"/>\n",
       "<circle clip-path=\"url(#clip9902)\" style=\"fill:#000000; stroke:none; fill-opacity:1\" cx=\"2291.32\" cy=\"817.65\" r=\"18\"/>\n",
       "<circle clip-path=\"url(#clip9902)\" style=\"fill:#009af9; stroke:none; fill-opacity:1\" cx=\"2291.32\" cy=\"817.65\" r=\"14\"/>\n",
       "<circle clip-path=\"url(#clip9902)\" style=\"fill:#000000; stroke:none; fill-opacity:1\" cx=\"243.444\" cy=\"1016.4\" r=\"18\"/>\n",
       "<circle clip-path=\"url(#clip9902)\" style=\"fill:#009af9; stroke:none; fill-opacity:1\" cx=\"243.444\" cy=\"1016.4\" r=\"14\"/>\n",
       "<circle clip-path=\"url(#clip9902)\" style=\"fill:#000000; stroke:none; fill-opacity:1\" cx=\"243.444\" cy=\"927.531\" r=\"18\"/>\n",
       "<circle clip-path=\"url(#clip9902)\" style=\"fill:#009af9; stroke:none; fill-opacity:1\" cx=\"243.444\" cy=\"927.531\" r=\"14\"/>\n",
       "<circle clip-path=\"url(#clip9902)\" style=\"fill:#000000; stroke:none; fill-opacity:1\" cx=\"243.444\" cy=\"536.435\" r=\"18\"/>\n",
       "<circle clip-path=\"url(#clip9902)\" style=\"fill:#009af9; stroke:none; fill-opacity:1\" cx=\"243.444\" cy=\"536.435\" r=\"14\"/>\n",
       "<circle clip-path=\"url(#clip9902)\" style=\"fill:#000000; stroke:none; fill-opacity:1\" cx=\"243.444\" cy=\"1026.2\" r=\"18\"/>\n",
       "<circle clip-path=\"url(#clip9902)\" style=\"fill:#009af9; stroke:none; fill-opacity:1\" cx=\"243.444\" cy=\"1026.2\" r=\"14\"/>\n",
       "<circle clip-path=\"url(#clip9902)\" style=\"fill:#000000; stroke:none; fill-opacity:1\" cx=\"243.444\" cy=\"493.32\" r=\"18\"/>\n",
       "<circle clip-path=\"url(#clip9902)\" style=\"fill:#009af9; stroke:none; fill-opacity:1\" cx=\"243.444\" cy=\"493.32\" r=\"14\"/>\n",
       "<circle clip-path=\"url(#clip9902)\" style=\"fill:#000000; stroke:none; fill-opacity:1\" cx=\"243.444\" cy=\"799.491\" r=\"18\"/>\n",
       "<circle clip-path=\"url(#clip9902)\" style=\"fill:#009af9; stroke:none; fill-opacity:1\" cx=\"243.444\" cy=\"799.491\" r=\"14\"/>\n",
       "<circle clip-path=\"url(#clip9902)\" style=\"fill:#000000; stroke:none; fill-opacity:1\" cx=\"243.444\" cy=\"542.555\" r=\"18\"/>\n",
       "<circle clip-path=\"url(#clip9902)\" style=\"fill:#009af9; stroke:none; fill-opacity:1\" cx=\"243.444\" cy=\"542.555\" r=\"14\"/>\n",
       "<circle clip-path=\"url(#clip9902)\" style=\"fill:#000000; stroke:none; fill-opacity:1\" cx=\"243.444\" cy=\"891.921\" r=\"18\"/>\n",
       "<circle clip-path=\"url(#clip9902)\" style=\"fill:#009af9; stroke:none; fill-opacity:1\" cx=\"243.444\" cy=\"891.921\" r=\"14\"/>\n",
       "<circle clip-path=\"url(#clip9902)\" style=\"fill:#000000; stroke:none; fill-opacity:1\" cx=\"243.444\" cy=\"1032.66\" r=\"18\"/>\n",
       "<circle clip-path=\"url(#clip9902)\" style=\"fill:#009af9; stroke:none; fill-opacity:1\" cx=\"243.444\" cy=\"1032.66\" r=\"14\"/>\n",
       "<circle clip-path=\"url(#clip9902)\" style=\"fill:#000000; stroke:none; fill-opacity:1\" cx=\"243.444\" cy=\"779.391\" r=\"18\"/>\n",
       "<circle clip-path=\"url(#clip9902)\" style=\"fill:#009af9; stroke:none; fill-opacity:1\" cx=\"243.444\" cy=\"779.391\" r=\"14\"/>\n",
       "<circle clip-path=\"url(#clip9902)\" style=\"fill:#000000; stroke:none; fill-opacity:1\" cx=\"243.444\" cy=\"574.494\" r=\"18\"/>\n",
       "<circle clip-path=\"url(#clip9902)\" style=\"fill:#009af9; stroke:none; fill-opacity:1\" cx=\"243.444\" cy=\"574.494\" r=\"14\"/>\n",
       "<circle clip-path=\"url(#clip9902)\" style=\"fill:#000000; stroke:none; fill-opacity:1\" cx=\"243.444\" cy=\"1283.35\" r=\"18\"/>\n",
       "<circle clip-path=\"url(#clip9902)\" style=\"fill:#009af9; stroke:none; fill-opacity:1\" cx=\"243.444\" cy=\"1283.35\" r=\"14\"/>\n",
       "<circle clip-path=\"url(#clip9902)\" style=\"fill:#000000; stroke:none; fill-opacity:1\" cx=\"243.444\" cy=\"289.533\" r=\"18\"/>\n",
       "<circle clip-path=\"url(#clip9902)\" style=\"fill:#009af9; stroke:none; fill-opacity:1\" cx=\"243.444\" cy=\"289.533\" r=\"14\"/>\n",
       "<circle clip-path=\"url(#clip9902)\" style=\"fill:#000000; stroke:none; fill-opacity:1\" cx=\"243.444\" cy=\"832.72\" r=\"18\"/>\n",
       "<circle clip-path=\"url(#clip9902)\" style=\"fill:#009af9; stroke:none; fill-opacity:1\" cx=\"243.444\" cy=\"832.72\" r=\"14\"/>\n",
       "<circle clip-path=\"url(#clip9902)\" style=\"fill:#000000; stroke:none; fill-opacity:1\" cx=\"2291.32\" cy=\"678.899\" r=\"18\"/>\n",
       "<circle clip-path=\"url(#clip9902)\" style=\"fill:#009af9; stroke:none; fill-opacity:1\" cx=\"2291.32\" cy=\"678.899\" r=\"14\"/>\n",
       "<circle clip-path=\"url(#clip9902)\" style=\"fill:#000000; stroke:none; fill-opacity:1\" cx=\"243.444\" cy=\"998.055\" r=\"18\"/>\n",
       "<circle clip-path=\"url(#clip9902)\" style=\"fill:#009af9; stroke:none; fill-opacity:1\" cx=\"243.444\" cy=\"998.055\" r=\"14\"/>\n",
       "<circle clip-path=\"url(#clip9902)\" style=\"fill:#000000; stroke:none; fill-opacity:1\" cx=\"2291.32\" cy=\"641.051\" r=\"18\"/>\n",
       "<circle clip-path=\"url(#clip9902)\" style=\"fill:#009af9; stroke:none; fill-opacity:1\" cx=\"2291.32\" cy=\"641.051\" r=\"14\"/>\n",
       "<circle clip-path=\"url(#clip9902)\" style=\"fill:#000000; stroke:none; fill-opacity:1\" cx=\"243.444\" cy=\"936.972\" r=\"18\"/>\n",
       "<circle clip-path=\"url(#clip9902)\" style=\"fill:#009af9; stroke:none; fill-opacity:1\" cx=\"243.444\" cy=\"936.972\" r=\"14\"/>\n",
       "<circle clip-path=\"url(#clip9902)\" style=\"fill:#000000; stroke:none; fill-opacity:1\" cx=\"243.444\" cy=\"249.591\" r=\"18\"/>\n",
       "<circle clip-path=\"url(#clip9902)\" style=\"fill:#009af9; stroke:none; fill-opacity:1\" cx=\"243.444\" cy=\"249.591\" r=\"14\"/>\n",
       "<circle clip-path=\"url(#clip9902)\" style=\"fill:#000000; stroke:none; fill-opacity:1\" cx=\"243.444\" cy=\"543.223\" r=\"18\"/>\n",
       "<circle clip-path=\"url(#clip9902)\" style=\"fill:#009af9; stroke:none; fill-opacity:1\" cx=\"243.444\" cy=\"543.223\" r=\"14\"/>\n",
       "<circle clip-path=\"url(#clip9902)\" style=\"fill:#000000; stroke:none; fill-opacity:1\" cx=\"243.444\" cy=\"530.721\" r=\"18\"/>\n",
       "<circle clip-path=\"url(#clip9902)\" style=\"fill:#009af9; stroke:none; fill-opacity:1\" cx=\"243.444\" cy=\"530.721\" r=\"14\"/>\n",
       "<circle clip-path=\"url(#clip9902)\" style=\"fill:#000000; stroke:none; fill-opacity:1\" cx=\"2291.32\" cy=\"851.941\" r=\"18\"/>\n",
       "<circle clip-path=\"url(#clip9902)\" style=\"fill:#009af9; stroke:none; fill-opacity:1\" cx=\"2291.32\" cy=\"851.941\" r=\"14\"/>\n",
       "<circle clip-path=\"url(#clip9902)\" style=\"fill:#000000; stroke:none; fill-opacity:1\" cx=\"243.444\" cy=\"542.385\" r=\"18\"/>\n",
       "<circle clip-path=\"url(#clip9902)\" style=\"fill:#009af9; stroke:none; fill-opacity:1\" cx=\"243.444\" cy=\"542.385\" r=\"14\"/>\n",
       "<circle clip-path=\"url(#clip9902)\" style=\"fill:#000000; stroke:none; fill-opacity:1\" cx=\"243.444\" cy=\"668.115\" r=\"18\"/>\n",
       "<circle clip-path=\"url(#clip9902)\" style=\"fill:#009af9; stroke:none; fill-opacity:1\" cx=\"243.444\" cy=\"668.115\" r=\"14\"/>\n",
       "<circle clip-path=\"url(#clip9902)\" style=\"fill:#000000; stroke:none; fill-opacity:1\" cx=\"2291.32\" cy=\"339.582\" r=\"18\"/>\n",
       "<circle clip-path=\"url(#clip9902)\" style=\"fill:#009af9; stroke:none; fill-opacity:1\" cx=\"2291.32\" cy=\"339.582\" r=\"14\"/>\n",
       "<circle clip-path=\"url(#clip9902)\" style=\"fill:#000000; stroke:none; fill-opacity:1\" cx=\"243.444\" cy=\"775.605\" r=\"18\"/>\n",
       "<circle clip-path=\"url(#clip9902)\" style=\"fill:#009af9; stroke:none; fill-opacity:1\" cx=\"243.444\" cy=\"775.605\" r=\"14\"/>\n",
       "<circle clip-path=\"url(#clip9902)\" style=\"fill:#000000; stroke:none; fill-opacity:1\" cx=\"243.444\" cy=\"576.797\" r=\"18\"/>\n",
       "<circle clip-path=\"url(#clip9902)\" style=\"fill:#009af9; stroke:none; fill-opacity:1\" cx=\"243.444\" cy=\"576.797\" r=\"14\"/>\n",
       "<circle clip-path=\"url(#clip9902)\" style=\"fill:#000000; stroke:none; fill-opacity:1\" cx=\"243.444\" cy=\"901.921\" r=\"18\"/>\n",
       "<circle clip-path=\"url(#clip9902)\" style=\"fill:#009af9; stroke:none; fill-opacity:1\" cx=\"243.444\" cy=\"901.921\" r=\"14\"/>\n",
       "<circle clip-path=\"url(#clip9902)\" style=\"fill:#000000; stroke:none; fill-opacity:1\" cx=\"243.444\" cy=\"855.659\" r=\"18\"/>\n",
       "<circle clip-path=\"url(#clip9902)\" style=\"fill:#009af9; stroke:none; fill-opacity:1\" cx=\"243.444\" cy=\"855.659\" r=\"14\"/>\n",
       "<circle clip-path=\"url(#clip9902)\" style=\"fill:#000000; stroke:none; fill-opacity:1\" cx=\"243.444\" cy=\"429.234\" r=\"18\"/>\n",
       "<circle clip-path=\"url(#clip9902)\" style=\"fill:#009af9; stroke:none; fill-opacity:1\" cx=\"243.444\" cy=\"429.234\" r=\"14\"/>\n",
       "<circle clip-path=\"url(#clip9902)\" style=\"fill:#000000; stroke:none; fill-opacity:1\" cx=\"243.444\" cy=\"561.002\" r=\"18\"/>\n",
       "<circle clip-path=\"url(#clip9902)\" style=\"fill:#009af9; stroke:none; fill-opacity:1\" cx=\"243.444\" cy=\"561.002\" r=\"14\"/>\n",
       "<circle clip-path=\"url(#clip9902)\" style=\"fill:#000000; stroke:none; fill-opacity:1\" cx=\"243.444\" cy=\"851.847\" r=\"18\"/>\n",
       "<circle clip-path=\"url(#clip9902)\" style=\"fill:#009af9; stroke:none; fill-opacity:1\" cx=\"243.444\" cy=\"851.847\" r=\"14\"/>\n",
       "<circle clip-path=\"url(#clip9902)\" style=\"fill:#000000; stroke:none; fill-opacity:1\" cx=\"243.444\" cy=\"1213.47\" r=\"18\"/>\n",
       "<circle clip-path=\"url(#clip9902)\" style=\"fill:#009af9; stroke:none; fill-opacity:1\" cx=\"243.444\" cy=\"1213.47\" r=\"14\"/>\n",
       "<circle clip-path=\"url(#clip9902)\" style=\"fill:#000000; stroke:none; fill-opacity:1\" cx=\"243.444\" cy=\"875.466\" r=\"18\"/>\n",
       "<circle clip-path=\"url(#clip9902)\" style=\"fill:#009af9; stroke:none; fill-opacity:1\" cx=\"243.444\" cy=\"875.466\" r=\"14\"/>\n",
       "<circle clip-path=\"url(#clip9902)\" style=\"fill:#000000; stroke:none; fill-opacity:1\" cx=\"243.444\" cy=\"1028.98\" r=\"18\"/>\n",
       "<circle clip-path=\"url(#clip9902)\" style=\"fill:#009af9; stroke:none; fill-opacity:1\" cx=\"243.444\" cy=\"1028.98\" r=\"14\"/>\n",
       "<circle clip-path=\"url(#clip9902)\" style=\"fill:#000000; stroke:none; fill-opacity:1\" cx=\"243.444\" cy=\"699.95\" r=\"18\"/>\n",
       "<circle clip-path=\"url(#clip9902)\" style=\"fill:#009af9; stroke:none; fill-opacity:1\" cx=\"243.444\" cy=\"699.95\" r=\"14\"/>\n",
       "<circle clip-path=\"url(#clip9902)\" style=\"fill:#000000; stroke:none; fill-opacity:1\" cx=\"243.444\" cy=\"1446.71\" r=\"18\"/>\n",
       "<circle clip-path=\"url(#clip9902)\" style=\"fill:#009af9; stroke:none; fill-opacity:1\" cx=\"243.444\" cy=\"1446.71\" r=\"14\"/>\n",
       "<circle clip-path=\"url(#clip9902)\" style=\"fill:#000000; stroke:none; fill-opacity:1\" cx=\"243.444\" cy=\"1046.77\" r=\"18\"/>\n",
       "<circle clip-path=\"url(#clip9902)\" style=\"fill:#009af9; stroke:none; fill-opacity:1\" cx=\"243.444\" cy=\"1046.77\" r=\"14\"/>\n",
       "<circle clip-path=\"url(#clip9902)\" style=\"fill:#000000; stroke:none; fill-opacity:1\" cx=\"243.444\" cy=\"429.06\" r=\"18\"/>\n",
       "<circle clip-path=\"url(#clip9902)\" style=\"fill:#009af9; stroke:none; fill-opacity:1\" cx=\"243.444\" cy=\"429.06\" r=\"14\"/>\n",
       "<circle clip-path=\"url(#clip9902)\" style=\"fill:#000000; stroke:none; fill-opacity:1\" cx=\"243.444\" cy=\"681.352\" r=\"18\"/>\n",
       "<circle clip-path=\"url(#clip9902)\" style=\"fill:#009af9; stroke:none; fill-opacity:1\" cx=\"243.444\" cy=\"681.352\" r=\"14\"/>\n",
       "<circle clip-path=\"url(#clip9902)\" style=\"fill:#000000; stroke:none; fill-opacity:1\" cx=\"243.444\" cy=\"736.697\" r=\"18\"/>\n",
       "<circle clip-path=\"url(#clip9902)\" style=\"fill:#009af9; stroke:none; fill-opacity:1\" cx=\"243.444\" cy=\"736.697\" r=\"14\"/>\n",
       "<circle clip-path=\"url(#clip9902)\" style=\"fill:#000000; stroke:none; fill-opacity:1\" cx=\"243.444\" cy=\"480.081\" r=\"18\"/>\n",
       "<circle clip-path=\"url(#clip9902)\" style=\"fill:#009af9; stroke:none; fill-opacity:1\" cx=\"243.444\" cy=\"480.081\" r=\"14\"/>\n",
       "<circle clip-path=\"url(#clip9902)\" style=\"fill:#000000; stroke:none; fill-opacity:1\" cx=\"243.444\" cy=\"908.218\" r=\"18\"/>\n",
       "<circle clip-path=\"url(#clip9902)\" style=\"fill:#009af9; stroke:none; fill-opacity:1\" cx=\"243.444\" cy=\"908.218\" r=\"14\"/>\n",
       "<circle clip-path=\"url(#clip9902)\" style=\"fill:#000000; stroke:none; fill-opacity:1\" cx=\"243.444\" cy=\"746.502\" r=\"18\"/>\n",
       "<circle clip-path=\"url(#clip9902)\" style=\"fill:#009af9; stroke:none; fill-opacity:1\" cx=\"243.444\" cy=\"746.502\" r=\"14\"/>\n",
       "<circle clip-path=\"url(#clip9902)\" style=\"fill:#000000; stroke:none; fill-opacity:1\" cx=\"243.444\" cy=\"1013.16\" r=\"18\"/>\n",
       "<circle clip-path=\"url(#clip9902)\" style=\"fill:#009af9; stroke:none; fill-opacity:1\" cx=\"243.444\" cy=\"1013.16\" r=\"14\"/>\n",
       "<circle clip-path=\"url(#clip9902)\" style=\"fill:#000000; stroke:none; fill-opacity:1\" cx=\"2291.32\" cy=\"766.26\" r=\"18\"/>\n",
       "<circle clip-path=\"url(#clip9902)\" style=\"fill:#009af9; stroke:none; fill-opacity:1\" cx=\"2291.32\" cy=\"766.26\" r=\"14\"/>\n",
       "<circle clip-path=\"url(#clip9902)\" style=\"fill:#000000; stroke:none; fill-opacity:1\" cx=\"243.444\" cy=\"308.664\" r=\"18\"/>\n",
       "<circle clip-path=\"url(#clip9902)\" style=\"fill:#009af9; stroke:none; fill-opacity:1\" cx=\"243.444\" cy=\"308.664\" r=\"14\"/>\n",
       "<circle clip-path=\"url(#clip9902)\" style=\"fill:#000000; stroke:none; fill-opacity:1\" cx=\"243.444\" cy=\"890.591\" r=\"18\"/>\n",
       "<circle clip-path=\"url(#clip9902)\" style=\"fill:#009af9; stroke:none; fill-opacity:1\" cx=\"243.444\" cy=\"890.591\" r=\"14\"/>\n",
       "<circle clip-path=\"url(#clip9902)\" style=\"fill:#000000; stroke:none; fill-opacity:1\" cx=\"243.444\" cy=\"738.973\" r=\"18\"/>\n",
       "<circle clip-path=\"url(#clip9902)\" style=\"fill:#009af9; stroke:none; fill-opacity:1\" cx=\"243.444\" cy=\"738.973\" r=\"14\"/>\n",
       "<circle clip-path=\"url(#clip9902)\" style=\"fill:#000000; stroke:none; fill-opacity:1\" cx=\"243.444\" cy=\"1317.11\" r=\"18\"/>\n",
       "<circle clip-path=\"url(#clip9902)\" style=\"fill:#009af9; stroke:none; fill-opacity:1\" cx=\"243.444\" cy=\"1317.11\" r=\"14\"/>\n",
       "<circle clip-path=\"url(#clip9902)\" style=\"fill:#000000; stroke:none; fill-opacity:1\" cx=\"243.444\" cy=\"567.775\" r=\"18\"/>\n",
       "<circle clip-path=\"url(#clip9902)\" style=\"fill:#009af9; stroke:none; fill-opacity:1\" cx=\"243.444\" cy=\"567.775\" r=\"14\"/>\n",
       "<circle clip-path=\"url(#clip9902)\" style=\"fill:#000000; stroke:none; fill-opacity:1\" cx=\"2291.32\" cy=\"506.465\" r=\"18\"/>\n",
       "<circle clip-path=\"url(#clip9902)\" style=\"fill:#009af9; stroke:none; fill-opacity:1\" cx=\"2291.32\" cy=\"506.465\" r=\"14\"/>\n",
       "<circle clip-path=\"url(#clip9902)\" style=\"fill:#000000; stroke:none; fill-opacity:1\" cx=\"243.444\" cy=\"1129.13\" r=\"18\"/>\n",
       "<circle clip-path=\"url(#clip9902)\" style=\"fill:#009af9; stroke:none; fill-opacity:1\" cx=\"243.444\" cy=\"1129.13\" r=\"14\"/>\n",
       "<circle clip-path=\"url(#clip9902)\" style=\"fill:#000000; stroke:none; fill-opacity:1\" cx=\"243.444\" cy=\"767.582\" r=\"18\"/>\n",
       "<circle clip-path=\"url(#clip9902)\" style=\"fill:#009af9; stroke:none; fill-opacity:1\" cx=\"243.444\" cy=\"767.582\" r=\"14\"/>\n",
       "<circle clip-path=\"url(#clip9902)\" style=\"fill:#000000; stroke:none; fill-opacity:1\" cx=\"243.444\" cy=\"595.961\" r=\"18\"/>\n",
       "<circle clip-path=\"url(#clip9902)\" style=\"fill:#009af9; stroke:none; fill-opacity:1\" cx=\"243.444\" cy=\"595.961\" r=\"14\"/>\n",
       "<circle clip-path=\"url(#clip9902)\" style=\"fill:#000000; stroke:none; fill-opacity:1\" cx=\"2291.32\" cy=\"725.722\" r=\"18\"/>\n",
       "<circle clip-path=\"url(#clip9902)\" style=\"fill:#009af9; stroke:none; fill-opacity:1\" cx=\"2291.32\" cy=\"725.722\" r=\"14\"/>\n",
       "<circle clip-path=\"url(#clip9902)\" style=\"fill:#000000; stroke:none; fill-opacity:1\" cx=\"243.444\" cy=\"157.573\" r=\"18\"/>\n",
       "<circle clip-path=\"url(#clip9902)\" style=\"fill:#009af9; stroke:none; fill-opacity:1\" cx=\"243.444\" cy=\"157.573\" r=\"14\"/>\n",
       "<circle clip-path=\"url(#clip9902)\" style=\"fill:#000000; stroke:none; fill-opacity:1\" cx=\"243.444\" cy=\"1147.11\" r=\"18\"/>\n",
       "<circle clip-path=\"url(#clip9902)\" style=\"fill:#009af9; stroke:none; fill-opacity:1\" cx=\"243.444\" cy=\"1147.11\" r=\"14\"/>\n",
       "<circle clip-path=\"url(#clip9902)\" style=\"fill:#000000; stroke:none; fill-opacity:1\" cx=\"243.444\" cy=\"699.032\" r=\"18\"/>\n",
       "<circle clip-path=\"url(#clip9902)\" style=\"fill:#009af9; stroke:none; fill-opacity:1\" cx=\"243.444\" cy=\"699.032\" r=\"14\"/>\n",
       "<circle clip-path=\"url(#clip9902)\" style=\"fill:#000000; stroke:none; fill-opacity:1\" cx=\"243.444\" cy=\"810.914\" r=\"18\"/>\n",
       "<circle clip-path=\"url(#clip9902)\" style=\"fill:#009af9; stroke:none; fill-opacity:1\" cx=\"243.444\" cy=\"810.914\" r=\"14\"/>\n",
       "<circle clip-path=\"url(#clip9902)\" style=\"fill:#000000; stroke:none; fill-opacity:1\" cx=\"243.444\" cy=\"690.043\" r=\"18\"/>\n",
       "<circle clip-path=\"url(#clip9902)\" style=\"fill:#009af9; stroke:none; fill-opacity:1\" cx=\"243.444\" cy=\"690.043\" r=\"14\"/>\n",
       "<circle clip-path=\"url(#clip9902)\" style=\"fill:#000000; stroke:none; fill-opacity:1\" cx=\"243.444\" cy=\"511.36\" r=\"18\"/>\n",
       "<circle clip-path=\"url(#clip9902)\" style=\"fill:#009af9; stroke:none; fill-opacity:1\" cx=\"243.444\" cy=\"511.36\" r=\"14\"/>\n",
       "<circle clip-path=\"url(#clip9902)\" style=\"fill:#000000; stroke:none; fill-opacity:1\" cx=\"243.444\" cy=\"1017.07\" r=\"18\"/>\n",
       "<circle clip-path=\"url(#clip9902)\" style=\"fill:#009af9; stroke:none; fill-opacity:1\" cx=\"243.444\" cy=\"1017.07\" r=\"14\"/>\n",
       "<circle clip-path=\"url(#clip9902)\" style=\"fill:#000000; stroke:none; fill-opacity:1\" cx=\"243.444\" cy=\"1058.65\" r=\"18\"/>\n",
       "<circle clip-path=\"url(#clip9902)\" style=\"fill:#009af9; stroke:none; fill-opacity:1\" cx=\"243.444\" cy=\"1058.65\" r=\"14\"/>\n",
       "<circle clip-path=\"url(#clip9902)\" style=\"fill:#000000; stroke:none; fill-opacity:1\" cx=\"2291.32\" cy=\"598.686\" r=\"18\"/>\n",
       "<circle clip-path=\"url(#clip9902)\" style=\"fill:#009af9; stroke:none; fill-opacity:1\" cx=\"2291.32\" cy=\"598.686\" r=\"14\"/>\n",
       "<circle clip-path=\"url(#clip9902)\" style=\"fill:#000000; stroke:none; fill-opacity:1\" cx=\"243.444\" cy=\"492.108\" r=\"18\"/>\n",
       "<circle clip-path=\"url(#clip9902)\" style=\"fill:#009af9; stroke:none; fill-opacity:1\" cx=\"243.444\" cy=\"492.108\" r=\"14\"/>\n",
       "<circle clip-path=\"url(#clip9902)\" style=\"fill:#000000; stroke:none; fill-opacity:1\" cx=\"243.444\" cy=\"866.18\" r=\"18\"/>\n",
       "<circle clip-path=\"url(#clip9902)\" style=\"fill:#009af9; stroke:none; fill-opacity:1\" cx=\"243.444\" cy=\"866.18\" r=\"14\"/>\n",
       "<circle clip-path=\"url(#clip9902)\" style=\"fill:#000000; stroke:none; fill-opacity:1\" cx=\"243.444\" cy=\"840.435\" r=\"18\"/>\n",
       "<circle clip-path=\"url(#clip9902)\" style=\"fill:#009af9; stroke:none; fill-opacity:1\" cx=\"243.444\" cy=\"840.435\" r=\"14\"/>\n",
       "<circle clip-path=\"url(#clip9902)\" style=\"fill:#000000; stroke:none; fill-opacity:1\" cx=\"243.444\" cy=\"1025.9\" r=\"18\"/>\n",
       "<circle clip-path=\"url(#clip9902)\" style=\"fill:#009af9; stroke:none; fill-opacity:1\" cx=\"243.444\" cy=\"1025.9\" r=\"14\"/>\n",
       "<circle clip-path=\"url(#clip9902)\" style=\"fill:#000000; stroke:none; fill-opacity:1\" cx=\"243.444\" cy=\"1233.54\" r=\"18\"/>\n",
       "<circle clip-path=\"url(#clip9902)\" style=\"fill:#009af9; stroke:none; fill-opacity:1\" cx=\"243.444\" cy=\"1233.54\" r=\"14\"/>\n",
       "<circle clip-path=\"url(#clip9902)\" style=\"fill:#000000; stroke:none; fill-opacity:1\" cx=\"243.444\" cy=\"1101.3\" r=\"18\"/>\n",
       "<circle clip-path=\"url(#clip9902)\" style=\"fill:#009af9; stroke:none; fill-opacity:1\" cx=\"243.444\" cy=\"1101.3\" r=\"14\"/>\n",
       "<circle clip-path=\"url(#clip9902)\" style=\"fill:#000000; stroke:none; fill-opacity:1\" cx=\"243.444\" cy=\"881.709\" r=\"18\"/>\n",
       "<circle clip-path=\"url(#clip9902)\" style=\"fill:#009af9; stroke:none; fill-opacity:1\" cx=\"243.444\" cy=\"881.709\" r=\"14\"/>\n",
       "<circle clip-path=\"url(#clip9902)\" style=\"fill:#000000; stroke:none; fill-opacity:1\" cx=\"243.444\" cy=\"1242.63\" r=\"18\"/>\n",
       "<circle clip-path=\"url(#clip9902)\" style=\"fill:#009af9; stroke:none; fill-opacity:1\" cx=\"243.444\" cy=\"1242.63\" r=\"14\"/>\n",
       "<circle clip-path=\"url(#clip9902)\" style=\"fill:#000000; stroke:none; fill-opacity:1\" cx=\"243.444\" cy=\"816.25\" r=\"18\"/>\n",
       "<circle clip-path=\"url(#clip9902)\" style=\"fill:#009af9; stroke:none; fill-opacity:1\" cx=\"243.444\" cy=\"816.25\" r=\"14\"/>\n",
       "<circle clip-path=\"url(#clip9902)\" style=\"fill:#000000; stroke:none; fill-opacity:1\" cx=\"243.444\" cy=\"412.827\" r=\"18\"/>\n",
       "<circle clip-path=\"url(#clip9902)\" style=\"fill:#009af9; stroke:none; fill-opacity:1\" cx=\"243.444\" cy=\"412.827\" r=\"14\"/>\n",
       "<circle clip-path=\"url(#clip9902)\" style=\"fill:#000000; stroke:none; fill-opacity:1\" cx=\"243.444\" cy=\"397.419\" r=\"18\"/>\n",
       "<circle clip-path=\"url(#clip9902)\" style=\"fill:#009af9; stroke:none; fill-opacity:1\" cx=\"243.444\" cy=\"397.419\" r=\"14\"/>\n",
       "<circle clip-path=\"url(#clip9902)\" style=\"fill:#000000; stroke:none; fill-opacity:1\" cx=\"243.444\" cy=\"515.241\" r=\"18\"/>\n",
       "<circle clip-path=\"url(#clip9902)\" style=\"fill:#009af9; stroke:none; fill-opacity:1\" cx=\"243.444\" cy=\"515.241\" r=\"14\"/>\n",
       "<circle clip-path=\"url(#clip9902)\" style=\"fill:#000000; stroke:none; fill-opacity:1\" cx=\"243.444\" cy=\"922.344\" r=\"18\"/>\n",
       "<circle clip-path=\"url(#clip9902)\" style=\"fill:#009af9; stroke:none; fill-opacity:1\" cx=\"243.444\" cy=\"922.344\" r=\"14\"/>\n",
       "<circle clip-path=\"url(#clip9902)\" style=\"fill:#000000; stroke:none; fill-opacity:1\" cx=\"243.444\" cy=\"916.724\" r=\"18\"/>\n",
       "<circle clip-path=\"url(#clip9902)\" style=\"fill:#009af9; stroke:none; fill-opacity:1\" cx=\"243.444\" cy=\"916.724\" r=\"14\"/>\n",
       "<circle clip-path=\"url(#clip9902)\" style=\"fill:#000000; stroke:none; fill-opacity:1\" cx=\"243.444\" cy=\"837.87\" r=\"18\"/>\n",
       "<circle clip-path=\"url(#clip9902)\" style=\"fill:#009af9; stroke:none; fill-opacity:1\" cx=\"243.444\" cy=\"837.87\" r=\"14\"/>\n",
       "<circle clip-path=\"url(#clip9902)\" style=\"fill:#000000; stroke:none; fill-opacity:1\" cx=\"243.444\" cy=\"693.399\" r=\"18\"/>\n",
       "<circle clip-path=\"url(#clip9902)\" style=\"fill:#009af9; stroke:none; fill-opacity:1\" cx=\"243.444\" cy=\"693.399\" r=\"14\"/>\n",
       "<circle clip-path=\"url(#clip9902)\" style=\"fill:#000000; stroke:none; fill-opacity:1\" cx=\"243.444\" cy=\"1010.42\" r=\"18\"/>\n",
       "<circle clip-path=\"url(#clip9902)\" style=\"fill:#009af9; stroke:none; fill-opacity:1\" cx=\"243.444\" cy=\"1010.42\" r=\"14\"/>\n",
       "<circle clip-path=\"url(#clip9902)\" style=\"fill:#000000; stroke:none; fill-opacity:1\" cx=\"243.444\" cy=\"923.353\" r=\"18\"/>\n",
       "<circle clip-path=\"url(#clip9902)\" style=\"fill:#009af9; stroke:none; fill-opacity:1\" cx=\"243.444\" cy=\"923.353\" r=\"14\"/>\n",
       "<circle clip-path=\"url(#clip9902)\" style=\"fill:#000000; stroke:none; fill-opacity:1\" cx=\"243.444\" cy=\"962.304\" r=\"18\"/>\n",
       "<circle clip-path=\"url(#clip9902)\" style=\"fill:#009af9; stroke:none; fill-opacity:1\" cx=\"243.444\" cy=\"962.304\" r=\"14\"/>\n",
       "<circle clip-path=\"url(#clip9902)\" style=\"fill:#000000; stroke:none; fill-opacity:1\" cx=\"243.444\" cy=\"627.836\" r=\"18\"/>\n",
       "<circle clip-path=\"url(#clip9902)\" style=\"fill:#009af9; stroke:none; fill-opacity:1\" cx=\"243.444\" cy=\"627.836\" r=\"14\"/>\n",
       "<circle clip-path=\"url(#clip9902)\" style=\"fill:#000000; stroke:none; fill-opacity:1\" cx=\"2291.32\" cy=\"332.074\" r=\"18\"/>\n",
       "<circle clip-path=\"url(#clip9902)\" style=\"fill:#009af9; stroke:none; fill-opacity:1\" cx=\"2291.32\" cy=\"332.074\" r=\"14\"/>\n",
       "<path clip-path=\"url(#clip9900)\" d=\"\n",
       "M1989.93 251.724 L2280.76 251.724 L2280.76 130.764 L1989.93 130.764  Z\n",
       "  \" fill=\"#ffffff\" fill-rule=\"evenodd\" fill-opacity=\"1\"/>\n",
       "<polyline clip-path=\"url(#clip9900)\" style=\"stroke:#000000; stroke-width:4; stroke-opacity:1; fill:none\" points=\"\n",
       "  1989.93,251.724 2280.76,251.724 2280.76,130.764 1989.93,130.764 1989.93,251.724 \n",
       "  \"/>\n",
       "<circle clip-path=\"url(#clip9900)\" style=\"fill:#000000; stroke:none; fill-opacity:1\" cx=\"2097.93\" cy=\"191.244\" r=\"25\"/>\n",
       "<circle clip-path=\"url(#clip9900)\" style=\"fill:#009af9; stroke:none; fill-opacity:1\" cx=\"2097.93\" cy=\"191.244\" r=\"21\"/>\n",
       "<g clip-path=\"url(#clip9900)\">\n",
       "<text style=\"fill:#000000; fill-opacity:1; font-family:Arial,Helvetica Neue,Helvetica,sans-serif; font-size:48px; text-anchor:start;\" transform=\"rotate(0, 2181.93, 208.744)\" x=\"2181.93\" y=\"208.744\">y1</text>\n",
       "</g>\n",
       "</svg>\n"
      ]
     },
     "execution_count": 175,
     "metadata": {},
     "output_type": "execute_result"
    }
   ],
   "source": [
    "scatter(target[1:100],(y_predict)[1:100])"
   ]
  },
  {
   "cell_type": "code",
   "execution_count": 181,
   "metadata": {},
   "outputs": [
    {
     "data": {
      "text/plain": [
       "perceptron (generic function with 1 method)"
      ]
     },
     "execution_count": 181,
     "metadata": {},
     "output_type": "execute_result"
    }
   ],
   "source": [
    "function perceptron(X,y;\n",
    "                    maxsteps=1000, # \n",
    "                    w = rand(size(X,2))) # initial guess for w\n",
    "    t=1\n",
    "    running=true\n",
    "    while t<maxsteps && running\n",
    "        t=t+1\n",
    "        running=false\n",
    "        for i=1:size(X,1)\n",
    "            if y[i]*transpose(w)*X[i,:]<0\n",
    "                w=w+y[i]*X[i,:]\n",
    "                running=true\n",
    "            end\n",
    "        end \n",
    "    end\n",
    "    return (w,t)\n",
    "end"
   ]
  },
  {
   "cell_type": "code",
   "execution_count": 184,
   "metadata": {},
   "outputs": [
    {
     "data": {
      "text/plain": [
       "0.6131519274376417"
      ]
     },
     "execution_count": 184,
     "metadata": {},
     "output_type": "execute_result"
    }
   ],
   "source": [
    "w_final = perceptron(data,target)[1]\n",
    "y_predict=sign.(data*w_final)\n",
    "MSE(target,y_predict)"
   ]
  },
  {
   "cell_type": "code",
   "execution_count": 189,
   "metadata": {},
   "outputs": [
    {
     "data": {
      "text/plain": [
       "676.0"
      ]
     },
     "execution_count": 189,
     "metadata": {},
     "output_type": "execute_result"
    }
   ],
   "source": [
    "sum(abs.(y_predict-target))/2"
   ]
  },
  {
   "cell_type": "code",
   "execution_count": 195,
   "metadata": {},
   "outputs": [
    {
     "name": "stdout",
     "output_type": "stream",
     "text": [
      "\u001b[32m\u001b[1m  Updating\u001b[22m\u001b[39m registry at `~/.julia/registries/General`\n",
      "\u001b[32m\u001b[1m  Updating\u001b[22m\u001b[39m git-repo `https://github.com/JuliaRegistries/General.git`\n",
      "\u001b[2K\u001b[?25h[1mFetching:\u001b[22m\u001b[39m [========================================>]  100.0 %.0 %44.6 %====================================>    ]  89.6 %\u001b[32m\u001b[1m Resolving\u001b[22m\u001b[39m package versions...\n",
      "\u001b[32m\u001b[1m Installed\u001b[22m\u001b[39m ScikitLearnBase ─ v0.5.0\n",
      "\u001b[32m\u001b[1m Installed\u001b[22m\u001b[39m NMF ───────────── v0.4.0\n",
      "\u001b[32m\u001b[1m Installed\u001b[22m\u001b[39m LowRankModels ─── v1.0.1\n",
      "\u001b[32m\u001b[1m  Updating\u001b[22m\u001b[39m `~/.julia/environments/v1.2/Project.toml`\n",
      " \u001b[90m [15d4e49f]\u001b[39m\u001b[92m + LowRankModels v1.0.1\u001b[39m\n",
      "\u001b[32m\u001b[1m  Updating\u001b[22m\u001b[39m `~/.julia/environments/v1.2/Manifest.toml`\n",
      " \u001b[90m [15d4e49f]\u001b[39m\u001b[92m + LowRankModels v1.0.1\u001b[39m\n",
      " \u001b[90m [6ef6ca0d]\u001b[39m\u001b[92m + NMF v0.4.0\u001b[39m\n",
      " \u001b[90m [6e75b9c4]\u001b[39m\u001b[92m + ScikitLearnBase v0.5.0\u001b[39m\n"
     ]
    },
    {
     "name": "stderr",
     "output_type": "stream",
     "text": [
      "┌ Info: Precompiling LowRankModels [15d4e49f-4837-5ea3-a885-5b28bfa376dc]\n",
      "└ @ Base loading.jl:1242\n"
     ]
    },
    {
     "data": {
      "text/plain": [
       "proxgrad_const (generic function with 1 method)"
      ]
     },
     "execution_count": 195,
     "metadata": {},
     "output_type": "execute_result"
    }
   ],
   "source": [
    "using PyPlot\n",
    "import Pkg; Pkg.add(\"LowRankModels\")\n",
    "# proximal gradient method\n",
    "include(\"proxgrad.jl\")"
   ]
  },
  {
   "cell_type": "code",
   "execution_count": 191,
   "metadata": {},
   "outputs": [
    {
     "data": {
      "text/plain": [
       "plotline"
      ]
     },
     "execution_count": 191,
     "metadata": {},
     "output_type": "execute_result"
    }
   ],
   "source": [
    "\"\"\"plot line w*x+b=0\"\"\"\n",
    "function plotline(w::Array{Float64,1},b::Number;\n",
    "                  xmin=-100,xmax=100,\n",
    "                  kwargs...)\n",
    "    x1samples = [xmin, xmax]\n",
    "    # w[1]*x[1]+w[2]*x[2]+b = 0\n",
    "    x2samples = (-b - w[1]*x1samples)/w[2]\n",
    "    plot(x1samples, x2samples, color=\"black\", kwargs...)\n",
    "end"
   ]
  },
  {
   "cell_type": "markdown",
   "metadata": {},
   "source": [
    "# Loss functions for classification"
   ]
  },
  {
   "cell_type": "code",
   "execution_count": 196,
   "metadata": {},
   "outputs": [
    {
     "data": {
      "text/plain": [
       "44-element Array{Float64,1}:\n",
       " -0.023731261523556493 \n",
       " -0.00681701143379401  \n",
       " -0.018907549005492547 \n",
       "  0.010181474470362693 \n",
       " -0.0369123328988593   \n",
       "  0.0005154805284069007\n",
       "  0.011924289165287087 \n",
       " -0.012078621719075726 \n",
       " -0.03461662467147877  \n",
       " -0.03438931293823293  \n",
       " -0.059088617890982846 \n",
       "  0.008719560981212703 \n",
       " -0.008290449539817524 \n",
       "  ⋮                    \n",
       "  0.03229228324274681  \n",
       " -0.02885988674923279  \n",
       " -0.031286912211658933 \n",
       "  0.021884916234832127 \n",
       " -0.03173487670353773  \n",
       " -0.042003504211430356 \n",
       " -0.08542680224609475  \n",
       " -0.014745649318219764 \n",
       " -0.016389308400930034 \n",
       " -0.0217900586989703   \n",
       " -0.011283499394888697 \n",
       " -0.041136872680360814 "
      ]
     },
     "execution_count": 196,
     "metadata": {},
     "output_type": "execute_result"
    }
   ],
   "source": [
    "y=target\n",
    "n = length(y)\n",
    "Xoffset = [data ones(n)]\n",
    "loss = 1/n*HingeLoss()\n",
    "w_hinge = proxgrad(loss, ZeroReg(), Xoffset, y, stepsize=1, maxiters=50000)"
   ]
  },
  {
   "cell_type": "code",
   "execution_count": 2,
   "metadata": {},
   "outputs": [
    {
     "name": "stdout",
     "output_type": "stream",
     "text": [
      "NO"
     ]
    }
   ],
   "source": [
    "print(\"NO\")"
   ]
  },
  {
   "cell_type": "code",
   "execution_count": null,
   "metadata": {},
   "outputs": [],
   "source": []
  }
 ],
 "metadata": {
  "kernelspec": {
   "display_name": "Julia 1.2.0",
   "language": "julia",
   "name": "julia-1.2"
  },
  "language_info": {
   "file_extension": ".jl",
   "mimetype": "application/julia",
   "name": "julia",
   "version": "1.2.0"
  }
 },
 "nbformat": 4,
 "nbformat_minor": 2
}
