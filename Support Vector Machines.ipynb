{
 "cells": [
  {
   "cell_type": "markdown",
   "metadata": {},
   "source": [
    "# Support Vector Machines"
   ]
  },
  {
   "cell_type": "code",
   "execution_count": 2,
   "metadata": {},
   "outputs": [],
   "source": [
    "import pandas as pd\n",
    "import numpy as np\n",
    "import matplotlib.pyplot as plt\n",
    "%matplotlib inline"
   ]
  },
  {
   "cell_type": "code",
   "execution_count": 4,
   "metadata": {},
   "outputs": [],
   "source": [
    "data = pd.read_csv(\"FinalData.csv\")"
   ]
  },
  {
   "cell_type": "code",
   "execution_count": 6,
   "metadata": {},
   "outputs": [
    {
     "data": {
      "text/plain": [
       "(4410, 62)"
      ]
     },
     "execution_count": 6,
     "metadata": {},
     "output_type": "execute_result"
    }
   ],
   "source": [
    "data.shape"
   ]
  },
  {
   "cell_type": "code",
   "execution_count": 7,
   "metadata": {},
   "outputs": [
    {
     "data": {
      "text/html": [
       "<div>\n",
       "<style scoped>\n",
       "    .dataframe tbody tr th:only-of-type {\n",
       "        vertical-align: middle;\n",
       "    }\n",
       "\n",
       "    .dataframe tbody tr th {\n",
       "        vertical-align: top;\n",
       "    }\n",
       "\n",
       "    .dataframe thead th {\n",
       "        text-align: right;\n",
       "    }\n",
       "</style>\n",
       "<table border=\"1\" class=\"dataframe\">\n",
       "  <thead>\n",
       "    <tr style=\"text-align: right;\">\n",
       "      <th></th>\n",
       "      <th>Department_Sales</th>\n",
       "      <th>Department_Research&amp;Development</th>\n",
       "      <th>Department_HumanResources</th>\n",
       "      <th>EducationField_LifeSciences</th>\n",
       "      <th>EducationField_Other</th>\n",
       "      <th>EducationField_Medical</th>\n",
       "      <th>EducationField_Marketing</th>\n",
       "      <th>EducationField_TechnicalDegree</th>\n",
       "      <th>EducationField_HumanResources</th>\n",
       "      <th>JobRole_HealthcareRepresentative</th>\n",
       "      <th>...</th>\n",
       "      <th>PercentSalaryHike</th>\n",
       "      <th>TrainingTimesLastYear</th>\n",
       "      <th>YearsAtCompany</th>\n",
       "      <th>YearsSinceLastPromotion</th>\n",
       "      <th>YearsWithCurrManager</th>\n",
       "      <th>Travel</th>\n",
       "      <th>Frequently</th>\n",
       "      <th>Female</th>\n",
       "      <th>Attrition1</th>\n",
       "      <th>Attrition2</th>\n",
       "    </tr>\n",
       "  </thead>\n",
       "  <tbody>\n",
       "    <tr>\n",
       "      <th>0</th>\n",
       "      <td>1</td>\n",
       "      <td>0</td>\n",
       "      <td>0</td>\n",
       "      <td>1</td>\n",
       "      <td>0</td>\n",
       "      <td>0</td>\n",
       "      <td>0</td>\n",
       "      <td>0</td>\n",
       "      <td>0</td>\n",
       "      <td>1</td>\n",
       "      <td>...</td>\n",
       "      <td>0.000000</td>\n",
       "      <td>1.000000</td>\n",
       "      <td>0.025</td>\n",
       "      <td>0.000000</td>\n",
       "      <td>0.000000</td>\n",
       "      <td>1</td>\n",
       "      <td>0</td>\n",
       "      <td>1</td>\n",
       "      <td>-1</td>\n",
       "      <td>0</td>\n",
       "    </tr>\n",
       "    <tr>\n",
       "      <th>1</th>\n",
       "      <td>0</td>\n",
       "      <td>1</td>\n",
       "      <td>0</td>\n",
       "      <td>1</td>\n",
       "      <td>0</td>\n",
       "      <td>0</td>\n",
       "      <td>0</td>\n",
       "      <td>0</td>\n",
       "      <td>0</td>\n",
       "      <td>0</td>\n",
       "      <td>...</td>\n",
       "      <td>0.857143</td>\n",
       "      <td>0.500000</td>\n",
       "      <td>0.125</td>\n",
       "      <td>0.066667</td>\n",
       "      <td>0.235294</td>\n",
       "      <td>1</td>\n",
       "      <td>1</td>\n",
       "      <td>1</td>\n",
       "      <td>1</td>\n",
       "      <td>1</td>\n",
       "    </tr>\n",
       "    <tr>\n",
       "      <th>2</th>\n",
       "      <td>0</td>\n",
       "      <td>1</td>\n",
       "      <td>0</td>\n",
       "      <td>0</td>\n",
       "      <td>1</td>\n",
       "      <td>0</td>\n",
       "      <td>0</td>\n",
       "      <td>0</td>\n",
       "      <td>0</td>\n",
       "      <td>0</td>\n",
       "      <td>...</td>\n",
       "      <td>0.285714</td>\n",
       "      <td>0.333333</td>\n",
       "      <td>0.125</td>\n",
       "      <td>0.000000</td>\n",
       "      <td>0.176471</td>\n",
       "      <td>1</td>\n",
       "      <td>1</td>\n",
       "      <td>0</td>\n",
       "      <td>-1</td>\n",
       "      <td>0</td>\n",
       "    </tr>\n",
       "    <tr>\n",
       "      <th>3</th>\n",
       "      <td>0</td>\n",
       "      <td>1</td>\n",
       "      <td>0</td>\n",
       "      <td>1</td>\n",
       "      <td>0</td>\n",
       "      <td>0</td>\n",
       "      <td>0</td>\n",
       "      <td>0</td>\n",
       "      <td>0</td>\n",
       "      <td>0</td>\n",
       "      <td>...</td>\n",
       "      <td>0.000000</td>\n",
       "      <td>0.833333</td>\n",
       "      <td>0.200</td>\n",
       "      <td>0.466667</td>\n",
       "      <td>0.294118</td>\n",
       "      <td>0</td>\n",
       "      <td>0</td>\n",
       "      <td>0</td>\n",
       "      <td>-1</td>\n",
       "      <td>0</td>\n",
       "    </tr>\n",
       "    <tr>\n",
       "      <th>4</th>\n",
       "      <td>0</td>\n",
       "      <td>1</td>\n",
       "      <td>0</td>\n",
       "      <td>0</td>\n",
       "      <td>0</td>\n",
       "      <td>1</td>\n",
       "      <td>0</td>\n",
       "      <td>0</td>\n",
       "      <td>0</td>\n",
       "      <td>0</td>\n",
       "      <td>...</td>\n",
       "      <td>0.071429</td>\n",
       "      <td>0.333333</td>\n",
       "      <td>0.150</td>\n",
       "      <td>0.000000</td>\n",
       "      <td>0.235294</td>\n",
       "      <td>1</td>\n",
       "      <td>0</td>\n",
       "      <td>0</td>\n",
       "      <td>-1</td>\n",
       "      <td>0</td>\n",
       "    </tr>\n",
       "  </tbody>\n",
       "</table>\n",
       "<p>5 rows × 62 columns</p>\n",
       "</div>"
      ],
      "text/plain": [
       "   Department_Sales  Department_Research&Development  \\\n",
       "0                 1                                0   \n",
       "1                 0                                1   \n",
       "2                 0                                1   \n",
       "3                 0                                1   \n",
       "4                 0                                1   \n",
       "\n",
       "   Department_HumanResources  EducationField_LifeSciences  \\\n",
       "0                          0                            1   \n",
       "1                          0                            1   \n",
       "2                          0                            0   \n",
       "3                          0                            1   \n",
       "4                          0                            0   \n",
       "\n",
       "   EducationField_Other  EducationField_Medical  EducationField_Marketing  \\\n",
       "0                     0                       0                         0   \n",
       "1                     0                       0                         0   \n",
       "2                     1                       0                         0   \n",
       "3                     0                       0                         0   \n",
       "4                     0                       1                         0   \n",
       "\n",
       "   EducationField_TechnicalDegree  EducationField_HumanResources  \\\n",
       "0                               0                              0   \n",
       "1                               0                              0   \n",
       "2                               0                              0   \n",
       "3                               0                              0   \n",
       "4                               0                              0   \n",
       "\n",
       "   JobRole_HealthcareRepresentative     ...      PercentSalaryHike  \\\n",
       "0                                 1     ...               0.000000   \n",
       "1                                 0     ...               0.857143   \n",
       "2                                 0     ...               0.285714   \n",
       "3                                 0     ...               0.000000   \n",
       "4                                 0     ...               0.071429   \n",
       "\n",
       "   TrainingTimesLastYear  YearsAtCompany  YearsSinceLastPromotion  \\\n",
       "0               1.000000           0.025                 0.000000   \n",
       "1               0.500000           0.125                 0.066667   \n",
       "2               0.333333           0.125                 0.000000   \n",
       "3               0.833333           0.200                 0.466667   \n",
       "4               0.333333           0.150                 0.000000   \n",
       "\n",
       "   YearsWithCurrManager  Travel  Frequently  Female  Attrition1  Attrition2  \n",
       "0              0.000000       1           0       1          -1           0  \n",
       "1              0.235294       1           1       1           1           1  \n",
       "2              0.176471       1           1       0          -1           0  \n",
       "3              0.294118       0           0       0          -1           0  \n",
       "4              0.235294       1           0       0          -1           0  \n",
       "\n",
       "[5 rows x 62 columns]"
      ]
     },
     "execution_count": 7,
     "metadata": {},
     "output_type": "execute_result"
    }
   ],
   "source": [
    "data.head()"
   ]
  },
  {
   "cell_type": "code",
   "execution_count": 31,
   "metadata": {},
   "outputs": [],
   "source": [
    "y = data['Attrition1']\n",
    "X = data.drop('Attrition1', axis=1)\n",
    "X = X.drop('Attrition2', axis=1)"
   ]
  },
  {
   "cell_type": "code",
   "execution_count": 32,
   "metadata": {},
   "outputs": [
    {
     "name": "stdout",
     "output_type": "stream",
     "text": [
      "0      -1\n",
      "1       1\n",
      "2      -1\n",
      "3      -1\n",
      "4      -1\n",
      "5      -1\n",
      "6       1\n",
      "7      -1\n",
      "8      -1\n",
      "9      -1\n",
      "10     -1\n",
      "11     -1\n",
      "12     -1\n",
      "13      1\n",
      "14     -1\n",
      "15     -1\n",
      "16     -1\n",
      "17     -1\n",
      "18     -1\n",
      "19     -1\n",
      "20     -1\n",
      "21     -1\n",
      "22     -1\n",
      "23     -1\n",
      "24     -1\n",
      "25     -1\n",
      "26     -1\n",
      "27     -1\n",
      "28      1\n",
      "29     -1\n",
      "       ..\n",
      "4380   -1\n",
      "4381    1\n",
      "4382   -1\n",
      "4383   -1\n",
      "4384   -1\n",
      "4385   -1\n",
      "4386    1\n",
      "4387   -1\n",
      "4388    1\n",
      "4389   -1\n",
      "4390   -1\n",
      "4391    1\n",
      "4392   -1\n",
      "4393   -1\n",
      "4394   -1\n",
      "4395   -1\n",
      "4396   -1\n",
      "4397   -1\n",
      "4398   -1\n",
      "4399   -1\n",
      "4400   -1\n",
      "4401   -1\n",
      "4402    1\n",
      "4403   -1\n",
      "4404   -1\n",
      "4405   -1\n",
      "4406   -1\n",
      "4407   -1\n",
      "4408   -1\n",
      "4409   -1\n",
      "Name: Attrition1, Length: 4410, dtype: int64\n"
     ]
    }
   ],
   "source": [
    "print(y)"
   ]
  },
  {
   "cell_type": "code",
   "execution_count": 19,
   "metadata": {},
   "outputs": [],
   "source": [
    "from sklearn.model_selection import train_test_split\n",
    "X_train, X_test, y_train, y_test = train_test_split(X, y, test_size = 0.20)"
   ]
  },
  {
   "cell_type": "code",
   "execution_count": 43,
   "metadata": {},
   "outputs": [
    {
     "data": {
      "text/plain": [
       "0       0.000000\n",
       "1       0.066667\n",
       "2       0.000000\n",
       "3       0.466667\n",
       "4       0.000000\n",
       "5       0.466667\n",
       "6       0.000000\n",
       "7       0.000000\n",
       "8       0.466667\n",
       "9       0.066667\n",
       "10      0.266667\n",
       "11      0.666667\n",
       "12      0.266667\n",
       "13      0.600000\n",
       "14      0.000000\n",
       "15      0.000000\n",
       "16      0.066667\n",
       "17      0.000000\n",
       "18      0.400000\n",
       "19      0.466667\n",
       "20      0.066667\n",
       "21      0.066667\n",
       "22      0.066667\n",
       "23      0.733333\n",
       "24      0.000000\n",
       "25      0.000000\n",
       "26      0.200000\n",
       "27      0.333333\n",
       "28      0.000000\n",
       "29      0.066667\n",
       "          ...   \n",
       "4380    0.000000\n",
       "4381    0.000000\n",
       "4382    0.133333\n",
       "4383    0.733333\n",
       "4384    0.133333\n",
       "4385    0.000000\n",
       "4386    0.000000\n",
       "4387    0.066667\n",
       "4388    0.066667\n",
       "4389    1.000000\n",
       "4390    0.066667\n",
       "4391    0.066667\n",
       "4392    0.066667\n",
       "4393    0.133333\n",
       "4394    0.000000\n",
       "4395    0.266667\n",
       "4396    0.066667\n",
       "4397    0.133333\n",
       "4398    0.000000\n",
       "4399    0.333333\n",
       "4400    0.000000\n",
       "4401    0.000000\n",
       "4402    0.000000\n",
       "4403    0.733333\n",
       "4404    0.066667\n",
       "4405    0.000000\n",
       "4406    0.000000\n",
       "4407    0.066667\n",
       "4408    0.466667\n",
       "4409    0.200000\n",
       "Name: YearsSinceLastPromotion, Length: 4410, dtype: float64"
      ]
     },
     "execution_count": 43,
     "metadata": {},
     "output_type": "execute_result"
    }
   ],
   "source": [
    "\n",
    "\n"
   ]
  },
  {
   "cell_type": "code",
   "execution_count": 48,
   "metadata": {},
   "outputs": [
    {
     "data": {
      "image/png": "[encoded data removed]",
      "text/plain": [
       "<Figure size 432x288 with 1 Axes>"
      ]
     },
     "metadata": {},
     "output_type": "display_data"
    }
   ],
   "source": [
    "\n",
    "plt.scatter(X['Age'],X['DistanceFromHome'], c=y, s=50, cmap='autumn');"
   ]
  },
  {
   "cell_type": "code",
   "execution_count": 50,
   "metadata": {},
   "outputs": [
    {
     "data": {
      "text/plain": [
       "KNeighborsClassifier(algorithm='auto', leaf_size=30, metric='minkowski',\n",
       "           metric_params=None, n_jobs=1, n_neighbors=5, p=2,\n",
       "           weights='uniform')"
      ]
     },
     "execution_count": 50,
     "metadata": {},
     "output_type": "execute_result"
    }
   ],
   "source": [
    "from sklearn.svm import SVC\n",
    "from sklearn.neighbors import KNeighborsClassifier\n",
    "\n",
    "svclassifier = SVC(kernel='poly', degree=8)\n",
    "svclassifier.fit(X_train, y_train)\n",
    "\n",
    "classifier2 = KNeighborsClassifier(n_neighbors=5)\n",
    "classifier2.fit(X_train, y_train)"
   ]
  },
  {
   "cell_type": "code",
   "execution_count": 27,
   "metadata": {},
   "outputs": [],
   "source": [
    "y_pred = svclassifier.predict(X_test)\n",
    "y_pred2= classifier.predict(X_test)"
   ]
  },
  {
   "cell_type": "code",
   "execution_count": 28,
   "metadata": {},
   "outputs": [
    {
     "name": "stdout",
     "output_type": "stream",
     "text": [
      "[[737   0]\n",
      " [145   0]]\n",
      "             precision    recall  f1-score   support\n",
      "\n",
      "         -1       0.84      1.00      0.91       737\n",
      "          1       0.00      0.00      0.00       145\n",
      "\n",
      "avg / total       0.70      0.84      0.76       882\n",
      "\n"
     ]
    },
    {
     "name": "stderr",
     "output_type": "stream",
     "text": [
      "/anaconda3/lib/python3.6/site-packages/sklearn/metrics/classification.py:1135: UndefinedMetricWarning: Precision and F-score are ill-defined and being set to 0.0 in labels with no predicted samples.\n",
      "  'precision', 'predicted', average, warn_for)\n"
     ]
    }
   ],
   "source": [
    "from sklearn.metrics import classification_report, confusion_matrix\n",
    "print(confusion_matrix(y_test, y_pred))\n",
    "print(classification_report(y_test, y_pred))"
   ]
  },
  {
   "cell_type": "code",
   "execution_count": null,
   "metadata": {},
   "outputs": [],
   "source": [
    "from sklearn.metrics import classification_report, confusion_matrix\n",
    "print(confusion_matrix(y_test2, y_pred))\n",
    "print(classification_report(y_test2, y_pred))"
   ]
  },
  {
   "cell_type": "code",
   "execution_count": null,
   "metadata": {},
   "outputs": [],
   "source": []
  }
 ],
 "metadata": {
  "kernelspec": {
   "display_name": "Python 3",
   "language": "python",
   "name": "python3"
  },
  "language_info": {
   "codemirror_mode": {
    "name": "ipython",
    "version": 3
   },
   "file_extension": ".py",
   "mimetype": "text/x-python",
   "name": "python",
   "nbconvert_exporter": "python",
   "pygments_lexer": "ipython3",
   "version": "3.6.5"
  }
 },
 "nbformat": 4,
 "nbformat_minor": 2
}
