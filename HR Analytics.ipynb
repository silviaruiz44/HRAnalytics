{
 "cells": [
  {
   "cell_type": "code",
   "execution_count": 192,
   "metadata": {},
   "outputs": [
    {
     "name": "stdout",
     "output_type": "stream",
     "text": [
      "\u001b[32m\u001b[1m Resolving\u001b[22m\u001b[39m package versions...\n",
      "\u001b[32m\u001b[1m  Updating\u001b[22m\u001b[39m `~/.julia/environments/v1.2/Project.toml`\n",
      "\u001b[90m [no changes]\u001b[39m\n",
      "\u001b[32m\u001b[1m  Updating\u001b[22m\u001b[39m `~/.julia/environments/v1.2/Manifest.toml`\n",
      "\u001b[90m [no changes]\u001b[39m\n",
      "\u001b[32m\u001b[1m Resolving\u001b[22m\u001b[39m package versions...\n",
      "\u001b[32m\u001b[1m  Updating\u001b[22m\u001b[39m `~/.julia/environments/v1.2/Project.toml`\n",
      "\u001b[90m [no changes]\u001b[39m\n",
      "\u001b[32m\u001b[1m  Updating\u001b[22m\u001b[39m `~/.julia/environments/v1.2/Manifest.toml`\n",
      "\u001b[90m [no changes]\u001b[39m\n"
     ]
    },
    {
     "data": {
      "text/plain": [
       "Plots.PyPlotBackend()"
      ]
     },
     "execution_count": 192,
     "metadata": {},
     "output_type": "execute_result"
    }
   ],
   "source": [
    "using Random\n",
    "Random.seed!(13)\n",
    "import Pkg\n",
    "Pkg.add(\"Convex\")\n",
    "Pkg.add(\"ECOS\")\n",
    "using CSV\n",
    "using Plots\n",
    "using DataFrames\n",
    "using Statistics\n",
    "using PyPlot\n",
    "using Convex, ECOS\n",
    "using LowRankModels\n",
    "using StatsPlots, RDatasets; pyplot()"
   ]
  },
  {
   "cell_type": "code",
   "execution_count": 193,
   "metadata": {},
   "outputs": [
    {
     "data": {
      "text/plain": [
       "proxgrad_const"
      ]
     },
     "execution_count": 193,
     "metadata": {},
     "output_type": "execute_result"
    }
   ],
   "source": [
    "using LowRankModels \n",
    "include(\"proxgrad.jl\")"
   ]
  },
  {
   "cell_type": "code",
   "execution_count": 194,
   "metadata": {},
   "outputs": [
    {
     "data": {
      "text/html": [
       "<table class=\"data-frame\"><thead><tr><th></th><th>EmployeeID</th><th>JobInvolvement</th><th>PerformanceRating</th></tr><tr><th></th><th>Int64</th><th>Int64</th><th>Int64</th></tr></thead><tbody><p>4,410 rows × 3 columns</p><tr><th>1</th><td>1</td><td>3</td><td>3</td></tr><tr><th>2</th><td>2</td><td>2</td><td>4</td></tr><tr><th>3</th><td>3</td><td>3</td><td>3</td></tr><tr><th>4</th><td>4</td><td>2</td><td>3</td></tr><tr><th>5</th><td>5</td><td>3</td><td>3</td></tr><tr><th>6</th><td>6</td><td>3</td><td>3</td></tr><tr><th>7</th><td>7</td><td>3</td><td>4</td></tr><tr><th>8</th><td>8</td><td>3</td><td>4</td></tr><tr><th>9</th><td>9</td><td>3</td><td>4</td></tr><tr><th>10</th><td>10</td><td>3</td><td>3</td></tr><tr><th>11</th><td>11</td><td>2</td><td>3</td></tr><tr><th>12</th><td>12</td><td>3</td><td>3</td></tr><tr><th>13</th><td>13</td><td>3</td><td>3</td></tr><tr><th>14</th><td>14</td><td>2</td><td>3</td></tr><tr><th>15</th><td>15</td><td>3</td><td>3</td></tr><tr><th>16</th><td>16</td><td>3</td><td>3</td></tr><tr><th>17</th><td>17</td><td>2</td><td>3</td></tr><tr><th>18</th><td>18</td><td>3</td><td>3</td></tr><tr><th>19</th><td>19</td><td>2</td><td>3</td></tr><tr><th>20</th><td>20</td><td>3</td><td>3</td></tr><tr><th>21</th><td>21</td><td>3</td><td>3</td></tr><tr><th>22</th><td>22</td><td>2</td><td>4</td></tr><tr><th>23</th><td>23</td><td>3</td><td>3</td></tr><tr><th>24</th><td>24</td><td>1</td><td>3</td></tr><tr><th>25</th><td>25</td><td>3</td><td>3</td></tr><tr><th>26</th><td>26</td><td>3</td><td>3</td></tr><tr><th>27</th><td>27</td><td>3</td><td>4</td></tr><tr><th>28</th><td>28</td><td>3</td><td>3</td></tr><tr><th>29</th><td>29</td><td>2</td><td>3</td></tr><tr><th>30</th><td>30</td><td>2</td><td>3</td></tr><tr><th>&vellip;</th><td>&vellip;</td><td>&vellip;</td><td>&vellip;</td></tr></tbody></table>"
      ],
      "text/latex": [
       "\\begin{tabular}{r|ccc}\n",
       "\t& EmployeeID & JobInvolvement & PerformanceRating\\\\\n",
       "\t\\hline\n",
       "\t& Int64 & Int64 & Int64\\\\\n",
       "\t\\hline\n",
       "\t1 & 1 & 3 & 3 \\\\\n",
       "\t2 & 2 & 2 & 4 \\\\\n",
       "\t3 & 3 & 3 & 3 \\\\\n",
       "\t4 & 4 & 2 & 3 \\\\\n",
       "\t5 & 5 & 3 & 3 \\\\\n",
       "\t6 & 6 & 3 & 3 \\\\\n",
       "\t7 & 7 & 3 & 4 \\\\\n",
       "\t8 & 8 & 3 & 4 \\\\\n",
       "\t9 & 9 & 3 & 4 \\\\\n",
       "\t10 & 10 & 3 & 3 \\\\\n",
       "\t11 & 11 & 2 & 3 \\\\\n",
       "\t12 & 12 & 3 & 3 \\\\\n",
       "\t13 & 13 & 3 & 3 \\\\\n",
       "\t14 & 14 & 2 & 3 \\\\\n",
       "\t15 & 15 & 3 & 3 \\\\\n",
       "\t16 & 16 & 3 & 3 \\\\\n",
       "\t17 & 17 & 2 & 3 \\\\\n",
       "\t18 & 18 & 3 & 3 \\\\\n",
       "\t19 & 19 & 2 & 3 \\\\\n",
       "\t20 & 20 & 3 & 3 \\\\\n",
       "\t21 & 21 & 3 & 3 \\\\\n",
       "\t22 & 22 & 2 & 4 \\\\\n",
       "\t23 & 23 & 3 & 3 \\\\\n",
       "\t24 & 24 & 1 & 3 \\\\\n",
       "\t25 & 25 & 3 & 3 \\\\\n",
       "\t26 & 26 & 3 & 3 \\\\\n",
       "\t27 & 27 & 3 & 4 \\\\\n",
       "\t28 & 28 & 3 & 3 \\\\\n",
       "\t29 & 29 & 2 & 3 \\\\\n",
       "\t30 & 30 & 2 & 3 \\\\\n",
       "\t$\\dots$ & $\\dots$ & $\\dots$ & $\\dots$ \\\\\n",
       "\\end{tabular}\n"
      ],
      "text/plain": [
       "4410×3 DataFrame\n",
       "│ Row  │ EmployeeID │ JobInvolvement │ PerformanceRating │\n",
       "│      │ \u001b[90mInt64\u001b[39m      │ \u001b[90mInt64\u001b[39m          │ \u001b[90mInt64\u001b[39m             │\n",
       "├──────┼────────────┼────────────────┼───────────────────┤\n",
       "│ 1    │ 1          │ 3              │ 3                 │\n",
       "│ 2    │ 2          │ 2              │ 4                 │\n",
       "│ 3    │ 3          │ 3              │ 3                 │\n",
       "│ 4    │ 4          │ 2              │ 3                 │\n",
       "│ 5    │ 5          │ 3              │ 3                 │\n",
       "│ 6    │ 6          │ 3              │ 3                 │\n",
       "│ 7    │ 7          │ 3              │ 4                 │\n",
       "│ 8    │ 8          │ 3              │ 4                 │\n",
       "│ 9    │ 9          │ 3              │ 4                 │\n",
       "│ 10   │ 10         │ 3              │ 3                 │\n",
       "⋮\n",
       "│ 4400 │ 4400       │ 2              │ 3                 │\n",
       "│ 4401 │ 4401       │ 3              │ 3                 │\n",
       "│ 4402 │ 4402       │ 2              │ 3                 │\n",
       "│ 4403 │ 4403       │ 3              │ 3                 │\n",
       "│ 4404 │ 4404       │ 3              │ 3                 │\n",
       "│ 4405 │ 4405       │ 2              │ 3                 │\n",
       "│ 4406 │ 4406       │ 3              │ 3                 │\n",
       "│ 4407 │ 4407       │ 2              │ 3                 │\n",
       "│ 4408 │ 4408       │ 3              │ 4                 │\n",
       "│ 4409 │ 4409       │ 2              │ 3                 │\n",
       "│ 4410 │ 4410       │ 4              │ 3                 │"
      ]
     },
     "execution_count": 194,
     "metadata": {},
     "output_type": "execute_result"
    }
   ],
   "source": [
    "employee=CSV.read(\"employee_survey_data.csv\")\n",
    "general=CSV.read(\"general_data.csv\")\n",
    "manager=CSV.read(\"manager_survey_data.csv\")"
   ]
  },
  {
   "cell_type": "code",
   "execution_count": 195,
   "metadata": {},
   "outputs": [
    {
     "data": {
      "text/html": [
       "<table class=\"data-frame\"><thead><tr><th></th><th>EmployeeID</th><th>JobInvolvement</th><th>PerformanceRating</th><th>EnvironmentSatisfaction</th><th>JobSatisfaction</th></tr><tr><th></th><th>Int64</th><th>Int64</th><th>Int64</th><th>String</th><th>String</th></tr></thead><tbody><p>4,410 rows × 29 columns (omitted printing of 24 columns)</p><tr><th>1</th><td>1</td><td>3</td><td>3</td><td>3</td><td>4</td></tr><tr><th>2</th><td>2</td><td>2</td><td>4</td><td>3</td><td>2</td></tr><tr><th>3</th><td>3</td><td>3</td><td>3</td><td>2</td><td>2</td></tr><tr><th>4</th><td>4</td><td>2</td><td>3</td><td>4</td><td>4</td></tr><tr><th>5</th><td>5</td><td>3</td><td>3</td><td>4</td><td>1</td></tr><tr><th>6</th><td>6</td><td>3</td><td>3</td><td>3</td><td>2</td></tr><tr><th>7</th><td>7</td><td>3</td><td>4</td><td>1</td><td>3</td></tr><tr><th>8</th><td>8</td><td>3</td><td>4</td><td>1</td><td>2</td></tr><tr><th>9</th><td>9</td><td>3</td><td>4</td><td>2</td><td>4</td></tr><tr><th>10</th><td>10</td><td>3</td><td>3</td><td>2</td><td>1</td></tr><tr><th>11</th><td>11</td><td>2</td><td>3</td><td>3</td><td>4</td></tr><tr><th>12</th><td>12</td><td>3</td><td>3</td><td>NA</td><td>4</td></tr><tr><th>13</th><td>13</td><td>3</td><td>3</td><td>4</td><td>1</td></tr><tr><th>14</th><td>14</td><td>2</td><td>3</td><td>1</td><td>2</td></tr><tr><th>15</th><td>15</td><td>3</td><td>3</td><td>4</td><td>4</td></tr><tr><th>16</th><td>16</td><td>3</td><td>3</td><td>3</td><td>4</td></tr><tr><th>17</th><td>17</td><td>2</td><td>3</td><td>4</td><td>3</td></tr><tr><th>18</th><td>18</td><td>3</td><td>3</td><td>1</td><td>4</td></tr><tr><th>19</th><td>19</td><td>2</td><td>3</td><td>2</td><td>2</td></tr><tr><th>20</th><td>20</td><td>3</td><td>3</td><td>1</td><td>1</td></tr><tr><th>21</th><td>21</td><td>3</td><td>3</td><td>3</td><td>2</td></tr><tr><th>22</th><td>22</td><td>2</td><td>4</td><td>1</td><td>2</td></tr><tr><th>23</th><td>23</td><td>3</td><td>3</td><td>3</td><td>3</td></tr><tr><th>24</th><td>24</td><td>1</td><td>3</td><td>2</td><td>3</td></tr><tr><th>25</th><td>25</td><td>3</td><td>3</td><td>2</td><td>4</td></tr><tr><th>26</th><td>26</td><td>3</td><td>3</td><td>2</td><td>4</td></tr><tr><th>27</th><td>27</td><td>3</td><td>4</td><td>1</td><td>1</td></tr><tr><th>28</th><td>28</td><td>3</td><td>3</td><td>4</td><td>4</td></tr><tr><th>29</th><td>29</td><td>2</td><td>3</td><td>4</td><td>3</td></tr><tr><th>30</th><td>30</td><td>2</td><td>3</td><td>4</td><td>4</td></tr><tr><th>&vellip;</th><td>&vellip;</td><td>&vellip;</td><td>&vellip;</td><td>&vellip;</td><td>&vellip;</td></tr></tbody></table>"
      ],
      "text/latex": [
       "\\begin{tabular}{r|cccccc}\n",
       "\t& EmployeeID & JobInvolvement & PerformanceRating & EnvironmentSatisfaction & JobSatisfaction & \\\\\n",
       "\t\\hline\n",
       "\t& Int64 & Int64 & Int64 & String & String & \\\\\n",
       "\t\\hline\n",
       "\t1 & 1 & 3 & 3 & 3 & 4 & $\\dots$ \\\\\n",
       "\t2 & 2 & 2 & 4 & 3 & 2 & $\\dots$ \\\\\n",
       "\t3 & 3 & 3 & 3 & 2 & 2 & $\\dots$ \\\\\n",
       "\t4 & 4 & 2 & 3 & 4 & 4 & $\\dots$ \\\\\n",
       "\t5 & 5 & 3 & 3 & 4 & 1 & $\\dots$ \\\\\n",
       "\t6 & 6 & 3 & 3 & 3 & 2 & $\\dots$ \\\\\n",
       "\t7 & 7 & 3 & 4 & 1 & 3 & $\\dots$ \\\\\n",
       "\t8 & 8 & 3 & 4 & 1 & 2 & $\\dots$ \\\\\n",
       "\t9 & 9 & 3 & 4 & 2 & 4 & $\\dots$ \\\\\n",
       "\t10 & 10 & 3 & 3 & 2 & 1 & $\\dots$ \\\\\n",
       "\t11 & 11 & 2 & 3 & 3 & 4 & $\\dots$ \\\\\n",
       "\t12 & 12 & 3 & 3 & NA & 4 & $\\dots$ \\\\\n",
       "\t13 & 13 & 3 & 3 & 4 & 1 & $\\dots$ \\\\\n",
       "\t14 & 14 & 2 & 3 & 1 & 2 & $\\dots$ \\\\\n",
       "\t15 & 15 & 3 & 3 & 4 & 4 & $\\dots$ \\\\\n",
       "\t16 & 16 & 3 & 3 & 3 & 4 & $\\dots$ \\\\\n",
       "\t17 & 17 & 2 & 3 & 4 & 3 & $\\dots$ \\\\\n",
       "\t18 & 18 & 3 & 3 & 1 & 4 & $\\dots$ \\\\\n",
       "\t19 & 19 & 2 & 3 & 2 & 2 & $\\dots$ \\\\\n",
       "\t20 & 20 & 3 & 3 & 1 & 1 & $\\dots$ \\\\\n",
       "\t21 & 21 & 3 & 3 & 3 & 2 & $\\dots$ \\\\\n",
       "\t22 & 22 & 2 & 4 & 1 & 2 & $\\dots$ \\\\\n",
       "\t23 & 23 & 3 & 3 & 3 & 3 & $\\dots$ \\\\\n",
       "\t24 & 24 & 1 & 3 & 2 & 3 & $\\dots$ \\\\\n",
       "\t25 & 25 & 3 & 3 & 2 & 4 & $\\dots$ \\\\\n",
       "\t26 & 26 & 3 & 3 & 2 & 4 & $\\dots$ \\\\\n",
       "\t27 & 27 & 3 & 4 & 1 & 1 & $\\dots$ \\\\\n",
       "\t28 & 28 & 3 & 3 & 4 & 4 & $\\dots$ \\\\\n",
       "\t29 & 29 & 2 & 3 & 4 & 3 & $\\dots$ \\\\\n",
       "\t30 & 30 & 2 & 3 & 4 & 4 & $\\dots$ \\\\\n",
       "\t$\\dots$ & $\\dots$ & $\\dots$ & $\\dots$ & $\\dots$ & $\\dots$ &  \\\\\n",
       "\\end{tabular}\n"
      ],
      "text/plain": [
       "4410×29 DataFrame. Omitted printing of 26 columns\n",
       "│ Row  │ EmployeeID │ JobInvolvement │ PerformanceRating │\n",
       "│      │ \u001b[90mInt64\u001b[39m      │ \u001b[90mInt64\u001b[39m          │ \u001b[90mInt64\u001b[39m             │\n",
       "├──────┼────────────┼────────────────┼───────────────────┤\n",
       "│ 1    │ 1          │ 3              │ 3                 │\n",
       "│ 2    │ 2          │ 2              │ 4                 │\n",
       "│ 3    │ 3          │ 3              │ 3                 │\n",
       "│ 4    │ 4          │ 2              │ 3                 │\n",
       "│ 5    │ 5          │ 3              │ 3                 │\n",
       "│ 6    │ 6          │ 3              │ 3                 │\n",
       "│ 7    │ 7          │ 3              │ 4                 │\n",
       "│ 8    │ 8          │ 3              │ 4                 │\n",
       "│ 9    │ 9          │ 3              │ 4                 │\n",
       "│ 10   │ 10         │ 3              │ 3                 │\n",
       "⋮\n",
       "│ 4400 │ 4400       │ 2              │ 3                 │\n",
       "│ 4401 │ 4401       │ 3              │ 3                 │\n",
       "│ 4402 │ 4402       │ 2              │ 3                 │\n",
       "│ 4403 │ 4403       │ 3              │ 3                 │\n",
       "│ 4404 │ 4404       │ 3              │ 3                 │\n",
       "│ 4405 │ 4405       │ 2              │ 3                 │\n",
       "│ 4406 │ 4406       │ 3              │ 3                 │\n",
       "│ 4407 │ 4407       │ 2              │ 3                 │\n",
       "│ 4408 │ 4408       │ 3              │ 4                 │\n",
       "│ 4409 │ 4409       │ 2              │ 3                 │\n",
       "│ 4410 │ 4410       │ 4              │ 3                 │"
      ]
     },
     "execution_count": 195,
     "metadata": {},
     "output_type": "execute_result"
    }
   ],
   "source": [
    "full = join(manager, employee, on = :EmployeeID)\n",
    "df=join(full, general , on = :EmployeeID)"
   ]
  },
  {
   "cell_type": "code",
   "execution_count": 196,
   "metadata": {},
   "outputs": [
    {
     "name": "stdout",
     "output_type": "stream",
     "text": [
      "1\tEmployeeID\t\t\tInt64\n",
      "2\tJobInvolvement\t\t\tInt64\n",
      "3\tPerformanceRating\t\t\tInt64\n",
      "4\tEnvironmentSatisfaction\t\t\tString\n",
      "5\tJobSatisfaction\t\t\tString\n",
      "6\tWorkLifeBalance\t\t\tString\n",
      "7\tAge\t\t\tInt64\n",
      "8\tAttrition\t\t\tString\n",
      "9\tBusinessTravel\t\t\tString\n",
      "10\tDepartment\t\t\tString\n",
      "11\tDistanceFromHome\t\t\tInt64\n",
      "12\tEducation\t\t\tInt64\n",
      "13\tEducationField\t\t\tString\n",
      "14\tEmployeeCount\t\t\tInt64\n",
      "15\tGender\t\t\tString\n",
      "16\tJobLevel\t\t\tInt64\n",
      "17\tJobRole\t\t\tString\n",
      "18\tMaritalStatus\t\t\tString\n",
      "19\tMonthlyIncome\t\t\tInt64\n",
      "20\tNumCompaniesWorked\t\t\tString\n",
      "21\tOver18\t\t\tString\n",
      "22\tPercentSalaryHike\t\t\tInt64\n",
      "23\tStandardHours\t\t\tInt64\n",
      "24\tStockOptionLevel\t\t\tInt64\n",
      "25\tTotalWorkingYears\t\t\tString\n",
      "26\tTrainingTimesLastYear\t\t\tInt64\n",
      "27\tYearsAtCompany\t\t\tInt64\n",
      "28\tYearsSinceLastPromotion\t\t\tInt64\n",
      "29\tYearsWithCurrManager\t\t\tInt64\n"
     ]
    }
   ],
   "source": [
    "# let's list all available categories, as well as their datatype using the \"eltype\" function.\n",
    "feature_names = names(df)\n",
    "for i in 1:size(feature_names,1)\n",
    "    println(string(i), \"\\t\", string(feature_names[i]), \"\\t\\t\\t\", string(eltype(df[!, i])))\n",
    "end"
   ]
  },
  {
   "cell_type": "code",
   "execution_count": 257,
   "metadata": {},
   "outputs": [
    {
     "name": "stderr",
     "output_type": "stream",
     "text": [
      "┌ Warning: `getindex(df::DataFrame, col_ind::ColumnIndex)` is deprecated, use `df[!, col_ind]` instead.\n",
      "│   caller = top-level scope at In[257]:1\n",
      "└ @ Core In[257]:1\n"
     ]
    },
    {
     "data": {
      "text/plain": [
       "4410-element Array{Float64,1}:\n",
       " 0.0                \n",
       " 0.8571428571428571 \n",
       " 0.2857142857142857 \n",
       " 0.0                \n",
       " 0.07142857142857142\n",
       " 0.14285714285714285\n",
       " 0.6428571428571429 \n",
       " 0.7857142857142857 \n",
       " 0.7142857142857143 \n",
       " 0.14285714285714285\n",
       " 0.14285714285714285\n",
       " 0.07142857142857142\n",
       " 0.42857142857142855\n",
       " ⋮                  \n",
       " 0.07142857142857142\n",
       " 0.14285714285714285\n",
       " 0.21428571428571427\n",
       " 0.14285714285714285\n",
       " 0.0                \n",
       " 0.5714285714285714 \n",
       " 0.5                \n",
       " 0.42857142857142855\n",
       " 0.2857142857142857 \n",
       " 0.6428571428571429 \n",
       " 0.21428571428571427\n",
       " 0.07142857142857142"
      ]
     },
     "execution_count": 257,
     "metadata": {},
     "output_type": "execute_result"
    }
   ],
   "source": [
    "df[:PercentSalaryHike]"
   ]
  },
  {
   "cell_type": "code",
   "execution_count": 197,
   "metadata": {},
   "outputs": [
    {
     "name": "stderr",
     "output_type": "stream",
     "text": [
      "┌ Warning: `delete!(df::AbstractDataFrame, cols::Any)` is deprecated, use `select!(df, Not(cols))` instead.\n",
      "│   caller = top-level scope at In[197]:2\n",
      "└ @ Core In[197]:2\n",
      "┌ Warning: `delete!(df::AbstractDataFrame, cols::Any)` is deprecated, use `select!(df, Not(cols))` instead.\n",
      "│   caller = top-level scope at In[197]:3\n",
      "└ @ Core In[197]:3\n",
      "┌ Warning: `delete!(df::AbstractDataFrame, cols::Any)` is deprecated, use `select!(df, Not(cols))` instead.\n",
      "│   caller = top-level scope at In[197]:4\n",
      "└ @ Core In[197]:4\n",
      "┌ Warning: `delete!(df::AbstractDataFrame, cols::Any)` is deprecated, use `select!(df, Not(cols))` instead.\n",
      "│   caller = top-level scope at In[197]:5\n",
      "└ @ Core In[197]:5\n"
     ]
    },
    {
     "data": {
      "text/html": [
       "<table class=\"data-frame\"><thead><tr><th></th><th>JobInvolvement</th><th>PerformanceRating</th><th>EnvironmentSatisfaction</th><th>JobSatisfaction</th><th>WorkLifeBalance</th></tr><tr><th></th><th>Int64</th><th>Int64</th><th>String</th><th>String</th><th>String</th></tr></thead><tbody><p>4,410 rows × 25 columns (omitted printing of 20 columns)</p><tr><th>1</th><td>3</td><td>3</td><td>3</td><td>4</td><td>2</td></tr><tr><th>2</th><td>2</td><td>4</td><td>3</td><td>2</td><td>4</td></tr><tr><th>3</th><td>3</td><td>3</td><td>2</td><td>2</td><td>1</td></tr><tr><th>4</th><td>2</td><td>3</td><td>4</td><td>4</td><td>3</td></tr><tr><th>5</th><td>3</td><td>3</td><td>4</td><td>1</td><td>3</td></tr><tr><th>6</th><td>3</td><td>3</td><td>3</td><td>2</td><td>2</td></tr><tr><th>7</th><td>3</td><td>4</td><td>1</td><td>3</td><td>1</td></tr><tr><th>8</th><td>3</td><td>4</td><td>1</td><td>2</td><td>3</td></tr><tr><th>9</th><td>3</td><td>4</td><td>2</td><td>4</td><td>3</td></tr><tr><th>10</th><td>3</td><td>3</td><td>2</td><td>1</td><td>3</td></tr><tr><th>11</th><td>2</td><td>3</td><td>3</td><td>4</td><td>3</td></tr><tr><th>12</th><td>3</td><td>3</td><td>NA</td><td>4</td><td>3</td></tr><tr><th>13</th><td>3</td><td>3</td><td>4</td><td>1</td><td>3</td></tr><tr><th>14</th><td>2</td><td>3</td><td>1</td><td>2</td><td>2</td></tr><tr><th>15</th><td>3</td><td>3</td><td>4</td><td>4</td><td>2</td></tr><tr><th>16</th><td>3</td><td>3</td><td>3</td><td>4</td><td>4</td></tr><tr><th>17</th><td>2</td><td>3</td><td>4</td><td>3</td><td>4</td></tr><tr><th>18</th><td>3</td><td>3</td><td>1</td><td>4</td><td>3</td></tr><tr><th>19</th><td>2</td><td>3</td><td>2</td><td>2</td><td>2</td></tr><tr><th>20</th><td>3</td><td>3</td><td>1</td><td>1</td><td>3</td></tr><tr><th>21</th><td>3</td><td>3</td><td>3</td><td>2</td><td>1</td></tr><tr><th>22</th><td>2</td><td>4</td><td>1</td><td>2</td><td>2</td></tr><tr><th>23</th><td>3</td><td>3</td><td>3</td><td>3</td><td>2</td></tr><tr><th>24</th><td>1</td><td>3</td><td>2</td><td>3</td><td>3</td></tr><tr><th>25</th><td>3</td><td>3</td><td>2</td><td>4</td><td>2</td></tr><tr><th>26</th><td>3</td><td>3</td><td>2</td><td>4</td><td>3</td></tr><tr><th>27</th><td>3</td><td>4</td><td>1</td><td>1</td><td>3</td></tr><tr><th>28</th><td>3</td><td>3</td><td>4</td><td>4</td><td>3</td></tr><tr><th>29</th><td>2</td><td>3</td><td>4</td><td>3</td><td>1</td></tr><tr><th>30</th><td>2</td><td>3</td><td>4</td><td>4</td><td>3</td></tr><tr><th>&vellip;</th><td>&vellip;</td><td>&vellip;</td><td>&vellip;</td><td>&vellip;</td><td>&vellip;</td></tr></tbody></table>"
      ],
      "text/latex": [
       "\\begin{tabular}{r|cccccc}\n",
       "\t& JobInvolvement & PerformanceRating & EnvironmentSatisfaction & JobSatisfaction & WorkLifeBalance & \\\\\n",
       "\t\\hline\n",
       "\t& Int64 & Int64 & String & String & String & \\\\\n",
       "\t\\hline\n",
       "\t1 & 3 & 3 & 3 & 4 & 2 & $\\dots$ \\\\\n",
       "\t2 & 2 & 4 & 3 & 2 & 4 & $\\dots$ \\\\\n",
       "\t3 & 3 & 3 & 2 & 2 & 1 & $\\dots$ \\\\\n",
       "\t4 & 2 & 3 & 4 & 4 & 3 & $\\dots$ \\\\\n",
       "\t5 & 3 & 3 & 4 & 1 & 3 & $\\dots$ \\\\\n",
       "\t6 & 3 & 3 & 3 & 2 & 2 & $\\dots$ \\\\\n",
       "\t7 & 3 & 4 & 1 & 3 & 1 & $\\dots$ \\\\\n",
       "\t8 & 3 & 4 & 1 & 2 & 3 & $\\dots$ \\\\\n",
       "\t9 & 3 & 4 & 2 & 4 & 3 & $\\dots$ \\\\\n",
       "\t10 & 3 & 3 & 2 & 1 & 3 & $\\dots$ \\\\\n",
       "\t11 & 2 & 3 & 3 & 4 & 3 & $\\dots$ \\\\\n",
       "\t12 & 3 & 3 & NA & 4 & 3 & $\\dots$ \\\\\n",
       "\t13 & 3 & 3 & 4 & 1 & 3 & $\\dots$ \\\\\n",
       "\t14 & 2 & 3 & 1 & 2 & 2 & $\\dots$ \\\\\n",
       "\t15 & 3 & 3 & 4 & 4 & 2 & $\\dots$ \\\\\n",
       "\t16 & 3 & 3 & 3 & 4 & 4 & $\\dots$ \\\\\n",
       "\t17 & 2 & 3 & 4 & 3 & 4 & $\\dots$ \\\\\n",
       "\t18 & 3 & 3 & 1 & 4 & 3 & $\\dots$ \\\\\n",
       "\t19 & 2 & 3 & 2 & 2 & 2 & $\\dots$ \\\\\n",
       "\t20 & 3 & 3 & 1 & 1 & 3 & $\\dots$ \\\\\n",
       "\t21 & 3 & 3 & 3 & 2 & 1 & $\\dots$ \\\\\n",
       "\t22 & 2 & 4 & 1 & 2 & 2 & $\\dots$ \\\\\n",
       "\t23 & 3 & 3 & 3 & 3 & 2 & $\\dots$ \\\\\n",
       "\t24 & 1 & 3 & 2 & 3 & 3 & $\\dots$ \\\\\n",
       "\t25 & 3 & 3 & 2 & 4 & 2 & $\\dots$ \\\\\n",
       "\t26 & 3 & 3 & 2 & 4 & 3 & $\\dots$ \\\\\n",
       "\t27 & 3 & 4 & 1 & 1 & 3 & $\\dots$ \\\\\n",
       "\t28 & 3 & 3 & 4 & 4 & 3 & $\\dots$ \\\\\n",
       "\t29 & 2 & 3 & 4 & 3 & 1 & $\\dots$ \\\\\n",
       "\t30 & 2 & 3 & 4 & 4 & 3 & $\\dots$ \\\\\n",
       "\t$\\dots$ & $\\dots$ & $\\dots$ & $\\dots$ & $\\dots$ & $\\dots$ &  \\\\\n",
       "\\end{tabular}\n"
      ],
      "text/plain": [
       "4410×25 DataFrame. Omitted printing of 22 columns\n",
       "│ Row  │ JobInvolvement │ PerformanceRating │ EnvironmentSatisfaction │\n",
       "│      │ \u001b[90mInt64\u001b[39m          │ \u001b[90mInt64\u001b[39m             │ \u001b[90mString\u001b[39m                  │\n",
       "├──────┼────────────────┼───────────────────┼─────────────────────────┤\n",
       "│ 1    │ 3              │ 3                 │ 3                       │\n",
       "│ 2    │ 2              │ 4                 │ 3                       │\n",
       "│ 3    │ 3              │ 3                 │ 2                       │\n",
       "│ 4    │ 2              │ 3                 │ 4                       │\n",
       "│ 5    │ 3              │ 3                 │ 4                       │\n",
       "│ 6    │ 3              │ 3                 │ 3                       │\n",
       "│ 7    │ 3              │ 4                 │ 1                       │\n",
       "│ 8    │ 3              │ 4                 │ 1                       │\n",
       "│ 9    │ 3              │ 4                 │ 2                       │\n",
       "│ 10   │ 3              │ 3                 │ 2                       │\n",
       "⋮\n",
       "│ 4400 │ 2              │ 3                 │ 4                       │\n",
       "│ 4401 │ 3              │ 3                 │ 3                       │\n",
       "│ 4402 │ 2              │ 3                 │ 1                       │\n",
       "│ 4403 │ 3              │ 3                 │ 1                       │\n",
       "│ 4404 │ 3              │ 3                 │ 3                       │\n",
       "│ 4405 │ 2              │ 3                 │ 3                       │\n",
       "│ 4406 │ 3              │ 3                 │ 4                       │\n",
       "│ 4407 │ 2              │ 3                 │ 4                       │\n",
       "│ 4408 │ 3              │ 4                 │ 1                       │\n",
       "│ 4409 │ 2              │ 3                 │ 4                       │\n",
       "│ 4410 │ 4              │ 3                 │ 1                       │"
      ]
     },
     "execution_count": 197,
     "metadata": {},
     "output_type": "execute_result"
    }
   ],
   "source": [
    "B=[\"Over18\",\"EmployeeID\",\"EmployeeCount\",\"StandardHours\"]\n",
    "delete!(df, :Over18)\n",
    "delete!(df, :EmployeeID)\n",
    "delete!(df, :EmployeeCount)\n",
    "delete!(df, :StandardHours)"
   ]
  },
  {
   "cell_type": "code",
   "execution_count": 198,
   "metadata": {},
   "outputs": [
    {
     "name": "stderr",
     "output_type": "stream",
     "text": [
      "┌ Warning: `getindex(df::DataFrame, ::Colon)` is deprecated, use `df[:, :]` instead.\n",
      "│   caller = top-level scope at In[198]:1\n",
      "└ @ Core In[198]:1\n"
     ]
    },
    {
     "data": {
      "text/html": [
       "<table class=\"data-frame\"><thead><tr><th></th><th>JobInvolvement</th><th>PerformanceRating</th><th>EnvironmentSatisfaction</th><th>JobSatisfaction</th><th>WorkLifeBalance</th></tr><tr><th></th><th>Int64</th><th>Int64</th><th>String</th><th>String</th><th>String</th></tr></thead><tbody><p>4,410 rows × 25 columns (omitted printing of 20 columns)</p><tr><th>1</th><td>3</td><td>3</td><td>3</td><td>4</td><td>2</td></tr><tr><th>2</th><td>2</td><td>4</td><td>3</td><td>2</td><td>4</td></tr><tr><th>3</th><td>3</td><td>3</td><td>2</td><td>2</td><td>1</td></tr><tr><th>4</th><td>2</td><td>3</td><td>4</td><td>4</td><td>3</td></tr><tr><th>5</th><td>3</td><td>3</td><td>4</td><td>1</td><td>3</td></tr><tr><th>6</th><td>3</td><td>3</td><td>3</td><td>2</td><td>2</td></tr><tr><th>7</th><td>3</td><td>4</td><td>1</td><td>3</td><td>1</td></tr><tr><th>8</th><td>3</td><td>4</td><td>1</td><td>2</td><td>3</td></tr><tr><th>9</th><td>3</td><td>4</td><td>2</td><td>4</td><td>3</td></tr><tr><th>10</th><td>3</td><td>3</td><td>2</td><td>1</td><td>3</td></tr><tr><th>11</th><td>2</td><td>3</td><td>3</td><td>4</td><td>3</td></tr><tr><th>12</th><td>3</td><td>3</td><td>NA</td><td>4</td><td>3</td></tr><tr><th>13</th><td>3</td><td>3</td><td>4</td><td>1</td><td>3</td></tr><tr><th>14</th><td>2</td><td>3</td><td>1</td><td>2</td><td>2</td></tr><tr><th>15</th><td>3</td><td>3</td><td>4</td><td>4</td><td>2</td></tr><tr><th>16</th><td>3</td><td>3</td><td>3</td><td>4</td><td>4</td></tr><tr><th>17</th><td>2</td><td>3</td><td>4</td><td>3</td><td>4</td></tr><tr><th>18</th><td>3</td><td>3</td><td>1</td><td>4</td><td>3</td></tr><tr><th>19</th><td>2</td><td>3</td><td>2</td><td>2</td><td>2</td></tr><tr><th>20</th><td>3</td><td>3</td><td>1</td><td>1</td><td>3</td></tr><tr><th>21</th><td>3</td><td>3</td><td>3</td><td>2</td><td>1</td></tr><tr><th>22</th><td>2</td><td>4</td><td>1</td><td>2</td><td>2</td></tr><tr><th>23</th><td>3</td><td>3</td><td>3</td><td>3</td><td>2</td></tr><tr><th>24</th><td>1</td><td>3</td><td>2</td><td>3</td><td>3</td></tr><tr><th>25</th><td>3</td><td>3</td><td>2</td><td>4</td><td>2</td></tr><tr><th>26</th><td>3</td><td>3</td><td>2</td><td>4</td><td>3</td></tr><tr><th>27</th><td>3</td><td>4</td><td>1</td><td>1</td><td>3</td></tr><tr><th>28</th><td>3</td><td>3</td><td>4</td><td>4</td><td>3</td></tr><tr><th>29</th><td>2</td><td>3</td><td>4</td><td>3</td><td>1</td></tr><tr><th>30</th><td>2</td><td>3</td><td>4</td><td>4</td><td>3</td></tr><tr><th>&vellip;</th><td>&vellip;</td><td>&vellip;</td><td>&vellip;</td><td>&vellip;</td><td>&vellip;</td></tr></tbody></table>"
      ],
      "text/latex": [
       "\\begin{tabular}{r|cccccc}\n",
       "\t& JobInvolvement & PerformanceRating & EnvironmentSatisfaction & JobSatisfaction & WorkLifeBalance & \\\\\n",
       "\t\\hline\n",
       "\t& Int64 & Int64 & String & String & String & \\\\\n",
       "\t\\hline\n",
       "\t1 & 3 & 3 & 3 & 4 & 2 & $\\dots$ \\\\\n",
       "\t2 & 2 & 4 & 3 & 2 & 4 & $\\dots$ \\\\\n",
       "\t3 & 3 & 3 & 2 & 2 & 1 & $\\dots$ \\\\\n",
       "\t4 & 2 & 3 & 4 & 4 & 3 & $\\dots$ \\\\\n",
       "\t5 & 3 & 3 & 4 & 1 & 3 & $\\dots$ \\\\\n",
       "\t6 & 3 & 3 & 3 & 2 & 2 & $\\dots$ \\\\\n",
       "\t7 & 3 & 4 & 1 & 3 & 1 & $\\dots$ \\\\\n",
       "\t8 & 3 & 4 & 1 & 2 & 3 & $\\dots$ \\\\\n",
       "\t9 & 3 & 4 & 2 & 4 & 3 & $\\dots$ \\\\\n",
       "\t10 & 3 & 3 & 2 & 1 & 3 & $\\dots$ \\\\\n",
       "\t11 & 2 & 3 & 3 & 4 & 3 & $\\dots$ \\\\\n",
       "\t12 & 3 & 3 & NA & 4 & 3 & $\\dots$ \\\\\n",
       "\t13 & 3 & 3 & 4 & 1 & 3 & $\\dots$ \\\\\n",
       "\t14 & 2 & 3 & 1 & 2 & 2 & $\\dots$ \\\\\n",
       "\t15 & 3 & 3 & 4 & 4 & 2 & $\\dots$ \\\\\n",
       "\t16 & 3 & 3 & 3 & 4 & 4 & $\\dots$ \\\\\n",
       "\t17 & 2 & 3 & 4 & 3 & 4 & $\\dots$ \\\\\n",
       "\t18 & 3 & 3 & 1 & 4 & 3 & $\\dots$ \\\\\n",
       "\t19 & 2 & 3 & 2 & 2 & 2 & $\\dots$ \\\\\n",
       "\t20 & 3 & 3 & 1 & 1 & 3 & $\\dots$ \\\\\n",
       "\t21 & 3 & 3 & 3 & 2 & 1 & $\\dots$ \\\\\n",
       "\t22 & 2 & 4 & 1 & 2 & 2 & $\\dots$ \\\\\n",
       "\t23 & 3 & 3 & 3 & 3 & 2 & $\\dots$ \\\\\n",
       "\t24 & 1 & 3 & 2 & 3 & 3 & $\\dots$ \\\\\n",
       "\t25 & 3 & 3 & 2 & 4 & 2 & $\\dots$ \\\\\n",
       "\t26 & 3 & 3 & 2 & 4 & 3 & $\\dots$ \\\\\n",
       "\t27 & 3 & 4 & 1 & 1 & 3 & $\\dots$ \\\\\n",
       "\t28 & 3 & 3 & 4 & 4 & 3 & $\\dots$ \\\\\n",
       "\t29 & 2 & 3 & 4 & 3 & 1 & $\\dots$ \\\\\n",
       "\t30 & 2 & 3 & 4 & 4 & 3 & $\\dots$ \\\\\n",
       "\t$\\dots$ & $\\dots$ & $\\dots$ & $\\dots$ & $\\dots$ & $\\dots$ &  \\\\\n",
       "\\end{tabular}\n"
      ],
      "text/plain": [
       "4410×25 DataFrame. Omitted printing of 22 columns\n",
       "│ Row  │ JobInvolvement │ PerformanceRating │ EnvironmentSatisfaction │\n",
       "│      │ \u001b[90mInt64\u001b[39m          │ \u001b[90mInt64\u001b[39m             │ \u001b[90mString\u001b[39m                  │\n",
       "├──────┼────────────────┼───────────────────┼─────────────────────────┤\n",
       "│ 1    │ 3              │ 3                 │ 3                       │\n",
       "│ 2    │ 2              │ 4                 │ 3                       │\n",
       "│ 3    │ 3              │ 3                 │ 2                       │\n",
       "│ 4    │ 2              │ 3                 │ 4                       │\n",
       "│ 5    │ 3              │ 3                 │ 4                       │\n",
       "│ 6    │ 3              │ 3                 │ 3                       │\n",
       "│ 7    │ 3              │ 4                 │ 1                       │\n",
       "│ 8    │ 3              │ 4                 │ 1                       │\n",
       "│ 9    │ 3              │ 4                 │ 2                       │\n",
       "│ 10   │ 3              │ 3                 │ 2                       │\n",
       "⋮\n",
       "│ 4400 │ 2              │ 3                 │ 4                       │\n",
       "│ 4401 │ 3              │ 3                 │ 3                       │\n",
       "│ 4402 │ 2              │ 3                 │ 1                       │\n",
       "│ 4403 │ 3              │ 3                 │ 1                       │\n",
       "│ 4404 │ 3              │ 3                 │ 3                       │\n",
       "│ 4405 │ 2              │ 3                 │ 3                       │\n",
       "│ 4406 │ 3              │ 3                 │ 4                       │\n",
       "│ 4407 │ 2              │ 3                 │ 4                       │\n",
       "│ 4408 │ 3              │ 4                 │ 1                       │\n",
       "│ 4409 │ 2              │ 3                 │ 4                       │\n",
       "│ 4410 │ 4              │ 3                 │ 1                       │"
      ]
     },
     "execution_count": 198,
     "metadata": {},
     "output_type": "execute_result"
    }
   ],
   "source": [
    "d"
   ]
  },
  {
   "cell_type": "code",
   "execution_count": 199,
   "metadata": {},
   "outputs": [
    {
     "data": {
      "text/plain": [
       "gender_num (generic function with 1 method)"
      ]
     },
     "execution_count": 199,
     "metadata": {},
     "output_type": "execute_result"
    }
   ],
   "source": [
    "\"This function converts strings to floating point values.\n",
    "Strings that cannot be represented as a number (like NA) are converted to zeros\"\n",
    "function string_to_float(str)\n",
    "    try\n",
    "        parse(Float64, str)\n",
    "    catch\n",
    "       missing\n",
    "    end\n",
    "end\n",
    "\n",
    "function attrition_num(str)\n",
    "    if str==\"Yes\"\n",
    "        return 1\n",
    "    else\n",
    "        return -1\n",
    "    end\n",
    "end\n",
    "\n",
    "function attrition_num2(str)\n",
    "    if str==\"Yes\"\n",
    "        return 1\n",
    "    else\n",
    "        return 0\n",
    "    end\n",
    "end\n",
    "\n",
    "function gender_num(str)\n",
    "    if str==\"Male\"\n",
    "        return 0\n",
    "    else\n",
    "        return 1\n",
    "    end\n",
    "end\n",
    "\n",
    "\n"
   ]
  },
  {
   "cell_type": "code",
   "execution_count": 200,
   "metadata": {},
   "outputs": [
    {
     "data": {
      "text/plain": [
       "5-element Array{Symbol,1}:\n",
       " :EnvironmentSatisfaction\n",
       " :JobSatisfaction        \n",
       " :WorkLifeBalance        \n",
       " :NumCompaniesWorked     \n",
       " :TotalWorkingYears      "
      ]
     },
     "execution_count": 200,
     "metadata": {},
     "output_type": "execute_result"
    }
   ],
   "source": [
    "#This are stored as strings (we want to change them to numerical values)\n",
    "labels_string=[:EnvironmentSatisfaction,:JobSatisfaction,:WorkLifeBalance,:NumCompaniesWorked,:TotalWorkingYears]"
   ]
  },
  {
   "cell_type": "code",
   "execution_count": 201,
   "metadata": {},
   "outputs": [
    {
     "name": "stderr",
     "output_type": "stream",
     "text": [
      "┌ Warning: implicit vector broadcasting in setindex! is deprecated; use `df[:, col_inds] .= Ref(v)` broadcasting assignment to change the columns in place\n",
      "│   caller = top-level scope at In[201]:1\n",
      "└ @ Core In[201]:1\n",
      "┌ Warning: `setindex!(df::DataFrame, new_df::DataFrame, col_inds::AbstractVector{<:ColumnIndex})` is deprecated, use `foreach((((j, colind),)->begin\n",
      "│             df[!, colind] = new_df[!, j]\n",
      "│         end), enumerate(col_inds))` instead.\n",
      "│   caller = setindex!(::DataFrame, ::DataFrame, ::Colon, ::Array{Symbol,1}) at deprecated.jl:1584\n",
      "└ @ DataFrames /Users/silviaruiz/.julia/packages/DataFrames/yH0f6/src/deprecated.jl:1584\n"
     ]
    },
    {
     "data": {
      "text/html": [
       "<table class=\"data-frame\"><thead><tr><th></th><th>EnvironmentSatisfaction</th><th>JobSatisfaction</th><th>WorkLifeBalance</th><th>NumCompaniesWorked</th><th>TotalWorkingYears</th></tr><tr><th></th><th>Float64⍰</th><th>Float64⍰</th><th>Float64⍰</th><th>Float64⍰</th><th>Float64⍰</th></tr></thead><tbody><p>4,410 rows × 5 columns</p><tr><th>1</th><td>3.0</td><td>4.0</td><td>2.0</td><td>1.0</td><td>1.0</td></tr><tr><th>2</th><td>3.0</td><td>2.0</td><td>4.0</td><td>0.0</td><td>6.0</td></tr><tr><th>3</th><td>2.0</td><td>2.0</td><td>1.0</td><td>1.0</td><td>5.0</td></tr><tr><th>4</th><td>4.0</td><td>4.0</td><td>3.0</td><td>3.0</td><td>13.0</td></tr><tr><th>5</th><td>4.0</td><td>1.0</td><td>3.0</td><td>4.0</td><td>9.0</td></tr><tr><th>6</th><td>3.0</td><td>2.0</td><td>2.0</td><td>3.0</td><td>28.0</td></tr><tr><th>7</th><td>1.0</td><td>3.0</td><td>1.0</td><td>2.0</td><td>5.0</td></tr><tr><th>8</th><td>1.0</td><td>2.0</td><td>3.0</td><td>2.0</td><td>10.0</td></tr><tr><th>9</th><td>2.0</td><td>4.0</td><td>3.0</td><td>0.0</td><td>10.0</td></tr><tr><th>10</th><td>2.0</td><td>1.0</td><td>3.0</td><td>1.0</td><td>6.0</td></tr><tr><th>11</th><td>3.0</td><td>4.0</td><td>3.0</td><td>0.0</td><td>21.0</td></tr><tr><th>12</th><td>missing</td><td>4.0</td><td>3.0</td><td>0.0</td><td>16.0</td></tr><tr><th>13</th><td>4.0</td><td>1.0</td><td>3.0</td><td>0.0</td><td>37.0</td></tr><tr><th>14</th><td>1.0</td><td>2.0</td><td>2.0</td><td>1.0</td><td>10.0</td></tr><tr><th>15</th><td>4.0</td><td>4.0</td><td>2.0</td><td>1.0</td><td>5.0</td></tr><tr><th>16</th><td>3.0</td><td>4.0</td><td>4.0</td><td>4.0</td><td>7.0</td></tr><tr><th>17</th><td>4.0</td><td>3.0</td><td>4.0</td><td>1.0</td><td>3.0</td></tr><tr><th>18</th><td>1.0</td><td>4.0</td><td>3.0</td><td>2.0</td><td>15.0</td></tr><tr><th>19</th><td>2.0</td><td>2.0</td><td>2.0</td><td>7.0</td><td>10.0</td></tr><tr><th>20</th><td>1.0</td><td>1.0</td><td>3.0</td><td>1.0</td><td>8.0</td></tr><tr><th>21</th><td>3.0</td><td>2.0</td><td>1.0</td><td>1.0</td><td>6.0</td></tr><tr><th>22</th><td>1.0</td><td>2.0</td><td>2.0</td><td>3.0</td><td>28.0</td></tr><tr><th>23</th><td>3.0</td><td>3.0</td><td>2.0</td><td>3.0</td><td>21.0</td></tr><tr><th>24</th><td>2.0</td><td>3.0</td><td>3.0</td><td>1.0</td><td>missing</td></tr><tr><th>25</th><td>2.0</td><td>4.0</td><td>2.0</td><td>1.0</td><td>10.0</td></tr><tr><th>26</th><td>2.0</td><td>4.0</td><td>3.0</td><td>3.0</td><td>12.0</td></tr><tr><th>27</th><td>1.0</td><td>1.0</td><td>3.0</td><td>1.0</td><td>5.0</td></tr><tr><th>28</th><td>4.0</td><td>4.0</td><td>3.0</td><td>1.0</td><td>17.0</td></tr><tr><th>29</th><td>4.0</td><td>3.0</td><td>1.0</td><td>3.0</td><td>19.0</td></tr><tr><th>30</th><td>4.0</td><td>4.0</td><td>3.0</td><td>9.0</td><td>10.0</td></tr><tr><th>&vellip;</th><td>&vellip;</td><td>&vellip;</td><td>&vellip;</td><td>&vellip;</td><td>&vellip;</td></tr></tbody></table>"
      ],
      "text/latex": [
       "\\begin{tabular}{r|ccccc}\n",
       "\t& EnvironmentSatisfaction & JobSatisfaction & WorkLifeBalance & NumCompaniesWorked & TotalWorkingYears\\\\\n",
       "\t\\hline\n",
       "\t& Float64⍰ & Float64⍰ & Float64⍰ & Float64⍰ & Float64⍰\\\\\n",
       "\t\\hline\n",
       "\t1 & 3.0 & 4.0 & 2.0 & 1.0 & 1.0 \\\\\n",
       "\t2 & 3.0 & 2.0 & 4.0 & 0.0 & 6.0 \\\\\n",
       "\t3 & 2.0 & 2.0 & 1.0 & 1.0 & 5.0 \\\\\n",
       "\t4 & 4.0 & 4.0 & 3.0 & 3.0 & 13.0 \\\\\n",
       "\t5 & 4.0 & 1.0 & 3.0 & 4.0 & 9.0 \\\\\n",
       "\t6 & 3.0 & 2.0 & 2.0 & 3.0 & 28.0 \\\\\n",
       "\t7 & 1.0 & 3.0 & 1.0 & 2.0 & 5.0 \\\\\n",
       "\t8 & 1.0 & 2.0 & 3.0 & 2.0 & 10.0 \\\\\n",
       "\t9 & 2.0 & 4.0 & 3.0 & 0.0 & 10.0 \\\\\n",
       "\t10 & 2.0 & 1.0 & 3.0 & 1.0 & 6.0 \\\\\n",
       "\t11 & 3.0 & 4.0 & 3.0 & 0.0 & 21.0 \\\\\n",
       "\t12 &  & 4.0 & 3.0 & 0.0 & 16.0 \\\\\n",
       "\t13 & 4.0 & 1.0 & 3.0 & 0.0 & 37.0 \\\\\n",
       "\t14 & 1.0 & 2.0 & 2.0 & 1.0 & 10.0 \\\\\n",
       "\t15 & 4.0 & 4.0 & 2.0 & 1.0 & 5.0 \\\\\n",
       "\t16 & 3.0 & 4.0 & 4.0 & 4.0 & 7.0 \\\\\n",
       "\t17 & 4.0 & 3.0 & 4.0 & 1.0 & 3.0 \\\\\n",
       "\t18 & 1.0 & 4.0 & 3.0 & 2.0 & 15.0 \\\\\n",
       "\t19 & 2.0 & 2.0 & 2.0 & 7.0 & 10.0 \\\\\n",
       "\t20 & 1.0 & 1.0 & 3.0 & 1.0 & 8.0 \\\\\n",
       "\t21 & 3.0 & 2.0 & 1.0 & 1.0 & 6.0 \\\\\n",
       "\t22 & 1.0 & 2.0 & 2.0 & 3.0 & 28.0 \\\\\n",
       "\t23 & 3.0 & 3.0 & 2.0 & 3.0 & 21.0 \\\\\n",
       "\t24 & 2.0 & 3.0 & 3.0 & 1.0 &  \\\\\n",
       "\t25 & 2.0 & 4.0 & 2.0 & 1.0 & 10.0 \\\\\n",
       "\t26 & 2.0 & 4.0 & 3.0 & 3.0 & 12.0 \\\\\n",
       "\t27 & 1.0 & 1.0 & 3.0 & 1.0 & 5.0 \\\\\n",
       "\t28 & 4.0 & 4.0 & 3.0 & 1.0 & 17.0 \\\\\n",
       "\t29 & 4.0 & 3.0 & 1.0 & 3.0 & 19.0 \\\\\n",
       "\t30 & 4.0 & 4.0 & 3.0 & 9.0 & 10.0 \\\\\n",
       "\t$\\dots$ & $\\dots$ & $\\dots$ & $\\dots$ & $\\dots$ & $\\dots$ \\\\\n",
       "\\end{tabular}\n"
      ],
      "text/plain": [
       "4410×5 DataFrame. Omitted printing of 2 columns\n",
       "│ Row  │ EnvironmentSatisfaction │ JobSatisfaction │ WorkLifeBalance │\n",
       "│      │ \u001b[90mUnion{Missing, Float64}\u001b[39m │ \u001b[90mFloat64⍰\u001b[39m        │ \u001b[90mFloat64⍰\u001b[39m        │\n",
       "├──────┼─────────────────────────┼─────────────────┼─────────────────┤\n",
       "│ 1    │ 3.0                     │ 4.0             │ 2.0             │\n",
       "│ 2    │ 3.0                     │ 2.0             │ 4.0             │\n",
       "│ 3    │ 2.0                     │ 2.0             │ 1.0             │\n",
       "│ 4    │ 4.0                     │ 4.0             │ 3.0             │\n",
       "│ 5    │ 4.0                     │ 1.0             │ 3.0             │\n",
       "│ 6    │ 3.0                     │ 2.0             │ 2.0             │\n",
       "│ 7    │ 1.0                     │ 3.0             │ 1.0             │\n",
       "│ 8    │ 1.0                     │ 2.0             │ 3.0             │\n",
       "│ 9    │ 2.0                     │ 4.0             │ 3.0             │\n",
       "│ 10   │ 2.0                     │ 1.0             │ 3.0             │\n",
       "⋮\n",
       "│ 4400 │ 4.0                     │ 1.0             │ 3.0             │\n",
       "│ 4401 │ 3.0                     │ 1.0             │ 2.0             │\n",
       "│ 4402 │ 1.0                     │ 3.0             │ 3.0             │\n",
       "│ 4403 │ 1.0                     │ 3.0             │ 3.0             │\n",
       "│ 4404 │ 3.0                     │ 3.0             │ 3.0             │\n",
       "│ 4405 │ 3.0                     │ 4.0             │ 3.0             │\n",
       "│ 4406 │ 4.0                     │ 1.0             │ 3.0             │\n",
       "│ 4407 │ 4.0                     │ 4.0             │ 3.0             │\n",
       "│ 4408 │ 1.0                     │ 3.0             │ 3.0             │\n",
       "│ 4409 │ 4.0                     │ 1.0             │ 3.0             │\n",
       "│ 4410 │ 1.0                     │ 3.0             │ \u001b[90mmissing\u001b[39m         │"
      ]
     },
     "execution_count": 201,
     "metadata": {},
     "output_type": "execute_result"
    }
   ],
   "source": [
    "df[:,labels_string]=string_to_float.(df[:,labels_string])"
   ]
  },
  {
   "cell_type": "code",
   "execution_count": 202,
   "metadata": {},
   "outputs": [
    {
     "data": {
      "text/plain": [
       "4410-element Array{Int64,1}:\n",
       " 1\n",
       " 2\n",
       " 4\n",
       " 4\n",
       " 3\n",
       " 1\n",
       " 2\n",
       " 4\n",
       " 1\n",
       " 2\n",
       " 3\n",
       " 3\n",
       " 1\n",
       " ⋮\n",
       " 2\n",
       " 1\n",
       " 4\n",
       " 1\n",
       " 2\n",
       " 2\n",
       " 1\n",
       " 2\n",
       " 1\n",
       " 1\n",
       " 2\n",
       " 1"
      ]
     },
     "execution_count": 202,
     "metadata": {},
     "output_type": "execute_result"
    }
   ],
   "source": [
    "#Sum one to the stock level option\n",
    "df.StockOptionLevel=df.StockOptionLevel.+1"
   ]
  },
  {
   "cell_type": "code",
   "execution_count": 203,
   "metadata": {},
   "outputs": [
    {
     "data": {
      "text/plain": [
       "10-element Array{Symbol,1}:\n",
       " :NumCompaniesWorked     \n",
       " :TotalWorkingYears      \n",
       " :Age                    \n",
       " :DistanceFromHome       \n",
       " :MonthlyIncome          \n",
       " :PercentSalaryHike      \n",
       " :TrainingTimesLastYear  \n",
       " :YearsAtCompany         \n",
       " :YearsSinceLastPromotion\n",
       " :YearsWithCurrManager   "
      ]
     },
     "execution_count": 203,
     "metadata": {},
     "output_type": "execute_result"
    }
   ],
   "source": [
    "label_cat=[:Department,:EducationField,:JobRole,:MaritalStatus] #done\n",
    "label_boolean=[:Gender,:Attrition] \n",
    "label_dict_rank=[:BusinessTravel] #done\n",
    "label_rank_5levels=[:Education] #done\n",
    "label_rank=[:WorkLifeBalance,:EnvironmentSatisfaction,:JobSatisfaction,:JobInvolvement,:PerformanceRating,:JobLevel,:StockOptionLevel] #done\n",
    "labels_real=[:NumCompaniesWorked,:TotalWorkingYears,:Age,:DistanceFromHome,:MonthlyIncome,:PercentSalaryHike,:TrainingTimesLastYear,:YearsAtCompany,:YearsSinceLastPromotion,:YearsWithCurrManager]#done"
   ]
  },
  {
   "cell_type": "code",
   "execution_count": 204,
   "metadata": {},
   "outputs": [
    {
     "data": {
      "text/plain": [
       "7-element Array{Symbol,1}:\n",
       " :NumCompaniesWorked     \n",
       " :Age                    \n",
       " :DistanceFromHome       \n",
       " :MonthlyIncome          \n",
       " :TrainingTimesLastYear  \n",
       " :YearsAtCompany         \n",
       " :YearsSinceLastPromotion"
      ]
     },
     "execution_count": 204,
     "metadata": {},
     "output_type": "execute_result"
    }
   ],
   "source": [
    "label_cat2=[:Department,:EducationField,:JobRole,:MaritalStatus] #done\n",
    "label_boolean2=[:Gender,:Attrition] \n",
    "label_dict_rank2=[:BusinessTravel] #done\n",
    "label_rank_5levels2=[:Education] #done\n",
    "label_rank2=[:WorkLifeBalance,:EnvironmentSatisfaction,:JobSatisfaction,:JobInvolvement,:PerformanceRating,:JobLevel,:StockOptionLevel] #done\n",
    "labels_real2=[:NumCompaniesWorked,:Age,:DistanceFromHome,:MonthlyIncome,:TrainingTimesLastYear,:YearsAtCompany,:YearsSinceLastPromotion]#done"
   ]
  },
  {
   "cell_type": "code",
   "execution_count": 205,
   "metadata": {},
   "outputs": [
    {
     "data": {
      "text/plain": [
       "25"
      ]
     },
     "execution_count": 205,
     "metadata": {},
     "output_type": "execute_result"
    }
   ],
   "source": [
    "#Check that all variables are included\n",
    "size(label_cat,1)+size(label_boolean,1)+size(label_dict_rank,1)+size(label_rank,1)+size(labels_real,1)+size(label_rank_5levels,1)"
   ]
  },
  {
   "cell_type": "code",
   "execution_count": 206,
   "metadata": {},
   "outputs": [
    {
     "data": {
      "text/plain": [
       "22"
      ]
     },
     "execution_count": 206,
     "metadata": {},
     "output_type": "execute_result"
    }
   ],
   "source": [
    "#Check that all variables are included\n",
    "size(label_cat2,1)+size(label_boolean2,1)+size(label_dict_rank2,1)+size(label_rank2,1)+size(labels_real2,1)+size(label_rank_5levels2,1)"
   ]
  },
  {
   "cell_type": "code",
   "execution_count": 207,
   "metadata": {},
   "outputs": [
    {
     "data": {
      "text/plain": [
       "onehot"
      ]
     },
     "execution_count": 207,
     "metadata": {},
     "output_type": "execute_result"
    }
   ],
   "source": [
    "cats_sets = [unique(df[:, label]) for label in label_cat]\n",
    "\n",
    "\"Computes a onehot vector for every entry in column given a set of categories cats\"\n",
    "function onehot(column, cats=unique(column))\n",
    "    n1=size(column,1)\n",
    "    n2=size(cats,1)\n",
    "    result = zeros(n1,n2)\n",
    "    for i=1:n1\n",
    "        for j=1:n2\n",
    "            if column[i]==cats[j]\n",
    "                result[i,j]=1 \n",
    "            end\n",
    "        end\n",
    "    end\n",
    "    result\n",
    "end"
   ]
  },
  {
   "cell_type": "code",
   "execution_count": 208,
   "metadata": {},
   "outputs": [
    {
     "data": {
      "text/plain": [
       "rankhot (generic function with 1 method)"
      ]
     },
     "execution_count": 208,
     "metadata": {},
     "output_type": "execute_result"
    }
   ],
   "source": [
    "function rankhot(column, n)\n",
    "    m=size(column,1)\n",
    "    result=zeros(m,n-1)\n",
    "    for i=1:m\n",
    "        for j=1:n-1\n",
    "            if j<column[i]\n",
    "                result[i,j]=1\n",
    "            end\n",
    "        end\n",
    "    end\n",
    "    return result\n",
    "end"
   ]
  },
  {
   "cell_type": "code",
   "execution_count": 209,
   "metadata": {},
   "outputs": [
    {
     "data": {
      "text/plain": [
       "Dict{String,Int64} with 3 entries:\n",
       "  \"Travel_Frequently\" => 3\n",
       "  \"Travel_Rarely\"     => 2\n",
       "  \"Non-Travel\"        => 1"
      ]
     },
     "execution_count": 209,
     "metadata": {},
     "output_type": "execute_result"
    }
   ],
   "source": [
    "dict_travel = Dict(\"Non-Travel\" => 1, \"Travel_Rarely\" => 2, \"Travel_Frequently\" => 3)"
   ]
  },
  {
   "cell_type": "code",
   "execution_count": 210,
   "metadata": {},
   "outputs": [
    {
     "data": {
      "text/plain": [
       "stringhot (generic function with 1 method)"
      ]
     },
     "execution_count": 210,
     "metadata": {},
     "output_type": "execute_result"
    }
   ],
   "source": [
    "function stringhot(column,dictionary)\n",
    "    n=length(dictionary)\n",
    "    m=size(column,1)\n",
    "    result=zeros(m,n-1)\n",
    "    for i=1:m\n",
    "        for j=1:n-1\n",
    "            if j<dictionary[column[i]]\n",
    "                result[i,j]=1\n",
    "            end\n",
    "        end\n",
    "    end\n",
    "    return result\n",
    "end"
   ]
  },
  {
   "cell_type": "code",
   "execution_count": 211,
   "metadata": {},
   "outputs": [
    {
     "name": "stderr",
     "output_type": "stream",
     "text": [
      "┌ Warning: `colwise(f, d::AbstractDataFrame)` is deprecated, use `[f(col) for col = eachcol(d)]` instead.\n",
      "│   caller = top-level scope at In[211]:1\n",
      "└ @ Core In[211]:1\n"
     ]
    },
    {
     "data": {
      "image/png": "[encoded data removed]"
     },
     "execution_count": 211,
     "metadata": {},
     "output_type": "execute_result"
    }
   ],
   "source": [
    "miss=colwise(x -> any(ismissing.(x)), df)\n",
    "histogram(miss)"
   ]
  },
  {
   "cell_type": "code",
   "execution_count": 212,
   "metadata": {},
   "outputs": [
    {
     "name": "stderr",
     "output_type": "stream",
     "text": [
      "┌ Warning: `setindex!(df::DataFrame, v::AbstractVector, ::Colon, col_ind::ColumnIndex)` is deprecated, use `begin\n",
      "│     df[!, col_ind] = v\n",
      "│     df\n",
      "│ end` instead.\n",
      "│   caller = top-level scope at In[212]:4\n",
      "└ @ Core ./In[212]:4\n"
     ]
    }
   ],
   "source": [
    "#Replace missing values with median\n",
    "Label_missing=[:NumCompaniesWorked,:TotalWorkingYears,:EnvironmentSatisfaction,:JobSatisfaction,:WorkLifeBalance]\n",
    "for x in Label_missing\n",
    "    df[:,x]=collect( Missings.replace( df[:,x] , median(skipmissing(df[:,x])) )) \n",
    "end"
   ]
  },
  {
   "cell_type": "code",
   "execution_count": 213,
   "metadata": {},
   "outputs": [
    {
     "data": {
      "text/plain": [
       "standarize (generic function with 1 method)"
      ]
     },
     "execution_count": 213,
     "metadata": {},
     "output_type": "execute_result"
    }
   ],
   "source": [
    "function standarize(column)\n",
    "    M=maximum(column)\n",
    "    m=minimum(column)\n",
    "    return (column.-m)./(M-m)\n",
    "end"
   ]
  },
  {
   "cell_type": "code",
   "execution_count": 214,
   "metadata": {},
   "outputs": [
    {
     "name": "stderr",
     "output_type": "stream",
     "text": [
      "┌ Warning: `setindex!(df::DataFrame, v::AbstractVector, ::Colon, col_ind::ColumnIndex)` is deprecated, use `begin\n",
      "│     df[!, col_ind] = v\n",
      "│     df\n",
      "│ end` instead.\n",
      "│   caller = top-level scope at In[214]:3\n",
      "└ @ Core ./In[214]:3\n"
     ]
    }
   ],
   "source": [
    "#Data standarization\n",
    "for x in labels_real\n",
    "    df[:,x]=standarize(df[:,x])\n",
    "end"
   ]
  },
  {
   "cell_type": "code",
   "execution_count": 215,
   "metadata": {},
   "outputs": [
    {
     "data": {
      "text/plain": [
       "Dict{String,Int64} with 3 entries:\n",
       "  \"Travel_Frequently\" => 3\n",
       "  \"Travel_Rarely\"     => 2\n",
       "  \"Non-Travel\"        => 1"
      ]
     },
     "execution_count": 215,
     "metadata": {},
     "output_type": "execute_result"
    }
   ],
   "source": [
    "#Transform business travel:\n",
    "dict_travel = Dict(\"Non-Travel\" => 1, \"Travel_Rarely\" => 2, \"Travel_Frequently\" => 3)"
   ]
  },
  {
   "cell_type": "code",
   "execution_count": 216,
   "metadata": {},
   "outputs": [
    {
     "data": {
      "text/plain": [
       "4410×57 Array{Float64,2}:\n",
       " 1.0  0.0  1.0  0.0  0.0  1.0  1.0  1.0  …  0.0        0.0       1.0  1.0\n",
       " 1.0  1.0  1.0  1.0  1.0  1.0  0.0  0.0     0.0666667  0.235294  1.0  1.0\n",
       " 1.0  1.0  0.0  0.0  0.0  1.0  0.0  0.0     0.0        0.176471  0.0  1.0\n",
       " 0.0  0.0  1.0  1.0  0.0  1.0  1.0  1.0     0.466667   0.294118  0.0  1.0\n",
       " 1.0  0.0  1.0  1.0  0.0  0.0  0.0  0.0     0.0        0.235294  0.0  1.0\n",
       " 1.0  0.0  1.0  0.0  0.0  1.0  0.0  0.0  …  0.466667   0.411765  1.0  1.0\n",
       " 1.0  0.0  0.0  0.0  0.0  1.0  1.0  0.0     0.0        0.0       0.0  1.0\n",
       " 1.0  0.0  1.0  1.0  0.0  1.0  0.0  0.0     0.0        0.0       0.0  1.0\n",
       " 1.0  0.0  1.0  1.0  0.0  1.0  1.0  1.0     0.466667   0.470588  0.0  1.0\n",
       " 0.0  0.0  1.0  1.0  0.0  0.0  0.0  0.0     0.0666667  0.294118  1.0  1.0\n",
       " 1.0  0.0  1.0  1.0  0.0  1.0  1.0  1.0  …  0.266667   0.588235  0.0  1.0\n",
       " 1.0  0.0  1.0  1.0  0.0  1.0  1.0  1.0     0.666667   0.647059  0.0  1.0\n",
       " 1.0  0.0  1.0  1.0  0.0  0.0  0.0  0.0     0.266667   0.764706  1.0  1.0\n",
       " ⋮                        ⋮              ⋱                       ⋮       \n",
       " 1.0  0.0  1.0  0.0  0.0  1.0  1.0  1.0     0.0        0.117647  1.0  1.0\n",
       " 1.0  0.0  1.0  1.0  0.0  0.0  0.0  0.0     0.333333   0.529412  1.0  1.0\n",
       " 1.0  0.0  1.0  0.0  0.0  0.0  0.0  0.0  …  0.0        0.117647  1.0  1.0\n",
       " 1.0  1.0  1.0  1.0  0.0  1.0  1.0  0.0     0.0        0.117647  0.0  1.0\n",
       " 1.0  1.0  1.0  1.0  0.0  1.0  1.0  0.0     0.0        0.0       0.0  1.0\n",
       " 1.0  1.0  1.0  1.0  0.0  1.0  1.0  0.0     0.733333   0.470588  1.0  1.0\n",
       " 1.0  0.0  1.0  1.0  0.0  1.0  1.0  1.0     0.0666667  0.294118  1.0  1.0\n",
       " 1.0  0.0  1.0  1.0  0.0  0.0  0.0  0.0  …  0.0        0.117647  1.0  1.0\n",
       " 1.0  0.0  1.0  1.0  0.0  1.0  1.0  1.0     0.0        0.117647  0.0  1.0\n",
       " 1.0  0.0  1.0  1.0  0.0  1.0  1.0  0.0     0.0666667  0.117647  0.0  1.0\n",
       " 1.0  0.0  1.0  1.0  0.0  0.0  0.0  0.0     0.466667   0.470588  0.0  1.0\n",
       " 1.0  0.0  1.0  1.0  0.0  1.0  1.0  0.0     0.2        0.529412  0.0  1.0"
      ]
     },
     "execution_count": 216,
     "metadata": {},
     "output_type": "execute_result"
    }
   ],
   "source": [
    "data_from_travel=stringhot(df.BusinessTravel,dict_travel)\n",
    "data_from_rank=hcat(rankhot(df[:,:WorkLifeBalance],4),rankhot(df[:,:JobSatisfaction],4),rankhot(df[:,:JobInvolvement],4),rankhot(df[:,:PerformanceRating],4),rankhot(df[:,:JobLevel],4),rankhot(df[:,:StockOptionLevel],4))\n",
    "data_from_education=rankhot(df[:,:Education],5)\n",
    "#label_rank=[,:EnvironmentSatisfaction,:JobSatisfaction,:JobInvolvement,:PerformanceRating,:JobLevel,:StockOptionLevel] \n",
    "#data_from_rank=convert(Matrix,rankhot.(df[:,label_rank],4))\n",
    "#size(label_cat,1)+size(label_boolean,1)+size(label_dict_rank,1)+size(label_rank,1)+size(labels_real,1)\n",
    "#4 variables\n",
    "data_from_cat = hcat([onehot(df[:, label_cat[i]], cats_sets[i]) for i in 1:size(label_cat, 1)]...)\n",
    "data_from_real=convert(Matrix,df[:,labels_real])\n",
    "data_gender=gender_num.(df.Gender)\n",
    "target=attrition_num.(df.Attrition)\n",
    "target2=attrition_num2.(df.Attrition)\n",
    "data=hcat(data_from_travel,data_from_rank,data_from_education,data_from_cat,data_from_real,data_gender, ones(size(data_from_travel,1)))\n"
   ]
  },
  {
   "cell_type": "code",
   "execution_count": 217,
   "metadata": {},
   "outputs": [
    {
     "data": {
      "image/png": "[encoded data removed]"
     },
     "execution_count": 217,
     "metadata": {},
     "output_type": "execute_result"
    }
   ],
   "source": [
    "m=size(data,2)\n",
    "cor(data)\n",
    "StatsPlots.corrplot(Array(data), bins=10)"
   ]
  },
  {
   "cell_type": "code",
   "execution_count": 218,
   "metadata": {},
   "outputs": [
    {
     "data": {
      "text/plain": [
       "partitionTrainTest (generic function with 3 methods)"
      ]
     },
     "execution_count": 218,
     "metadata": {},
     "output_type": "execute_result"
    }
   ],
   "source": [
    "function partitionTrainTest(data,y,y2 ; at = 0.75)\n",
    "    n = size(data,1)\n",
    "    idx = shuffle(1:n)\n",
    "    train_idx = view(idx, 1:floor(Int, at*n))\n",
    "    test_idx = view(idx, (floor(Int, at*n)+1):n)\n",
    "    data[train_idx,:], data[test_idx,:],y[train_idx],y[test_idx],y2[train_idx],y2[test_idx]\n",
    "end\n"
   ]
  },
  {
   "cell_type": "code",
   "execution_count": 219,
   "metadata": {},
   "outputs": [
    {
     "data": {
      "text/plain": [
       "([1.0 0.0 … 0.0 1.0; 1.0 0.0 … 0.0 1.0; … ; 1.0 1.0 … 1.0 1.0; 1.0 0.0 … 0.0 1.0], [1.0 1.0 … 0.0 1.0; 1.0 0.0 … 1.0 1.0; … ; 1.0 0.0 … 0.0 1.0; 1.0 0.0 … 0.0 1.0], [-1, -1, -1, -1, -1, -1, -1, -1, -1, -1  …  -1, -1, -1, -1, -1, 1, -1, 1, -1, 1], [1, 1, 1, -1, 1, -1, 1, 1, -1, -1  …  -1, -1, -1, 1, -1, -1, -1, -1, -1, -1], [0, 0, 0, 0, 0, 0, 0, 0, 0, 0  …  0, 0, 0, 0, 0, 1, 0, 1, 0, 1], [1, 1, 1, 0, 1, 0, 1, 1, 0, 0  …  0, 0, 0, 1, 0, 0, 0, 0, 0, 0])"
      ]
     },
     "execution_count": 219,
     "metadata": {},
     "output_type": "execute_result"
    }
   ],
   "source": [
    "Xtrain,Xtest,ytrain,ytest,ytrain2,ytest2 = partitionTrainTest(data,target,target2) # 70% train"
   ]
  },
  {
   "cell_type": "code",
   "execution_count": 220,
   "metadata": {},
   "outputs": [
    {
     "data": {
      "text/plain": [
       "4410-element Array{Int64,1}:\n",
       " 0\n",
       " 1\n",
       " 0\n",
       " 0\n",
       " 0\n",
       " 0\n",
       " 1\n",
       " 0\n",
       " 0\n",
       " 0\n",
       " 0\n",
       " 0\n",
       " 0\n",
       " ⋮\n",
       " 0\n",
       " 0\n",
       " 0\n",
       " 0\n",
       " 1\n",
       " 0\n",
       " 0\n",
       " 0\n",
       " 0\n",
       " 0\n",
       " 0\n",
       " 0"
      ]
     },
     "execution_count": 220,
     "metadata": {},
     "output_type": "execute_result"
    }
   ],
   "source": [
    "target2"
   ]
  },
  {
   "cell_type": "code",
   "execution_count": 221,
   "metadata": {},
   "outputs": [
    {
     "data": {
      "text/plain": [
       "4410"
      ]
     },
     "execution_count": 221,
     "metadata": {},
     "output_type": "execute_result"
    }
   ],
   "source": [
    "n=size(data,1)"
   ]
  },
  {
   "cell_type": "code",
   "execution_count": 222,
   "metadata": {},
   "outputs": [
    {
     "data": {
      "text/plain": [
       "3307-element Array{Int64,1}:\n",
       " 0\n",
       " 0\n",
       " 0\n",
       " 0\n",
       " 0\n",
       " 0\n",
       " 0\n",
       " 0\n",
       " 0\n",
       " 0\n",
       " 0\n",
       " 0\n",
       " 0\n",
       " ⋮\n",
       " 0\n",
       " 0\n",
       " 0\n",
       " 0\n",
       " 0\n",
       " 0\n",
       " 0\n",
       " 1\n",
       " 0\n",
       " 1\n",
       " 0\n",
       " 1"
      ]
     },
     "execution_count": 222,
     "metadata": {},
     "output_type": "execute_result"
    }
   ],
   "source": [
    "ytrain2"
   ]
  },
  {
   "cell_type": "code",
   "execution_count": 223,
   "metadata": {},
   "outputs": [
    {
     "data": {
      "text/plain": [
       "57-element Array{Float64,1}:\n",
       "  0.5517818035951878    \n",
       "  0.7876233042552279    \n",
       " -0.7764225296405418    \n",
       " -0.41821092452065395   \n",
       "  0.24037756722736642   \n",
       " -0.5589396937345884    \n",
       "  0.00014972106381352316\n",
       " -0.5520950893232672    \n",
       " -0.14169166372557035   \n",
       " -0.2553578520136896    \n",
       "  0.3807521074649051    \n",
       "  0.3076815659170502    \n",
       "  0.3076815659170502    \n",
       "  ⋮                     \n",
       "  0.9900440530317981    \n",
       " -1.7621330972108233    \n",
       " -1.5779503238468395    \n",
       " -0.24758421024480298   \n",
       " -0.28985476839583063   \n",
       "  0.11749390539982994   \n",
       " -0.818902444746221     \n",
       " -0.3558952990943259    \n",
       "  1.7309883441022689    \n",
       " -2.019152006832538     \n",
       " -0.17252160427027008   \n",
       "  0.3076815659170502    "
      ]
     },
     "execution_count": 223,
     "metadata": {},
     "output_type": "execute_result"
    }
   ],
   "source": [
    "loss= 1/n*LogisticLoss()\n",
    "reg=ZeroReg()\n",
    "w_logistic = proxgrad(loss, reg, Xtrain, ytrain2, stepsize=1, maxiters=1000)"
   ]
  },
  {
   "cell_type": "code",
   "execution_count": 224,
   "metadata": {},
   "outputs": [
    {
     "data": {
      "text/plain": [
       "57-element Array{Float64,1}:\n",
       "  0.5378795910849508  \n",
       "  0.7716714095363678  \n",
       " -0.743619726986723   \n",
       " -0.41301036974497346 \n",
       "  0.23175780207432164 \n",
       " -0.5390103429688066  \n",
       " -0.009799458621731297\n",
       " -0.5396965138507436  \n",
       " -0.13785394389184416 \n",
       " -0.2429571817867441  \n",
       "  0.36415153364240066 \n",
       "  0.27876203425013896 \n",
       "  0.27876203425013896 \n",
       "  ⋮                   \n",
       "  0.936647904023147   \n",
       " -1.6549211834408684  \n",
       " -1.5024296187287431  \n",
       " -0.23434546011414464 \n",
       " -0.2706904067373479  \n",
       "  0.11296435625168122 \n",
       " -0.7697537560295848  \n",
       " -0.358264218629269   \n",
       "  1.5689212431413577  \n",
       " -1.894186717649784   \n",
       " -0.16920085150761618 \n",
       "  0.27876203425013896 "
      ]
     },
     "execution_count": 224,
     "metadata": {},
     "output_type": "execute_result"
    }
   ],
   "source": [
    "λ2 = 0.0001\n",
    "reg2 = λ2*QuadReg()\n",
    "w_logistic2 = proxgrad(loss, reg2, Xtrain, ytrain2, stepsize=1, maxiters=1000)"
   ]
  },
  {
   "cell_type": "code",
   "execution_count": 225,
   "metadata": {},
   "outputs": [
    {
     "data": {
      "text/plain": [
       "1103-element Array{Float64,1}:\n",
       "  2.075114271464146  \n",
       " -0.8692607754434485 \n",
       " -0.734506629690864  \n",
       " -1.4045290082505546 \n",
       " -0.6679509492454772 \n",
       " -2.4719773215984304 \n",
       " -0.24141301994768333\n",
       " -1.7010065318283656 \n",
       " -0.5910847472157972 \n",
       " -3.1506799734468096 \n",
       " -1.9484884280451753 \n",
       " -1.8049017714889664 \n",
       " -2.548658882114893  \n",
       "  ⋮                  \n",
       " -1.6638353819422178 \n",
       " -3.8637570768260767 \n",
       " -3.5646484946647004 \n",
       " -0.987137897516666  \n",
       " -2.868161696371819  \n",
       " -0.36976134929743737\n",
       "  0.11989318687828554\n",
       " -2.529416682970357  \n",
       " -1.2311832964282177 \n",
       " -2.652734446297061  \n",
       " -1.6669495156923835 \n",
       " -0.8953134857415963 "
      ]
     },
     "execution_count": 225,
     "metadata": {},
     "output_type": "execute_result"
    }
   ],
   "source": [
    "z1 = Xtest*w_logistic\n",
    "z2 = Xtest*w_logistic2"
   ]
  },
  {
   "cell_type": "code",
   "execution_count": 226,
   "metadata": {},
   "outputs": [
    {
     "data": {
      "image/png": "[encoded data removed]",
      "text/plain": [
       "Figure(PyObject <Figure size 640x480 with 1 Axes>)"
      ]
     },
     "metadata": {},
     "output_type": "display_data"
    },
    {
     "data": {
      "text/plain": [
       "PyObject <matplotlib.legend.Legend object at 0x288e430f0>"
      ]
     },
     "execution_count": 226,
     "metadata": {},
     "output_type": "execute_result"
    }
   ],
   "source": [
    "PyPlot.plot(z1, ytest2, \"rx\", label = L\"data $y$\")\n",
    "PyPlot.plot(sort(z1), sort(1 ./(1 .+exp.(-z1))), label = \"prediction\")\n",
    "legend()\n"
   ]
  },
  {
   "cell_type": "code",
   "execution_count": 227,
   "metadata": {},
   "outputs": [
    {
     "data": {
      "image/png": "[encoded data removed]",
      "text/plain": [
       "Figure(PyObject <Figure size 640x480 with 1 Axes>)"
      ]
     },
     "metadata": {},
     "output_type": "display_data"
    },
    {
     "data": {
      "text/plain": [
       "PyObject <matplotlib.legend.Legend object at 0x285a7ba20>"
      ]
     },
     "execution_count": 227,
     "metadata": {},
     "output_type": "execute_result"
    }
   ],
   "source": [
    "PyPlot.plot(z2, ytest2, \"rx\", label = L\"data $y$\")\n",
    "PyPlot.plot(sort(z2), sort(1 ./(1 .+exp.(-z2))), label = \"prediction\")\n",
    "legend()"
   ]
  },
  {
   "cell_type": "code",
   "execution_count": 228,
   "metadata": {},
   "outputs": [
    {
     "data": {
      "text/plain": [
       "3307-element Array{Float64,1}:\n",
       " -3.2099158362603926 \n",
       " -1.0685426612841864 \n",
       " -1.3964330457971492 \n",
       " -2.1283863509946    \n",
       " -3.985657241535972  \n",
       " -1.3507175560099807 \n",
       " -3.5838492893055327 \n",
       " -1.3441532355620216 \n",
       " -0.8787539629911076 \n",
       " -2.0026040742147977 \n",
       " -1.765811309712754  \n",
       " -3.720298046464729  \n",
       " -3.0001966397305386 \n",
       "  ⋮                  \n",
       " -4.14616535964033   \n",
       " -0.6106137229538382 \n",
       " -2.665407822155009  \n",
       " -1.8452490341959273 \n",
       " -2.3078558543969567 \n",
       " -3.0691163142494986 \n",
       " -2.1887802444897573 \n",
       " -0.04596782437035668\n",
       " -3.060003476841947  \n",
       "  1.5910614665046439 \n",
       " -0.8876505270868618 \n",
       " -4.109789423173364  "
      ]
     },
     "execution_count": 228,
     "metadata": {},
     "output_type": "execute_result"
    }
   ],
   "source": [
    "z3 = Xtrain*w_logistic"
   ]
  },
  {
   "cell_type": "code",
   "execution_count": 229,
   "metadata": {},
   "outputs": [
    {
     "data": {
      "text/plain": [
       "0.1533111581493801"
      ]
     },
     "execution_count": 229,
     "metadata": {},
     "output_type": "execute_result"
    }
   ],
   "source": [
    "ntrain=size(ytrain,1)\n",
    "(ntrain- sum((z3.>0.5).== ytrain2)) / ntrain"
   ]
  },
  {
   "cell_type": "code",
   "execution_count": 230,
   "metadata": {},
   "outputs": [
    {
     "data": {
      "text/plain": [
       "0.1441523118766999"
      ]
     },
     "execution_count": 230,
     "metadata": {},
     "output_type": "execute_result"
    }
   ],
   "source": [
    "ntest=size(ytest2,1)\n",
    "(ntest- sum((z1.>0.5).== ytest2)) / ntest"
   ]
  },
  {
   "cell_type": "code",
   "execution_count": 231,
   "metadata": {},
   "outputs": [
    {
     "data": {
      "text/plain": [
       "1103-element Array{Int64,1}:\n",
       " 1\n",
       " 1\n",
       " 1\n",
       " 0\n",
       " 1\n",
       " 0\n",
       " 1\n",
       " 1\n",
       " 0\n",
       " 0\n",
       " 0\n",
       " 0\n",
       " 0\n",
       " ⋮\n",
       " 1\n",
       " 0\n",
       " 0\n",
       " 0\n",
       " 0\n",
       " 1\n",
       " 0\n",
       " 0\n",
       " 0\n",
       " 0\n",
       " 0\n",
       " 0"
      ]
     },
     "execution_count": 231,
     "metadata": {},
     "output_type": "execute_result"
    }
   ],
   "source": [
    "sum(z1.>0)\n",
    "ytest2"
   ]
  },
  {
   "cell_type": "code",
   "execution_count": 232,
   "metadata": {},
   "outputs": [
    {
     "data": {
      "text/plain": [
       "0.9895691609977324"
      ]
     },
     "execution_count": 232,
     "metadata": {},
     "output_type": "execute_result"
    }
   ],
   "source": [
    "\n",
    "(n - sum((z3.>0.5) .== ytrain)) / n"
   ]
  },
  {
   "cell_type": "code",
   "execution_count": 233,
   "metadata": {},
   "outputs": [
    {
     "data": {
      "text/plain": [
       "0.9904761904761905"
      ]
     },
     "execution_count": 233,
     "metadata": {},
     "output_type": "execute_result"
    }
   ],
   "source": [
    "z4 = Xtrain*w_logistic2\n",
    "(n - sum((z4.>0.5) .== ytrain)) / n"
   ]
  },
  {
   "cell_type": "code",
   "execution_count": 234,
   "metadata": {},
   "outputs": [
    {
     "data": {
      "text/plain": [
       "4410-element Array{Int64,1}:\n",
       " -1\n",
       "  1\n",
       " -1\n",
       " -1\n",
       " -1\n",
       " -1\n",
       "  1\n",
       " -1\n",
       " -1\n",
       " -1\n",
       " -1\n",
       " -1\n",
       " -1\n",
       "  ⋮\n",
       " -1\n",
       " -1\n",
       " -1\n",
       " -1\n",
       "  1\n",
       " -1\n",
       " -1\n",
       " -1\n",
       " -1\n",
       " -1\n",
       " -1\n",
       " -1"
      ]
     },
     "execution_count": 234,
     "metadata": {},
     "output_type": "execute_result"
    }
   ],
   "source": [
    "target"
   ]
  },
  {
   "cell_type": "code",
   "execution_count": 235,
   "metadata": {},
   "outputs": [
    {
     "ename": "InterruptException",
     "evalue": "InterruptException:",
     "output_type": "error",
     "traceback": [
      "InterruptException:",
      "",
      "Stacktrace:",
      " [1] evaluate(::WeightedHingeLoss, ::Array{Float64,1}, ::Array{Int64,1}) at /Users/silviaruiz/.julia/packages/LowRankModels/uhtB9/src/losses.jl:653",
      " [2] evaluate at /Users/silviaruiz/HRAnalytics/proxgrad.jl:6 [inlined]",
      " [3] #proxgrad_linesearch#44(::Int64, ::Int64, ::Float64, ::Array{Float64,1}, ::ConvergenceHistory, ::typeof(proxgrad_linesearch), ::WeightedHingeLoss, ::ZeroReg, ::Array{Float64,2}, ::Array{Int64,1}) at /Users/silviaruiz/HRAnalytics/proxgrad.jl:39",
      " [4] (::getfield(Main, Symbol(\"#kw##proxgrad_linesearch\")))(::NamedTuple{(:stepsize, :maxiters),Tuple{Int64,Int64}}, ::typeof(proxgrad_linesearch), ::WeightedHingeLoss, ::ZeroReg, ::Array{Float64,2}, ::Array{Int64,1}) at ./none:0",
      " [5] #proxgrad#43(::Base.Iterators.Pairs{Symbol,Int64,Tuple{Symbol,Symbol},NamedTuple{(:stepsize, :maxiters),Tuple{Int64,Int64}}}, ::typeof(proxgrad), ::WeightedHingeLoss, ::ZeroReg, ::Vararg{Any,N} where N) at /Users/silviaruiz/HRAnalytics/proxgrad.jl:14",
      " [6] (::getfield(Main, Symbol(\"#kw##proxgrad\")))(::NamedTuple{(:stepsize, :maxiters),Tuple{Int64,Int64}}, ::typeof(proxgrad), ::WeightedHingeLoss, ::ZeroReg, ::Vararg{Any,N} where N) at ./none:0",
      " [7] top-level scope at In[235]:4"
     ]
    }
   ],
   "source": [
    "loss2 = 1/n*HingeLoss()\n",
    "λ2 = 0.01\n",
    "reg = λ2*QuadReg()\n",
    "w_hinge = proxgrad(loss2, ZeroReg(), Xtrain, ytrain, stepsize=1, maxiters=10000)"
   ]
  },
  {
   "cell_type": "code",
   "execution_count": 236,
   "metadata": {},
   "outputs": [
    {
     "data": {
      "text/plain": [
       "0.7879818594104309"
      ]
     },
     "execution_count": 236,
     "metadata": {},
     "output_type": "execute_result"
    }
   ],
   "source": [
    "(n - sum(sign.(Xtest*w_hinge) .== ytest)) / n"
   ]
  },
  {
   "cell_type": "code",
   "execution_count": 237,
   "metadata": {},
   "outputs": [
    {
     "data": {
      "text/plain": [
       "4410×58 Array{Float64,2}:\n",
       " 1.0  0.0  1.0  0.0  0.0  1.0  1.0  …  0.0        0.0       1.0  1.0  0.0\n",
       " 1.0  1.0  1.0  1.0  1.0  1.0  0.0     0.0666667  0.235294  1.0  1.0  1.0\n",
       " 1.0  1.0  0.0  0.0  0.0  1.0  0.0     0.0        0.176471  0.0  1.0  0.0\n",
       " 0.0  0.0  1.0  1.0  0.0  1.0  1.0     0.466667   0.294118  0.0  1.0  0.0\n",
       " 1.0  0.0  1.0  1.0  0.0  0.0  0.0     0.0        0.235294  0.0  1.0  0.0\n",
       " 1.0  0.0  1.0  0.0  0.0  1.0  0.0  …  0.466667   0.411765  1.0  1.0  0.0\n",
       " 1.0  0.0  0.0  0.0  0.0  1.0  1.0     0.0        0.0       0.0  1.0  1.0\n",
       " 1.0  0.0  1.0  1.0  0.0  1.0  0.0     0.0        0.0       0.0  1.0  0.0\n",
       " 1.0  0.0  1.0  1.0  0.0  1.0  1.0     0.466667   0.470588  0.0  1.0  0.0\n",
       " 0.0  0.0  1.0  1.0  0.0  0.0  0.0     0.0666667  0.294118  1.0  1.0  0.0\n",
       " 1.0  0.0  1.0  1.0  0.0  1.0  1.0  …  0.266667   0.588235  0.0  1.0  0.0\n",
       " 1.0  0.0  1.0  1.0  0.0  1.0  1.0     0.666667   0.647059  0.0  1.0  0.0\n",
       " 1.0  0.0  1.0  1.0  0.0  0.0  0.0     0.266667   0.764706  1.0  1.0  0.0\n",
       " ⋮                        ⋮         ⋱                       ⋮            \n",
       " 1.0  0.0  1.0  0.0  0.0  1.0  1.0     0.0        0.117647  1.0  1.0  0.0\n",
       " 1.0  0.0  1.0  1.0  0.0  0.0  0.0     0.333333   0.529412  1.0  1.0  0.0\n",
       " 1.0  0.0  1.0  0.0  0.0  0.0  0.0  …  0.0        0.117647  1.0  1.0  0.0\n",
       " 1.0  1.0  1.0  1.0  0.0  1.0  1.0     0.0        0.117647  0.0  1.0  0.0\n",
       " 1.0  1.0  1.0  1.0  0.0  1.0  1.0     0.0        0.0       0.0  1.0  1.0\n",
       " 1.0  1.0  1.0  1.0  0.0  1.0  1.0     0.733333   0.470588  1.0  1.0  0.0\n",
       " 1.0  0.0  1.0  1.0  0.0  1.0  1.0     0.0666667  0.294118  1.0  1.0  0.0\n",
       " 1.0  0.0  1.0  1.0  0.0  0.0  0.0  …  0.0        0.117647  1.0  1.0  0.0\n",
       " 1.0  0.0  1.0  1.0  0.0  1.0  1.0     0.0        0.117647  0.0  1.0  0.0\n",
       " 1.0  0.0  1.0  1.0  0.0  1.0  1.0     0.0666667  0.117647  0.0  1.0  0.0\n",
       " 1.0  0.0  1.0  1.0  0.0  0.0  0.0     0.466667   0.470588  0.0  1.0  0.0\n",
       " 1.0  0.0  1.0  1.0  0.0  1.0  1.0     0.2        0.529412  0.0  1.0  0.0"
      ]
     },
     "execution_count": 237,
     "metadata": {},
     "output_type": "execute_result"
    }
   ],
   "source": [
    "size(data,1)\n",
    "data2=hcat(data,target2)\n"
   ]
  },
  {
   "cell_type": "code",
   "execution_count": 238,
   "metadata": {},
   "outputs": [
    {
     "data": {
      "text/html": [
       "<table class=\"data-frame\"><thead><tr><th></th><th>x1</th><th>x2</th><th>x3</th><th>x4</th><th>x5</th><th>x6</th><th>x7</th><th>x8</th><th>x9</th></tr><tr><th></th><th>Float64</th><th>Float64</th><th>Float64</th><th>Float64</th><th>Float64</th><th>Float64</th><th>Float64</th><th>Float64</th><th>Float64</th></tr></thead><tbody><p>4,410 rows × 58 columns (omitted printing of 49 columns)</p><tr><th>1</th><td>1.0</td><td>0.0</td><td>1.0</td><td>0.0</td><td>0.0</td><td>1.0</td><td>1.0</td><td>1.0</td><td>1.0</td></tr><tr><th>2</th><td>1.0</td><td>1.0</td><td>1.0</td><td>1.0</td><td>1.0</td><td>1.0</td><td>0.0</td><td>0.0</td><td>1.0</td></tr><tr><th>3</th><td>1.0</td><td>1.0</td><td>0.0</td><td>0.0</td><td>0.0</td><td>1.0</td><td>0.0</td><td>0.0</td><td>1.0</td></tr><tr><th>4</th><td>0.0</td><td>0.0</td><td>1.0</td><td>1.0</td><td>0.0</td><td>1.0</td><td>1.0</td><td>1.0</td><td>1.0</td></tr><tr><th>5</th><td>1.0</td><td>0.0</td><td>1.0</td><td>1.0</td><td>0.0</td><td>0.0</td><td>0.0</td><td>0.0</td><td>1.0</td></tr><tr><th>6</th><td>1.0</td><td>0.0</td><td>1.0</td><td>0.0</td><td>0.0</td><td>1.0</td><td>0.0</td><td>0.0</td><td>1.0</td></tr><tr><th>7</th><td>1.0</td><td>0.0</td><td>0.0</td><td>0.0</td><td>0.0</td><td>1.0</td><td>1.0</td><td>0.0</td><td>1.0</td></tr><tr><th>8</th><td>1.0</td><td>0.0</td><td>1.0</td><td>1.0</td><td>0.0</td><td>1.0</td><td>0.0</td><td>0.0</td><td>1.0</td></tr><tr><th>9</th><td>1.0</td><td>0.0</td><td>1.0</td><td>1.0</td><td>0.0</td><td>1.0</td><td>1.0</td><td>1.0</td><td>1.0</td></tr><tr><th>10</th><td>0.0</td><td>0.0</td><td>1.0</td><td>1.0</td><td>0.0</td><td>0.0</td><td>0.0</td><td>0.0</td><td>1.0</td></tr><tr><th>11</th><td>1.0</td><td>0.0</td><td>1.0</td><td>1.0</td><td>0.0</td><td>1.0</td><td>1.0</td><td>1.0</td><td>1.0</td></tr><tr><th>12</th><td>1.0</td><td>0.0</td><td>1.0</td><td>1.0</td><td>0.0</td><td>1.0</td><td>1.0</td><td>1.0</td><td>1.0</td></tr><tr><th>13</th><td>1.0</td><td>0.0</td><td>1.0</td><td>1.0</td><td>0.0</td><td>0.0</td><td>0.0</td><td>0.0</td><td>1.0</td></tr><tr><th>14</th><td>0.0</td><td>0.0</td><td>1.0</td><td>0.0</td><td>0.0</td><td>1.0</td><td>0.0</td><td>0.0</td><td>1.0</td></tr><tr><th>15</th><td>1.0</td><td>0.0</td><td>1.0</td><td>0.0</td><td>0.0</td><td>1.0</td><td>1.0</td><td>1.0</td><td>1.0</td></tr><tr><th>16</th><td>1.0</td><td>0.0</td><td>1.0</td><td>1.0</td><td>1.0</td><td>1.0</td><td>1.0</td><td>1.0</td><td>1.0</td></tr><tr><th>17</th><td>1.0</td><td>0.0</td><td>1.0</td><td>1.0</td><td>1.0</td><td>1.0</td><td>1.0</td><td>0.0</td><td>1.0</td></tr><tr><th>18</th><td>0.0</td><td>0.0</td><td>1.0</td><td>1.0</td><td>0.0</td><td>1.0</td><td>1.0</td><td>1.0</td><td>1.0</td></tr><tr><th>19</th><td>1.0</td><td>0.0</td><td>1.0</td><td>0.0</td><td>0.0</td><td>1.0</td><td>0.0</td><td>0.0</td><td>1.0</td></tr><tr><th>20</th><td>1.0</td><td>0.0</td><td>1.0</td><td>1.0</td><td>0.0</td><td>0.0</td><td>0.0</td><td>0.0</td><td>1.0</td></tr><tr><th>21</th><td>1.0</td><td>1.0</td><td>0.0</td><td>0.0</td><td>0.0</td><td>1.0</td><td>0.0</td><td>0.0</td><td>1.0</td></tr><tr><th>22</th><td>1.0</td><td>0.0</td><td>1.0</td><td>0.0</td><td>0.0</td><td>1.0</td><td>0.0</td><td>0.0</td><td>1.0</td></tr><tr><th>23</th><td>1.0</td><td>0.0</td><td>1.0</td><td>0.0</td><td>0.0</td><td>1.0</td><td>1.0</td><td>0.0</td><td>1.0</td></tr><tr><th>24</th><td>1.0</td><td>0.0</td><td>1.0</td><td>1.0</td><td>0.0</td><td>1.0</td><td>1.0</td><td>0.0</td><td>0.0</td></tr><tr><th>25</th><td>1.0</td><td>1.0</td><td>1.0</td><td>0.0</td><td>0.0</td><td>1.0</td><td>1.0</td><td>1.0</td><td>1.0</td></tr><tr><th>26</th><td>1.0</td><td>0.0</td><td>1.0</td><td>1.0</td><td>0.0</td><td>1.0</td><td>1.0</td><td>1.0</td><td>1.0</td></tr><tr><th>27</th><td>1.0</td><td>1.0</td><td>1.0</td><td>1.0</td><td>0.0</td><td>0.0</td><td>0.0</td><td>0.0</td><td>1.0</td></tr><tr><th>28</th><td>1.0</td><td>0.0</td><td>1.0</td><td>1.0</td><td>0.0</td><td>1.0</td><td>1.0</td><td>1.0</td><td>1.0</td></tr><tr><th>29</th><td>1.0</td><td>1.0</td><td>0.0</td><td>0.0</td><td>0.0</td><td>1.0</td><td>1.0</td><td>0.0</td><td>1.0</td></tr><tr><th>30</th><td>1.0</td><td>0.0</td><td>1.0</td><td>1.0</td><td>0.0</td><td>1.0</td><td>1.0</td><td>1.0</td><td>1.0</td></tr><tr><th>&vellip;</th><td>&vellip;</td><td>&vellip;</td><td>&vellip;</td><td>&vellip;</td><td>&vellip;</td><td>&vellip;</td><td>&vellip;</td><td>&vellip;</td><td>&vellip;</td></tr></tbody></table>"
      ],
      "text/latex": [
       "\\begin{tabular}{r|cccccccccc}\n",
       "\t& x1 & x2 & x3 & x4 & x5 & x6 & x7 & x8 & x9 & \\\\\n",
       "\t\\hline\n",
       "\t& Float64 & Float64 & Float64 & Float64 & Float64 & Float64 & Float64 & Float64 & Float64 & \\\\\n",
       "\t\\hline\n",
       "\t1 & 1.0 & 0.0 & 1.0 & 0.0 & 0.0 & 1.0 & 1.0 & 1.0 & 1.0 & $\\dots$ \\\\\n",
       "\t2 & 1.0 & 1.0 & 1.0 & 1.0 & 1.0 & 1.0 & 0.0 & 0.0 & 1.0 & $\\dots$ \\\\\n",
       "\t3 & 1.0 & 1.0 & 0.0 & 0.0 & 0.0 & 1.0 & 0.0 & 0.0 & 1.0 & $\\dots$ \\\\\n",
       "\t4 & 0.0 & 0.0 & 1.0 & 1.0 & 0.0 & 1.0 & 1.0 & 1.0 & 1.0 & $\\dots$ \\\\\n",
       "\t5 & 1.0 & 0.0 & 1.0 & 1.0 & 0.0 & 0.0 & 0.0 & 0.0 & 1.0 & $\\dots$ \\\\\n",
       "\t6 & 1.0 & 0.0 & 1.0 & 0.0 & 0.0 & 1.0 & 0.0 & 0.0 & 1.0 & $\\dots$ \\\\\n",
       "\t7 & 1.0 & 0.0 & 0.0 & 0.0 & 0.0 & 1.0 & 1.0 & 0.0 & 1.0 & $\\dots$ \\\\\n",
       "\t8 & 1.0 & 0.0 & 1.0 & 1.0 & 0.0 & 1.0 & 0.0 & 0.0 & 1.0 & $\\dots$ \\\\\n",
       "\t9 & 1.0 & 0.0 & 1.0 & 1.0 & 0.0 & 1.0 & 1.0 & 1.0 & 1.0 & $\\dots$ \\\\\n",
       "\t10 & 0.0 & 0.0 & 1.0 & 1.0 & 0.0 & 0.0 & 0.0 & 0.0 & 1.0 & $\\dots$ \\\\\n",
       "\t11 & 1.0 & 0.0 & 1.0 & 1.0 & 0.0 & 1.0 & 1.0 & 1.0 & 1.0 & $\\dots$ \\\\\n",
       "\t12 & 1.0 & 0.0 & 1.0 & 1.0 & 0.0 & 1.0 & 1.0 & 1.0 & 1.0 & $\\dots$ \\\\\n",
       "\t13 & 1.0 & 0.0 & 1.0 & 1.0 & 0.0 & 0.0 & 0.0 & 0.0 & 1.0 & $\\dots$ \\\\\n",
       "\t14 & 0.0 & 0.0 & 1.0 & 0.0 & 0.0 & 1.0 & 0.0 & 0.0 & 1.0 & $\\dots$ \\\\\n",
       "\t15 & 1.0 & 0.0 & 1.0 & 0.0 & 0.0 & 1.0 & 1.0 & 1.0 & 1.0 & $\\dots$ \\\\\n",
       "\t16 & 1.0 & 0.0 & 1.0 & 1.0 & 1.0 & 1.0 & 1.0 & 1.0 & 1.0 & $\\dots$ \\\\\n",
       "\t17 & 1.0 & 0.0 & 1.0 & 1.0 & 1.0 & 1.0 & 1.0 & 0.0 & 1.0 & $\\dots$ \\\\\n",
       "\t18 & 0.0 & 0.0 & 1.0 & 1.0 & 0.0 & 1.0 & 1.0 & 1.0 & 1.0 & $\\dots$ \\\\\n",
       "\t19 & 1.0 & 0.0 & 1.0 & 0.0 & 0.0 & 1.0 & 0.0 & 0.0 & 1.0 & $\\dots$ \\\\\n",
       "\t20 & 1.0 & 0.0 & 1.0 & 1.0 & 0.0 & 0.0 & 0.0 & 0.0 & 1.0 & $\\dots$ \\\\\n",
       "\t21 & 1.0 & 1.0 & 0.0 & 0.0 & 0.0 & 1.0 & 0.0 & 0.0 & 1.0 & $\\dots$ \\\\\n",
       "\t22 & 1.0 & 0.0 & 1.0 & 0.0 & 0.0 & 1.0 & 0.0 & 0.0 & 1.0 & $\\dots$ \\\\\n",
       "\t23 & 1.0 & 0.0 & 1.0 & 0.0 & 0.0 & 1.0 & 1.0 & 0.0 & 1.0 & $\\dots$ \\\\\n",
       "\t24 & 1.0 & 0.0 & 1.0 & 1.0 & 0.0 & 1.0 & 1.0 & 0.0 & 0.0 & $\\dots$ \\\\\n",
       "\t25 & 1.0 & 1.0 & 1.0 & 0.0 & 0.0 & 1.0 & 1.0 & 1.0 & 1.0 & $\\dots$ \\\\\n",
       "\t26 & 1.0 & 0.0 & 1.0 & 1.0 & 0.0 & 1.0 & 1.0 & 1.0 & 1.0 & $\\dots$ \\\\\n",
       "\t27 & 1.0 & 1.0 & 1.0 & 1.0 & 0.0 & 0.0 & 0.0 & 0.0 & 1.0 & $\\dots$ \\\\\n",
       "\t28 & 1.0 & 0.0 & 1.0 & 1.0 & 0.0 & 1.0 & 1.0 & 1.0 & 1.0 & $\\dots$ \\\\\n",
       "\t29 & 1.0 & 1.0 & 0.0 & 0.0 & 0.0 & 1.0 & 1.0 & 0.0 & 1.0 & $\\dots$ \\\\\n",
       "\t30 & 1.0 & 0.0 & 1.0 & 1.0 & 0.0 & 1.0 & 1.0 & 1.0 & 1.0 & $\\dots$ \\\\\n",
       "\t$\\dots$ & $\\dots$ & $\\dots$ & $\\dots$ & $\\dots$ & $\\dots$ & $\\dots$ & $\\dots$ & $\\dots$ & $\\dots$ &  \\\\\n",
       "\\end{tabular}\n"
      ],
      "text/plain": [
       "4410×58 DataFrame. Omitted printing of 51 columns\n",
       "│ Row  │ x1      │ x2      │ x3      │ x4      │ x5      │ x6      │ x7      │\n",
       "│      │ \u001b[90mFloat64\u001b[39m │ \u001b[90mFloat64\u001b[39m │ \u001b[90mFloat64\u001b[39m │ \u001b[90mFloat64\u001b[39m │ \u001b[90mFloat64\u001b[39m │ \u001b[90mFloat64\u001b[39m │ \u001b[90mFloat64\u001b[39m │\n",
       "├──────┼─────────┼─────────┼─────────┼─────────┼─────────┼─────────┼─────────┤\n",
       "│ 1    │ 1.0     │ 0.0     │ 1.0     │ 0.0     │ 0.0     │ 1.0     │ 1.0     │\n",
       "│ 2    │ 1.0     │ 1.0     │ 1.0     │ 1.0     │ 1.0     │ 1.0     │ 0.0     │\n",
       "│ 3    │ 1.0     │ 1.0     │ 0.0     │ 0.0     │ 0.0     │ 1.0     │ 0.0     │\n",
       "│ 4    │ 0.0     │ 0.0     │ 1.0     │ 1.0     │ 0.0     │ 1.0     │ 1.0     │\n",
       "│ 5    │ 1.0     │ 0.0     │ 1.0     │ 1.0     │ 0.0     │ 0.0     │ 0.0     │\n",
       "│ 6    │ 1.0     │ 0.0     │ 1.0     │ 0.0     │ 0.0     │ 1.0     │ 0.0     │\n",
       "│ 7    │ 1.0     │ 0.0     │ 0.0     │ 0.0     │ 0.0     │ 1.0     │ 1.0     │\n",
       "│ 8    │ 1.0     │ 0.0     │ 1.0     │ 1.0     │ 0.0     │ 1.0     │ 0.0     │\n",
       "│ 9    │ 1.0     │ 0.0     │ 1.0     │ 1.0     │ 0.0     │ 1.0     │ 1.0     │\n",
       "│ 10   │ 0.0     │ 0.0     │ 1.0     │ 1.0     │ 0.0     │ 0.0     │ 0.0     │\n",
       "⋮\n",
       "│ 4400 │ 1.0     │ 0.0     │ 1.0     │ 1.0     │ 0.0     │ 0.0     │ 0.0     │\n",
       "│ 4401 │ 1.0     │ 0.0     │ 1.0     │ 0.0     │ 0.0     │ 0.0     │ 0.0     │\n",
       "│ 4402 │ 1.0     │ 1.0     │ 1.0     │ 1.0     │ 0.0     │ 1.0     │ 1.0     │\n",
       "│ 4403 │ 1.0     │ 1.0     │ 1.0     │ 1.0     │ 0.0     │ 1.0     │ 1.0     │\n",
       "│ 4404 │ 1.0     │ 1.0     │ 1.0     │ 1.0     │ 0.0     │ 1.0     │ 1.0     │\n",
       "│ 4405 │ 1.0     │ 0.0     │ 1.0     │ 1.0     │ 0.0     │ 1.0     │ 1.0     │\n",
       "│ 4406 │ 1.0     │ 0.0     │ 1.0     │ 1.0     │ 0.0     │ 0.0     │ 0.0     │\n",
       "│ 4407 │ 1.0     │ 0.0     │ 1.0     │ 1.0     │ 0.0     │ 1.0     │ 1.0     │\n",
       "│ 4408 │ 1.0     │ 0.0     │ 1.0     │ 1.0     │ 0.0     │ 1.0     │ 1.0     │\n",
       "│ 4409 │ 1.0     │ 0.0     │ 1.0     │ 1.0     │ 0.0     │ 0.0     │ 0.0     │\n",
       "│ 4410 │ 1.0     │ 0.0     │ 1.0     │ 1.0     │ 0.0     │ 1.0     │ 1.0     │"
      ]
     },
     "execution_count": 238,
     "metadata": {},
     "output_type": "execute_result"
    }
   ],
   "source": [
    "data3=convert(DataFrame, data2)"
   ]
  },
  {
   "cell_type": "code",
   "execution_count": 239,
   "metadata": {},
   "outputs": [
    {
     "data": {
      "text/plain": [
       "\"dataframe2.csv\""
      ]
     },
     "execution_count": 239,
     "metadata": {},
     "output_type": "execute_result"
    }
   ],
   "source": [
    "CSV.write(\"dataframe2.csv\", data3)"
   ]
  },
  {
   "cell_type": "code",
   "execution_count": 240,
   "metadata": {},
   "outputs": [],
   "source": [
    "X = convert(Array,data); #features\n",
    "y = convert(Array,target2);  #Y-values\n",
    "## To see number of training samples\n",
    "num_tr_ex = length(y); #99"
   ]
  },
  {
   "cell_type": "code",
   "execution_count": 241,
   "metadata": {},
   "outputs": [
    {
     "ename": "UndefVarError",
     "evalue": "UndefVarError: param not defined",
     "output_type": "error",
     "traceback": [
      "UndefVarError: param not defined",
      "",
      "Stacktrace:",
      " [1] top-level scope at In[241]:1"
     ]
    }
   ],
   "source": [
    "W = param(zeros(num_tr_ex))\n",
    "b = param([0.])"
   ]
  },
  {
   "cell_type": "code",
   "execution_count": 242,
   "metadata": {},
   "outputs": [
    {
     "data": {
      "text/plain": [
       "predict (generic function with 1 method)"
      ]
     },
     "execution_count": 242,
     "metadata": {},
     "output_type": "execute_result"
    }
   ],
   "source": [
    "predict(x) = NNlib.σ.(x*W .+ b)"
   ]
  },
  {
   "cell_type": "code",
   "execution_count": 243,
   "metadata": {},
   "outputs": [
    {
     "ename": "ErrorException",
     "evalue": "cannot define function loss; it already has a value",
     "output_type": "error",
     "traceback": [
      "cannot define function loss; it already has a value",
      "",
      "Stacktrace:",
      " [1] top-level scope at none:0",
      " [2] top-level scope at In[243]:1"
     ]
    }
   ],
   "source": [
    "loss(x, y) = sum(binarycrossentropy.(predict(x), y))/num_tr_ex"
   ]
  },
  {
   "cell_type": "code",
   "execution_count": 244,
   "metadata": {},
   "outputs": [
    {
     "ename": "UndefVarError",
     "evalue": "UndefVarError: W not defined",
     "output_type": "error",
     "traceback": [
      "UndefVarError: W not defined",
      "",
      "Stacktrace:",
      " [1] top-level scope at In[244]:1"
     ]
    }
   ],
   "source": [
    "par = Params([W, b])\n",
    "## Stocastic Gradient Descent with learning rate 0.01\n",
    "opt = SGD(par, 0.1; decay = 0)\n",
    "evalcb() = @show(loss(X, y))"
   ]
  },
  {
   "cell_type": "code",
   "execution_count": 245,
   "metadata": {},
   "outputs": [
    {
     "data": {
      "text/plain": [
       "57-element Array{Float64,1}:\n",
       "  0.756148461294425   \n",
       "  0.8106719871856582  \n",
       " -0.9135701658158407  \n",
       " -0.33075469566779775 \n",
       "  0.2510287177222807  \n",
       " -0.58775719377139    \n",
       "  0.060731554366250974\n",
       " -0.5549804752620507  \n",
       " -0.20696410849118987 \n",
       " -0.24417191476720954 \n",
       "  0.28539010330781134 \n",
       "  0.26010431402039935 \n",
       "  0.26010431402039935 \n",
       "  ⋮                   \n",
       "  1.0450184414946633  \n",
       " -2.0208386018563314  \n",
       " -1.4702453753940543  \n",
       " -0.13625160957686197 \n",
       " -0.22176786883016272 \n",
       "  0.2625172121024659  \n",
       " -0.9195453993991574  \n",
       " -0.33153508481396776 \n",
       "  1.9894704753014967  \n",
       " -1.9626548636758683  \n",
       " -0.10673159914691098 \n",
       "  0.26010431402039935 "
      ]
     },
     "execution_count": 245,
     "metadata": {},
     "output_type": "execute_result"
    }
   ],
   "source": [
    "w_logistic = proxgrad(1/n*LogisticLoss(),ZeroReg(),data,target2,stepsize=1,maxiters=1000)"
   ]
  },
  {
   "cell_type": "code",
   "execution_count": 246,
   "metadata": {},
   "outputs": [
    {
     "ename": "ErrorException",
     "evalue": "matplotlib 3.1.1 does not have pyplot.hold",
     "output_type": "error",
     "traceback": [
      "matplotlib 3.1.1 does not have pyplot.hold",
      "",
      "Stacktrace:",
      " [1] error(::String, ::VersionNumber, ::String, ::String) at ./error.jl:42",
      " [2] #hold#62(::Base.Iterators.Pairs{Union{},Union{},Tuple{},NamedTuple{(),Tuple{}}}, ::typeof(hold), ::Bool) at /Users/silviaruiz/.julia/packages/PyPlot/4wzW1/src/PyPlot.jl:175",
      " [3] hold at /Users/silviaruiz/.julia/packages/PyPlot/4wzW1/src/PyPlot.jl:174 [inlined]",
      " [4] #plotdata#18(::Float64, ::typeof(plotdata), ::Array{Float64,2}, ::Array{Int64,1}) at ./In[86]:3",
      " [5] plotdata(::Array{Float64,2}, ::Array{Int64,1}) at ./In[86]:3 (repeats 2 times)",
      " [6] top-level scope at In[246]:1"
     ]
    }
   ],
   "source": [
    "#plot fit\n",
    "plotdata()\n",
    "plotline(w_logistic[1:2],W_lo)\n",
    "\n",
    "\n"
   ]
  },
  {
   "cell_type": "code",
   "execution_count": 247,
   "metadata": {},
   "outputs": [
    {
     "data": {
      "text/plain": [
       "MSE (generic function with 1 method)"
      ]
     },
     "execution_count": 247,
     "metadata": {},
     "output_type": "execute_result"
    }
   ],
   "source": [
    "function MSE(y, pred)\n",
    "    return sum((y-pred).^2)/size(y,1)\n",
    "end"
   ]
  },
  {
   "cell_type": "code",
   "execution_count": 248,
   "metadata": {},
   "outputs": [
    {
     "data": {
      "text/plain": [
       "0.4612095253386308"
      ]
     },
     "execution_count": 248,
     "metadata": {},
     "output_type": "execute_result"
    }
   ],
   "source": [
    "w_linear=data\\target\n",
    "y_predict=data*w_linear\n",
    "MSE(target,data*w_linear)"
   ]
  },
  {
   "cell_type": "code",
   "execution_count": 249,
   "metadata": {},
   "outputs": [
    {
     "name": "stderr",
     "output_type": "stream",
     "text": [
      "WARNING: both StatPlots and PyPlot export \"scatter\"; uses of it in module Main must be qualified\n"
     ]
    },
    {
     "ename": "UndefVarError",
     "evalue": "UndefVarError: scatter not defined",
     "output_type": "error",
     "traceback": [
      "UndefVarError: scatter not defined",
      "",
      "Stacktrace:",
      " [1] top-level scope at In[249]:1"
     ]
    }
   ],
   "source": [
    "scatter(target[1:100],(y_predict)[1:100])"
   ]
  },
  {
   "cell_type": "code",
   "execution_count": 250,
   "metadata": {},
   "outputs": [
    {
     "data": {
      "text/plain": [
       "perceptron (generic function with 1 method)"
      ]
     },
     "execution_count": 250,
     "metadata": {},
     "output_type": "execute_result"
    }
   ],
   "source": [
    "function perceptron(X,y;\n",
    "                    maxsteps=1000, # \n",
    "                    w = rand(size(X,2))) # initial guess for w\n",
    "    t=1\n",
    "    running=true\n",
    "    while t<maxsteps && running\n",
    "        t=t+1\n",
    "        running=false\n",
    "        for i=1:size(X,1)\n",
    "            if y[i]*transpose(w)*X[i,:]<0\n",
    "                w=w+y[i]*X[i,:]\n",
    "                running=true\n",
    "            end\n",
    "        end \n",
    "    end\n",
    "    return (w,t)\n",
    "end"
   ]
  },
  {
   "cell_type": "code",
   "execution_count": 251,
   "metadata": {},
   "outputs": [
    {
     "data": {
      "text/plain": [
       "0.6503401360544218"
      ]
     },
     "execution_count": 251,
     "metadata": {},
     "output_type": "execute_result"
    }
   ],
   "source": [
    "w_final = perceptron(data,target)[1]\n",
    "y_predict=sign.(data*w_final)\n",
    "MSE(target,y_predict)"
   ]
  },
  {
   "cell_type": "code",
   "execution_count": 252,
   "metadata": {},
   "outputs": [
    {
     "data": {
      "text/plain": [
       "717.0"
      ]
     },
     "execution_count": 252,
     "metadata": {},
     "output_type": "execute_result"
    }
   ],
   "source": [
    "sum(abs.(y_predict-target))/2"
   ]
  },
  {
   "cell_type": "code",
   "execution_count": 253,
   "metadata": {},
   "outputs": [
    {
     "name": "stdout",
     "output_type": "stream",
     "text": [
      "\u001b[32m\u001b[1m Resolving\u001b[22m\u001b[39m package versions...\n",
      "\u001b[32m\u001b[1m  Updating\u001b[22m\u001b[39m `~/.julia/environments/v1.2/Project.toml`\n",
      "\u001b[90m [no changes]\u001b[39m\n",
      "\u001b[32m\u001b[1m  Updating\u001b[22m\u001b[39m `~/.julia/environments/v1.2/Manifest.toml`\n",
      "\u001b[90m [no changes]\u001b[39m\n"
     ]
    },
    {
     "data": {
      "text/plain": [
       "proxgrad_const"
      ]
     },
     "execution_count": 253,
     "metadata": {},
     "output_type": "execute_result"
    }
   ],
   "source": [
    "using PyPlot\n",
    "import Pkg; Pkg.add(\"LowRankModels\")\n",
    "# proximal gradient method\n",
    "include(\"proxgrad.jl\")"
   ]
  },
  {
   "cell_type": "code",
   "execution_count": 254,
   "metadata": {},
   "outputs": [
    {
     "data": {
      "text/plain": [
       "plotline"
      ]
     },
     "execution_count": 254,
     "metadata": {},
     "output_type": "execute_result"
    }
   ],
   "source": [
    "\"\"\"plot line w*x+b=0\"\"\"\n",
    "function plotline(w::Array{Float64,1},b::Number;\n",
    "                  xmin=-100,xmax=100,\n",
    "                  kwargs...)\n",
    "    x1samples = [xmin, xmax]\n",
    "    # w[1]*x[1]+w[2]*x[2]+b = 0\n",
    "    x2samples = (-b - w[1]*x1samples)/w[2]\n",
    "    plot(x1samples, x2samples, color=\"black\", kwargs...)\n",
    "end"
   ]
  },
  {
   "cell_type": "markdown",
   "metadata": {},
   "source": [
    "# Loss functions for classification"
   ]
  },
  {
   "cell_type": "code",
   "execution_count": 255,
   "metadata": {},
   "outputs": [
    {
     "ename": "InterruptException",
     "evalue": "InterruptException:",
     "output_type": "error",
     "traceback": [
      "InterruptException:",
      "",
      "Stacktrace:",
      " [1] Type at ./boot.jl:404 [inlined]",
      " [2] Type at ./boot.jl:413 [inlined]",
      " [3] similar at ./array.jl:318 [inlined]",
      " [4] similar at ./abstractarray.jl:629 [inlined]",
      " [5] * at /Users/sabae/buildbot/worker/package_macos64/build/usr/share/julia/stdlib/v1.2/LinearAlgebra/src/matmul.jl:47 [inlined]",
      " [6] evaluate at /Users/silviaruiz/HRAnalytics/proxgrad.jl:6 [inlined]",
      " [7] #proxgrad_linesearch#56(::Int64, ::Int64, ::Float64, ::Array{Float64,1}, ::ConvergenceHistory, ::typeof(proxgrad_linesearch), ::WeightedHingeLoss, ::ZeroReg, ::Array{Float64,2}, ::Array{Int64,1}) at /Users/silviaruiz/HRAnalytics/proxgrad.jl:39",
      " [8] (::getfield(Main, Symbol(\"#kw##proxgrad_linesearch\")))(::NamedTuple{(:stepsize, :maxiters),Tuple{Int64,Int64}}, ::typeof(proxgrad_linesearch), ::WeightedHingeLoss, ::ZeroReg, ::Array{Float64,2}, ::Array{Int64,1}) at ./none:0",
      " [9] #proxgrad#55(::Base.Iterators.Pairs{Symbol,Int64,Tuple{Symbol,Symbol},NamedTuple{(:stepsize, :maxiters),Tuple{Int64,Int64}}}, ::typeof(proxgrad), ::WeightedHingeLoss, ::ZeroReg, ::Vararg{Any,N} where N) at /Users/silviaruiz/HRAnalytics/proxgrad.jl:14",
      " [10] (::getfield(Main, Symbol(\"#kw##proxgrad\")))(::NamedTuple{(:stepsize, :maxiters),Tuple{Int64,Int64}}, ::typeof(proxgrad), ::WeightedHingeLoss, ::ZeroReg, ::Vararg{Any,N} where N) at ./none:0",
      " [11] top-level scope at In[255]:5"
     ]
    }
   ],
   "source": [
    "y=target\n",
    "n = length(y)\n",
    "Xoffset = [data ones(n)]\n",
    "loss = 1/n*HingeLoss()\n",
    "w_hinge = proxgrad(loss, ZeroReg(), Xoffset, y, stepsize=1, maxiters=50000)"
   ]
  },
  {
   "cell_type": "code",
   "execution_count": 256,
   "metadata": {},
   "outputs": [
    {
     "name": "stdout",
     "output_type": "stream",
     "text": [
      "NO"
     ]
    }
   ],
   "source": [
    "print(\"NO\")"
   ]
  },
  {
   "cell_type": "code",
   "execution_count": null,
   "metadata": {},
   "outputs": [],
   "source": []
  }
 ],
 "metadata": {
  "kernelspec": {
   "display_name": "Julia 1.2.0",
   "language": "julia",
   "name": "julia-1.2"
  },
  "language_info": {
   "file_extension": ".jl",
   "mimetype": "application/julia",
   "name": "julia",
   "version": "1.2.0"
  }
 },
 "nbformat": 4,
 "nbformat_minor": 2
}
